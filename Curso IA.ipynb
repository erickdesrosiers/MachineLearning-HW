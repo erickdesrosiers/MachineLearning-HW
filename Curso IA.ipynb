{
 "cells": [
  {
   "cell_type": "markdown",
   "source": [
    "# Curso IA"
   ],
   "metadata": {
    "collapsed": false
   },
   "id": "739c53c099dde017"
  },
  {
   "cell_type": "markdown",
   "source": [
    "## 1.Tokens"
   ],
   "metadata": {
    "collapsed": false
   },
   "id": "151342f3261a33a0"
  },
  {
   "cell_type": "markdown",
   "source": [
    "Los tokens son pequeñas unidades de datos que se utilizan para entrenar modelos de IA genérica como ChatGPT y ayudarlos a comprender y generar lenguaje. Estos datos pueden presentarse en forma de palabras completas, subpalabras y otro contenido."
   ],
   "metadata": {
    "collapsed": false
   },
   "id": "ce5b7ba1b9179d01"
  },
  {
   "cell_type": "code",
   "outputs": [
    {
     "name": "stdout",
     "output_type": "stream",
     "text": [
      "Defaulting to user installation because normal site-packages is not writeable\r\n",
      "Requirement already satisfied: nltk in /Users/erickavendanogarcia/Library/Python/3.9/lib/python/site-packages (3.9.1)\r\n",
      "Requirement already satisfied: numpy in /Users/erickavendanogarcia/Library/Python/3.9/lib/python/site-packages (1.26.4)\r\n",
      "Requirement already satisfied: regex>=2021.8.3 in /Users/erickavendanogarcia/Library/Python/3.9/lib/python/site-packages (from nltk) (2024.11.6)\r\n",
      "Requirement already satisfied: tqdm in /Users/erickavendanogarcia/Library/Python/3.9/lib/python/site-packages (from nltk) (4.67.1)\r\n",
      "Requirement already satisfied: joblib in /Users/erickavendanogarcia/Library/Python/3.9/lib/python/site-packages (from nltk) (1.4.0)\r\n",
      "Requirement already satisfied: click in /Users/erickavendanogarcia/Library/Python/3.9/lib/python/site-packages (from nltk) (8.1.8)\r\n",
      "\u001B[33mWARNING: You are using pip version 21.2.4; however, version 25.1.1 is available.\r\n",
      "You should consider upgrading via the '/Library/Developer/CommandLineTools/usr/bin/python3 -m pip install --upgrade pip' command.\u001B[0m\r\n",
      "Note: you may need to restart the kernel to use updated packages.\n"
     ]
    }
   ],
   "source": [
    "pip install nltk numpy"
   ],
   "metadata": {
    "collapsed": true,
    "ExecuteTime": {
     "end_time": "2025-06-22T18:03:42.586861Z",
     "start_time": "2025-06-22T18:03:40.822333Z"
    }
   },
   "id": "initial_id",
   "execution_count": 1
  },
  {
   "cell_type": "code",
   "outputs": [
    {
     "name": "stderr",
     "output_type": "stream",
     "text": [
      "[nltk_data] Downloading package punkt_tab to\n",
      "[nltk_data]     /Users/erickavendanogarcia/nltk_data...\n",
      "[nltk_data]   Package punkt_tab is already up-to-date!\n"
     ]
    },
    {
     "data": {
      "text/plain": "True"
     },
     "execution_count": 2,
     "metadata": {},
     "output_type": "execute_result"
    }
   ],
   "source": [
    "import nltk\n",
    "nltk.download('punkt_tab')"
   ],
   "metadata": {
    "collapsed": false,
    "ExecuteTime": {
     "end_time": "2025-06-22T18:03:43.265808Z",
     "start_time": "2025-06-22T18:03:42.590422Z"
    }
   },
   "id": "b9ad069d154a10a",
   "execution_count": 2
  },
  {
   "cell_type": "code",
   "outputs": [
    {
     "name": "stdout",
     "output_type": "stream",
     "text": [
      "Tokens: ['i', 'am', 'learning', 'generative', 'ai']\n"
     ]
    }
   ],
   "source": [
    "import nltk\n",
    "from nltk.tokenize import word_tokenize\n",
    "\n",
    "sample_text = 'I am learning Generative AI'\n",
    "tokens = nltk.word_tokenize(sample_text.lower())\n",
    "\n",
    "print('Tokens:', tokens)"
   ],
   "metadata": {
    "collapsed": false,
    "ExecuteTime": {
     "end_time": "2025-06-22T18:03:43.289045Z",
     "start_time": "2025-06-22T18:03:43.267009Z"
    }
   },
   "id": "37edf4c1c9d32975",
   "execution_count": 3
  },
  {
   "cell_type": "markdown",
   "source": [
    "utilizamos el nltk.word_tokenize() método para convertir a sample_text a minúsculas y dividirlo en una lista de tokens."
   ],
   "metadata": {
    "collapsed": false
   },
   "id": "711802a30d7827d0"
  },
  {
   "cell_type": "markdown",
   "source": [
    "Ahora mi ejercicio consta de crear mi propio Token."
   ],
   "metadata": {
    "collapsed": false
   },
   "id": "a56ff5af3e486230"
  },
  {
   "cell_type": "code",
   "outputs": [
    {
     "name": "stdout",
     "output_type": "stream",
     "text": [
      "Tokens: ['I', 'love', 'programming', '!']\n"
     ]
    }
   ],
   "source": [
    "sample_text = 'I love programming!'\n",
    "tokens = word_tokenize(sample_text)\n",
    "\n",
    "print('Tokens:', tokens)"
   ],
   "metadata": {
    "collapsed": false,
    "ExecuteTime": {
     "end_time": "2025-06-22T18:03:43.293331Z",
     "start_time": "2025-06-22T18:03:43.290919Z"
    }
   },
   "id": "61366b2eba03f113",
   "execution_count": 4
  },
  {
   "cell_type": "code",
   "outputs": [
    {
     "name": "stdout",
     "output_type": "stream",
     "text": [
      "Tokens: ['Me', 'gusta', 'la', 'topología']\n"
     ]
    }
   ],
   "source": [
    "sample_text1='Me gusta la topología'\n",
    "tokens = word_tokenize(sample_text1)\n",
    "\n",
    "print('Tokens:', tokens)"
   ],
   "metadata": {
    "collapsed": false,
    "ExecuteTime": {
     "end_time": "2025-06-22T18:03:43.296743Z",
     "start_time": "2025-06-22T18:03:43.294122Z"
    }
   },
   "id": "e853e8e7d9432e23",
   "execution_count": 5
  },
  {
   "cell_type": "markdown",
   "source": [
    "## 2. N-gramas\n",
    "Los n-gramas son secuencias de 'n' tokens de una muestra dada de texto. Esto es esencial para tareas como predecir la siguiente palabra en una oración o comprender el significado de un texto."
   ],
   "metadata": {
    "collapsed": false
   },
   "id": "3a745db2b3f7a4f9"
  },
  {
   "cell_type": "markdown",
   "source": [
    "Unigrama, para un solo carácter o palabra (por ejemplo, \"yo\").\n",
    "Bigrama, para dos caracteres o palabras consecutivos (ej. \"yo soy\").\n",
    "Trigrama, para tres caracteres o palabras consecutivos (ej. \"Yo estoy aprendiendo\")."
   ],
   "metadata": {
    "collapsed": false
   },
   "id": "e2c86e902d15847a"
  },
  {
   "cell_type": "markdown",
   "source": [
    "Los n-gramas analizan la probabilidad de ciertas secuencias de palabras según su ocurrencia, generalmente en un conjunto de datos extenso"
   ],
   "metadata": {
    "collapsed": false
   },
   "id": "c4b61511ccdab9e7"
  },
  {
   "cell_type": "code",
   "outputs": [
    {
     "name": "stdout",
     "output_type": "stream",
     "text": [
      "[('I', 'am'), ('am', 'learning'), ('learning', 'AI')]\n"
     ]
    }
   ],
   "source": [
    "#Ejemplo de cómo generar bigramas a partir de una oración:\n",
    "import nltk\n",
    "from nltk.tokenize import word_tokenize\n",
    "from nltk.util import ngrams\n",
    "\n",
    "sentence = \"I am learning AI\"\n",
    "tokens = word_tokenize(sentence)\n",
    "bigrams = list(ngrams(tokens, 2)) # Bigram\n",
    "\n",
    "print(bigrams)"
   ],
   "metadata": {
    "collapsed": false,
    "ExecuteTime": {
     "end_time": "2025-06-22T18:03:43.302018Z",
     "start_time": "2025-06-22T18:03:43.298215Z"
    }
   },
   "id": "a00bc8dbcb032bdb",
   "execution_count": 6
  },
  {
   "cell_type": "markdown",
   "source": [
    "Ejemplo de n-gramas usando la biblioteca nltk. Tokenizaremos una frase."
   ],
   "metadata": {
    "collapsed": false
   },
   "id": "8b4800c4ccc931a"
  },
  {
   "cell_type": "code",
   "outputs": [],
   "source": [
    "sample_text = 'I am learning NLP(Natural Language Processing)'\n",
    "tokens = word_tokenize(sample_text)"
   ],
   "metadata": {
    "collapsed": false,
    "ExecuteTime": {
     "end_time": "2025-06-22T18:03:43.305500Z",
     "start_time": "2025-06-22T18:03:43.303298Z"
    }
   },
   "id": "47779086ca32cc56",
   "execution_count": 7
  },
  {
   "cell_type": "code",
   "outputs": [
    {
     "name": "stdout",
     "output_type": "stream",
     "text": [
      "Unigrams: [('I',), ('am',), ('learning',), ('NLP',), ('(',), ('Natural',), ('Language',), ('Processing',), (')',)]\n",
      "Bigrams: [('I', 'am'), ('am', 'learning'), ('learning', 'NLP'), ('NLP', '('), ('(', 'Natural'), ('Natural', 'Language'), ('Language', 'Processing'), ('Processing', ')')]\n",
      "Trigrams: [('I', 'am', 'learning'), ('am', 'learning', 'NLP'), ('learning', 'NLP', '('), ('NLP', '(', 'Natural'), ('(', 'Natural', 'Language'), ('Natural', 'Language', 'Processing'), ('Language', 'Processing', ')')]\n"
     ]
    }
   ],
   "source": [
    "# Unigram\n",
    "unigrams = list(ngrams(tokens, 1))\n",
    "print('Unigrams:', unigrams)\n",
    "\n",
    "# Bigram\n",
    "bigrams = list(ngrams(tokens, 2))\n",
    "print('Bigrams:', bigrams)\n",
    "\n",
    "# Trigram\n",
    "trigrams = list(ngrams(tokens, 3))\n",
    "print('Trigrams:', trigrams)"
   ],
   "metadata": {
    "collapsed": false,
    "ExecuteTime": {
     "end_time": "2025-06-22T18:03:43.309535Z",
     "start_time": "2025-06-22T18:03:43.306489Z"
    }
   },
   "id": "7d4324855067d31e",
   "execution_count": 8
  },
  {
   "cell_type": "markdown",
   "source": [
    "## 3. Clasificación de Texto"
   ],
   "metadata": {
    "collapsed": false
   },
   "id": "bf8f96773bcfb275"
  },
  {
   "cell_type": "markdown",
   "source": [
    "La clasificación de texto implica categorizar el texto en diferentes grupos. Piénsalo como clasificar los correos electrónicos en carpetas de spam y no spam, o clasificar las noticias en secciones de deportes, política o entretenimiento.\n",
    "\n",
    "Un clasificador Naive Bayes es una herramienta sencilla y potente en el aprendizaje automático. Se basa en una regla de probabilidad básica llamada Teorema de Bayes y asume que todas las características (como las palabras en un texto) son independientes entre sí."
   ],
   "metadata": {
    "collapsed": false
   },
   "id": "b6151e7268ab17f5"
  },
  {
   "cell_type": "markdown",
   "source": [
    "El método Bayesiano Naive es eficaz para tareas como identificar correos electrónicos no deseados, analizar opiniones y clasificar documentos. Por ejemplo, si desea clasificar los correos electrónicos como \"spam\" o \"no spam\", el método Bayesiano Naive puede aprender de ejemplos y predecir la categoría de un nuevo correo electrónico basándose en patrones de palabras."
   ],
   "metadata": {
    "collapsed": false
   },
   "id": "9e1b426a3cd6fc74"
  },
  {
   "cell_type": "markdown",
   "source": [
    "Usamos la scikit-learn biblioteca para implementar el clasificador Naive Bayes. Esta biblioteca proporciona herramientas para la vectorización de texto, el entrenamiento de modelos y la evaluación. Pronto la usaremos para clasificar datos de texto"
   ],
   "metadata": {
    "collapsed": false
   },
   "id": "8c1572f40fdfbd83"
  },
  {
   "cell_type": "markdown",
   "source": [
    "### 3.1 Clases y funciones"
   ],
   "metadata": {
    "collapsed": false
   },
   "id": "b97e15559ffd0541"
  },
  {
   "cell_type": "markdown",
   "source": [
    "Hay clases y funciones que son cruciales para la clasificación de texto:\n",
    "\n",
    "CountVectorizer: Esta clase convierte datos de texto a un formato numérico que el modelo de aprendizaje automático puede comprender. Cuenta cuántas veces aparece cada palabra en el texto, convirtiéndolas en una matriz de conteos.\n",
    "\n",
    "MultinomialNB: Este es un clasificador Naive Bayes, que se utiliza para entrenar nuestro modelo en los datos de texto numérico.\n",
    "\n",
    "train_test_split: Esta función ayuda a dividir nuestro conjunto de datos en conjuntos de entrenamiento y de prueba. Se utiliza comúnmente en aprendizaje automático predictivo. El conjunto de entrenamiento se utiliza para entrenar el modelo, mientras que el conjunto de prueba se utiliza para evaluar su rendimiento. Más información aquí :\n",
    "\n",
    "Puntuación de precisión: Esta función permite medir la precisión de nuestro modelo comparando las etiquetas predichas con las reales en el conjunto de prueba. Una puntuación de precisión más alta indica un mejor rendimiento; una puntuación de 1.0 = predicciones excelentes."
   ],
   "metadata": {
    "collapsed": false
   },
   "id": "461b0b6fe8c36b12"
  },
  {
   "cell_type": "code",
   "outputs": [],
   "source": [
    "#1.Primero importamos bibliotecas\n",
    "\n",
    "from sklearn.feature_extraction.text import CountVectorizer\n",
    "from sklearn.naive_bayes import MultinomialNB\n",
    "from sklearn.model_selection import train_test_split\n",
    "from sklearn.metrics import accuracy_score"
   ],
   "metadata": {
    "collapsed": false,
    "ExecuteTime": {
     "end_time": "2025-06-22T18:03:43.314243Z",
     "start_time": "2025-06-22T18:03:43.310268Z"
    }
   },
   "id": "83cca9520fcd15c0",
   "execution_count": 9
  },
  {
   "cell_type": "code",
   "outputs": [],
   "source": [
    "#2. Preparación de los datos\n",
    "#Tenemos un conjunto de datos de textos y etiquetas correspondientes.\n",
    "\n",
    "texts = [\n",
    "    'I love programming.', 'Python is amazing.',\n",
    "    'I enjoy machine learning.', 'The weather is nice today.', 'I like algo.',\n",
    "    'Machine learning is fascinating.', 'Natural Language Processing is a part of AI.'\n",
    "]\n",
    "\n",
    "labels = [\n",
    "    'tech', 'tech', 'tech', 'non-tech', 'tech', 'tech', 'tech'\n",
    "]"
   ],
   "metadata": {
    "collapsed": false,
    "ExecuteTime": {
     "end_time": "2025-06-22T18:03:43.319541Z",
     "start_time": "2025-06-22T18:03:43.317135Z"
    }
   },
   "id": "af312ded5563528c",
   "execution_count": 10
  },
  {
   "cell_type": "code",
   "outputs": [],
   "source": [
    "#3. Convertimos el texto a datos númericos \n",
    "\n",
    "vectorizer = CountVectorizer()\n",
    "x = vectorizer.fit_transform(texts)"
   ],
   "metadata": {
    "collapsed": false,
    "ExecuteTime": {
     "end_time": "2025-06-22T18:03:43.323654Z",
     "start_time": "2025-06-22T18:03:43.320203Z"
    }
   },
   "id": "6af1e98c4292c02e",
   "execution_count": 11
  },
  {
   "cell_type": "code",
   "outputs": [
    {
     "data": {
      "text/plain": "['tech', 'tech', 'tech', 'non-tech', 'tech', 'tech', 'tech']"
     },
     "execution_count": 12,
     "metadata": {},
     "output_type": "execute_result"
    }
   ],
   "source": [
    "y=labels\n",
    "y"
   ],
   "metadata": {
    "collapsed": false,
    "ExecuteTime": {
     "end_time": "2025-06-22T18:03:43.328113Z",
     "start_time": "2025-06-22T18:03:43.324698Z"
    }
   },
   "id": "74827250b79640dd",
   "execution_count": 12
  },
  {
   "cell_type": "code",
   "outputs": [],
   "source": [
    "#4. Dividimos los datos de entrenamiento\n",
    "x_train, x_test, y_train, y_test = train_test_split(x, labels, test_size=0.2, random_state=42)"
   ],
   "metadata": {
    "collapsed": false,
    "ExecuteTime": {
     "end_time": "2025-06-22T18:03:43.332656Z",
     "start_time": "2025-06-22T18:03:43.328833Z"
    }
   },
   "id": "7d6e26a93573f24f",
   "execution_count": 13
  },
  {
   "cell_type": "code",
   "outputs": [
    {
     "data": {
      "text/plain": "['tech', 'tech', 'tech', 'non-tech', 'tech']"
     },
     "execution_count": 14,
     "metadata": {},
     "output_type": "execute_result"
    }
   ],
   "source": [
    "y_train"
   ],
   "metadata": {
    "collapsed": false,
    "ExecuteTime": {
     "end_time": "2025-06-22T18:03:43.336184Z",
     "start_time": "2025-06-22T18:03:43.333356Z"
    }
   },
   "id": "73da16e1e105a58a",
   "execution_count": 14
  },
  {
   "cell_type": "code",
   "outputs": [
    {
     "data": {
      "text/plain": "['tech', 'tech']"
     },
     "execution_count": 15,
     "metadata": {},
     "output_type": "execute_result"
    }
   ],
   "source": [
    "y_test"
   ],
   "metadata": {
    "collapsed": false,
    "ExecuteTime": {
     "end_time": "2025-06-22T18:03:43.340443Z",
     "start_time": "2025-06-22T18:03:43.336795Z"
    }
   },
   "id": "d4fc6aef8747032a",
   "execution_count": 15
  },
  {
   "cell_type": "code",
   "outputs": [
    {
     "data": {
      "text/plain": "MultinomialNB()",
      "text/html": "<style>#sk-container-id-1 {\n  /* Definition of color scheme common for light and dark mode */\n  --sklearn-color-text: black;\n  --sklearn-color-line: gray;\n  /* Definition of color scheme for unfitted estimators */\n  --sklearn-color-unfitted-level-0: #fff5e6;\n  --sklearn-color-unfitted-level-1: #f6e4d2;\n  --sklearn-color-unfitted-level-2: #ffe0b3;\n  --sklearn-color-unfitted-level-3: chocolate;\n  /* Definition of color scheme for fitted estimators */\n  --sklearn-color-fitted-level-0: #f0f8ff;\n  --sklearn-color-fitted-level-1: #d4ebff;\n  --sklearn-color-fitted-level-2: #b3dbfd;\n  --sklearn-color-fitted-level-3: cornflowerblue;\n\n  /* Specific color for light theme */\n  --sklearn-color-text-on-default-background: var(--sg-text-color, var(--theme-code-foreground, var(--jp-content-font-color1, black)));\n  --sklearn-color-background: var(--sg-background-color, var(--theme-background, var(--jp-layout-color0, white)));\n  --sklearn-color-border-box: var(--sg-text-color, var(--theme-code-foreground, var(--jp-content-font-color1, black)));\n  --sklearn-color-icon: #696969;\n\n  @media (prefers-color-scheme: dark) {\n    /* Redefinition of color scheme for dark theme */\n    --sklearn-color-text-on-default-background: var(--sg-text-color, var(--theme-code-foreground, var(--jp-content-font-color1, white)));\n    --sklearn-color-background: var(--sg-background-color, var(--theme-background, var(--jp-layout-color0, #111)));\n    --sklearn-color-border-box: var(--sg-text-color, var(--theme-code-foreground, var(--jp-content-font-color1, white)));\n    --sklearn-color-icon: #878787;\n  }\n}\n\n#sk-container-id-1 {\n  color: var(--sklearn-color-text);\n}\n\n#sk-container-id-1 pre {\n  padding: 0;\n}\n\n#sk-container-id-1 input.sk-hidden--visually {\n  border: 0;\n  clip: rect(1px 1px 1px 1px);\n  clip: rect(1px, 1px, 1px, 1px);\n  height: 1px;\n  margin: -1px;\n  overflow: hidden;\n  padding: 0;\n  position: absolute;\n  width: 1px;\n}\n\n#sk-container-id-1 div.sk-dashed-wrapped {\n  border: 1px dashed var(--sklearn-color-line);\n  margin: 0 0.4em 0.5em 0.4em;\n  box-sizing: border-box;\n  padding-bottom: 0.4em;\n  background-color: var(--sklearn-color-background);\n}\n\n#sk-container-id-1 div.sk-container {\n  /* jupyter's `normalize.less` sets `[hidden] { display: none; }`\n     but bootstrap.min.css set `[hidden] { display: none !important; }`\n     so we also need the `!important` here to be able to override the\n     default hidden behavior on the sphinx rendered scikit-learn.org.\n     See: https://github.com/scikit-learn/scikit-learn/issues/21755 */\n  display: inline-block !important;\n  position: relative;\n}\n\n#sk-container-id-1 div.sk-text-repr-fallback {\n  display: none;\n}\n\ndiv.sk-parallel-item,\ndiv.sk-serial,\ndiv.sk-item {\n  /* draw centered vertical line to link estimators */\n  background-image: linear-gradient(var(--sklearn-color-text-on-default-background), var(--sklearn-color-text-on-default-background));\n  background-size: 2px 100%;\n  background-repeat: no-repeat;\n  background-position: center center;\n}\n\n/* Parallel-specific style estimator block */\n\n#sk-container-id-1 div.sk-parallel-item::after {\n  content: \"\";\n  width: 100%;\n  border-bottom: 2px solid var(--sklearn-color-text-on-default-background);\n  flex-grow: 1;\n}\n\n#sk-container-id-1 div.sk-parallel {\n  display: flex;\n  align-items: stretch;\n  justify-content: center;\n  background-color: var(--sklearn-color-background);\n  position: relative;\n}\n\n#sk-container-id-1 div.sk-parallel-item {\n  display: flex;\n  flex-direction: column;\n}\n\n#sk-container-id-1 div.sk-parallel-item:first-child::after {\n  align-self: flex-end;\n  width: 50%;\n}\n\n#sk-container-id-1 div.sk-parallel-item:last-child::after {\n  align-self: flex-start;\n  width: 50%;\n}\n\n#sk-container-id-1 div.sk-parallel-item:only-child::after {\n  width: 0;\n}\n\n/* Serial-specific style estimator block */\n\n#sk-container-id-1 div.sk-serial {\n  display: flex;\n  flex-direction: column;\n  align-items: center;\n  background-color: var(--sklearn-color-background);\n  padding-right: 1em;\n  padding-left: 1em;\n}\n\n\n/* Toggleable style: style used for estimator/Pipeline/ColumnTransformer box that is\nclickable and can be expanded/collapsed.\n- Pipeline and ColumnTransformer use this feature and define the default style\n- Estimators will overwrite some part of the style using the `sk-estimator` class\n*/\n\n/* Pipeline and ColumnTransformer style (default) */\n\n#sk-container-id-1 div.sk-toggleable {\n  /* Default theme specific background. It is overwritten whether we have a\n  specific estimator or a Pipeline/ColumnTransformer */\n  background-color: var(--sklearn-color-background);\n}\n\n/* Toggleable label */\n#sk-container-id-1 label.sk-toggleable__label {\n  cursor: pointer;\n  display: block;\n  width: 100%;\n  margin-bottom: 0;\n  padding: 0.5em;\n  box-sizing: border-box;\n  text-align: center;\n}\n\n#sk-container-id-1 label.sk-toggleable__label-arrow:before {\n  /* Arrow on the left of the label */\n  content: \"▸\";\n  float: left;\n  margin-right: 0.25em;\n  color: var(--sklearn-color-icon);\n}\n\n#sk-container-id-1 label.sk-toggleable__label-arrow:hover:before {\n  color: var(--sklearn-color-text);\n}\n\n/* Toggleable content - dropdown */\n\n#sk-container-id-1 div.sk-toggleable__content {\n  max-height: 0;\n  max-width: 0;\n  overflow: hidden;\n  text-align: left;\n  /* unfitted */\n  background-color: var(--sklearn-color-unfitted-level-0);\n}\n\n#sk-container-id-1 div.sk-toggleable__content.fitted {\n  /* fitted */\n  background-color: var(--sklearn-color-fitted-level-0);\n}\n\n#sk-container-id-1 div.sk-toggleable__content pre {\n  margin: 0.2em;\n  border-radius: 0.25em;\n  color: var(--sklearn-color-text);\n  /* unfitted */\n  background-color: var(--sklearn-color-unfitted-level-0);\n}\n\n#sk-container-id-1 div.sk-toggleable__content.fitted pre {\n  /* unfitted */\n  background-color: var(--sklearn-color-fitted-level-0);\n}\n\n#sk-container-id-1 input.sk-toggleable__control:checked~div.sk-toggleable__content {\n  /* Expand drop-down */\n  max-height: 200px;\n  max-width: 100%;\n  overflow: auto;\n}\n\n#sk-container-id-1 input.sk-toggleable__control:checked~label.sk-toggleable__label-arrow:before {\n  content: \"▾\";\n}\n\n/* Pipeline/ColumnTransformer-specific style */\n\n#sk-container-id-1 div.sk-label input.sk-toggleable__control:checked~label.sk-toggleable__label {\n  color: var(--sklearn-color-text);\n  background-color: var(--sklearn-color-unfitted-level-2);\n}\n\n#sk-container-id-1 div.sk-label.fitted input.sk-toggleable__control:checked~label.sk-toggleable__label {\n  background-color: var(--sklearn-color-fitted-level-2);\n}\n\n/* Estimator-specific style */\n\n/* Colorize estimator box */\n#sk-container-id-1 div.sk-estimator input.sk-toggleable__control:checked~label.sk-toggleable__label {\n  /* unfitted */\n  background-color: var(--sklearn-color-unfitted-level-2);\n}\n\n#sk-container-id-1 div.sk-estimator.fitted input.sk-toggleable__control:checked~label.sk-toggleable__label {\n  /* fitted */\n  background-color: var(--sklearn-color-fitted-level-2);\n}\n\n#sk-container-id-1 div.sk-label label.sk-toggleable__label,\n#sk-container-id-1 div.sk-label label {\n  /* The background is the default theme color */\n  color: var(--sklearn-color-text-on-default-background);\n}\n\n/* On hover, darken the color of the background */\n#sk-container-id-1 div.sk-label:hover label.sk-toggleable__label {\n  color: var(--sklearn-color-text);\n  background-color: var(--sklearn-color-unfitted-level-2);\n}\n\n/* Label box, darken color on hover, fitted */\n#sk-container-id-1 div.sk-label.fitted:hover label.sk-toggleable__label.fitted {\n  color: var(--sklearn-color-text);\n  background-color: var(--sklearn-color-fitted-level-2);\n}\n\n/* Estimator label */\n\n#sk-container-id-1 div.sk-label label {\n  font-family: monospace;\n  font-weight: bold;\n  display: inline-block;\n  line-height: 1.2em;\n}\n\n#sk-container-id-1 div.sk-label-container {\n  text-align: center;\n}\n\n/* Estimator-specific */\n#sk-container-id-1 div.sk-estimator {\n  font-family: monospace;\n  border: 1px dotted var(--sklearn-color-border-box);\n  border-radius: 0.25em;\n  box-sizing: border-box;\n  margin-bottom: 0.5em;\n  /* unfitted */\n  background-color: var(--sklearn-color-unfitted-level-0);\n}\n\n#sk-container-id-1 div.sk-estimator.fitted {\n  /* fitted */\n  background-color: var(--sklearn-color-fitted-level-0);\n}\n\n/* on hover */\n#sk-container-id-1 div.sk-estimator:hover {\n  /* unfitted */\n  background-color: var(--sklearn-color-unfitted-level-2);\n}\n\n#sk-container-id-1 div.sk-estimator.fitted:hover {\n  /* fitted */\n  background-color: var(--sklearn-color-fitted-level-2);\n}\n\n/* Specification for estimator info (e.g. \"i\" and \"?\") */\n\n/* Common style for \"i\" and \"?\" */\n\n.sk-estimator-doc-link,\na:link.sk-estimator-doc-link,\na:visited.sk-estimator-doc-link {\n  float: right;\n  font-size: smaller;\n  line-height: 1em;\n  font-family: monospace;\n  background-color: var(--sklearn-color-background);\n  border-radius: 1em;\n  height: 1em;\n  width: 1em;\n  text-decoration: none !important;\n  margin-left: 1ex;\n  /* unfitted */\n  border: var(--sklearn-color-unfitted-level-1) 1pt solid;\n  color: var(--sklearn-color-unfitted-level-1);\n}\n\n.sk-estimator-doc-link.fitted,\na:link.sk-estimator-doc-link.fitted,\na:visited.sk-estimator-doc-link.fitted {\n  /* fitted */\n  border: var(--sklearn-color-fitted-level-1) 1pt solid;\n  color: var(--sklearn-color-fitted-level-1);\n}\n\n/* On hover */\ndiv.sk-estimator:hover .sk-estimator-doc-link:hover,\n.sk-estimator-doc-link:hover,\ndiv.sk-label-container:hover .sk-estimator-doc-link:hover,\n.sk-estimator-doc-link:hover {\n  /* unfitted */\n  background-color: var(--sklearn-color-unfitted-level-3);\n  color: var(--sklearn-color-background);\n  text-decoration: none;\n}\n\ndiv.sk-estimator.fitted:hover .sk-estimator-doc-link.fitted:hover,\n.sk-estimator-doc-link.fitted:hover,\ndiv.sk-label-container:hover .sk-estimator-doc-link.fitted:hover,\n.sk-estimator-doc-link.fitted:hover {\n  /* fitted */\n  background-color: var(--sklearn-color-fitted-level-3);\n  color: var(--sklearn-color-background);\n  text-decoration: none;\n}\n\n/* Span, style for the box shown on hovering the info icon */\n.sk-estimator-doc-link span {\n  display: none;\n  z-index: 9999;\n  position: relative;\n  font-weight: normal;\n  right: .2ex;\n  padding: .5ex;\n  margin: .5ex;\n  width: min-content;\n  min-width: 20ex;\n  max-width: 50ex;\n  color: var(--sklearn-color-text);\n  box-shadow: 2pt 2pt 4pt #999;\n  /* unfitted */\n  background: var(--sklearn-color-unfitted-level-0);\n  border: .5pt solid var(--sklearn-color-unfitted-level-3);\n}\n\n.sk-estimator-doc-link.fitted span {\n  /* fitted */\n  background: var(--sklearn-color-fitted-level-0);\n  border: var(--sklearn-color-fitted-level-3);\n}\n\n.sk-estimator-doc-link:hover span {\n  display: block;\n}\n\n/* \"?\"-specific style due to the `<a>` HTML tag */\n\n#sk-container-id-1 a.estimator_doc_link {\n  float: right;\n  font-size: 1rem;\n  line-height: 1em;\n  font-family: monospace;\n  background-color: var(--sklearn-color-background);\n  border-radius: 1rem;\n  height: 1rem;\n  width: 1rem;\n  text-decoration: none;\n  /* unfitted */\n  color: var(--sklearn-color-unfitted-level-1);\n  border: var(--sklearn-color-unfitted-level-1) 1pt solid;\n}\n\n#sk-container-id-1 a.estimator_doc_link.fitted {\n  /* fitted */\n  border: var(--sklearn-color-fitted-level-1) 1pt solid;\n  color: var(--sklearn-color-fitted-level-1);\n}\n\n/* On hover */\n#sk-container-id-1 a.estimator_doc_link:hover {\n  /* unfitted */\n  background-color: var(--sklearn-color-unfitted-level-3);\n  color: var(--sklearn-color-background);\n  text-decoration: none;\n}\n\n#sk-container-id-1 a.estimator_doc_link.fitted:hover {\n  /* fitted */\n  background-color: var(--sklearn-color-fitted-level-3);\n}\n</style><div id=\"sk-container-id-1\" class=\"sk-top-container\"><div class=\"sk-text-repr-fallback\"><pre>MultinomialNB()</pre><b>In a Jupyter environment, please rerun this cell to show the HTML representation or trust the notebook. <br />On GitHub, the HTML representation is unable to render, please try loading this page with nbviewer.org.</b></div><div class=\"sk-container\" hidden><div class=\"sk-item\"><div class=\"sk-estimator fitted sk-toggleable\"><input class=\"sk-toggleable__control sk-hidden--visually\" id=\"sk-estimator-id-1\" type=\"checkbox\" checked><label for=\"sk-estimator-id-1\" class=\"sk-toggleable__label fitted sk-toggleable__label-arrow fitted\">&nbsp;&nbsp;MultinomialNB<a class=\"sk-estimator-doc-link fitted\" rel=\"noreferrer\" target=\"_blank\" href=\"https://scikit-learn.org/1.4/modules/generated/sklearn.naive_bayes.MultinomialNB.html\">?<span>Documentation for MultinomialNB</span></a><span class=\"sk-estimator-doc-link fitted\">i<span>Fitted</span></span></label><div class=\"sk-toggleable__content fitted\"><pre>MultinomialNB()</pre></div> </div></div></div></div>"
     },
     "execution_count": 16,
     "metadata": {},
     "output_type": "execute_result"
    }
   ],
   "source": [
    "#5. Entrenar el modelo Bayesiano\n",
    "model = MultinomialNB()\n",
    "model.fit(x_train, y_train)"
   ],
   "metadata": {
    "collapsed": false,
    "ExecuteTime": {
     "end_time": "2025-06-22T18:03:43.346726Z",
     "start_time": "2025-06-22T18:03:43.341424Z"
    }
   },
   "id": "c12e1c6f4530bb8d",
   "execution_count": 16
  },
  {
   "cell_type": "code",
   "outputs": [],
   "source": [
    "#6. Hacer predicciones del conjunto de prueba\n",
    "y_pred = model.predict(x_test)"
   ],
   "metadata": {
    "collapsed": false,
    "ExecuteTime": {
     "end_time": "2025-06-22T18:03:43.350135Z",
     "start_time": "2025-06-22T18:03:43.347984Z"
    }
   },
   "id": "87bf897d1cf8612b",
   "execution_count": 17
  },
  {
   "cell_type": "code",
   "outputs": [
    {
     "data": {
      "text/plain": "array(['tech', 'tech'], dtype='<U8')"
     },
     "execution_count": 18,
     "metadata": {},
     "output_type": "execute_result"
    }
   ],
   "source": [
    "y_pred"
   ],
   "metadata": {
    "collapsed": false,
    "ExecuteTime": {
     "end_time": "2025-06-22T18:03:43.354286Z",
     "start_time": "2025-06-22T18:03:43.351342Z"
    }
   },
   "id": "9559c4307826dbbf",
   "execution_count": 18
  },
  {
   "cell_type": "code",
   "outputs": [
    {
     "name": "stdout",
     "output_type": "stream",
     "text": [
      "Accuracy: 1.0\n"
     ]
    }
   ],
   "source": [
    "accuracy = accuracy_score(y_test, y_pred)\n",
    "print(\"Accuracy:\", accuracy)"
   ],
   "metadata": {
    "collapsed": false,
    "ExecuteTime": {
     "end_time": "2025-06-22T18:03:43.357675Z",
     "start_time": "2025-06-22T18:03:43.355058Z"
    }
   },
   "id": "532f1ecc64b6d9b1",
   "execution_count": 19
  },
  {
   "cell_type": "markdown",
   "source": [
    "## 4. Traducción Automática"
   ],
   "metadata": {
    "collapsed": false
   },
   "id": "a06e0a64f6b0dc7a"
  },
  {
   "cell_type": "code",
   "outputs": [
    {
     "name": "stdout",
     "output_type": "stream",
     "text": [
      "Defaulting to user installation because normal site-packages is not writeable\r\n",
      "Requirement already satisfied: translate in /Users/erickavendanogarcia/Library/Python/3.9/lib/python/site-packages (3.6.1)\r\n",
      "Requirement already satisfied: requests in /Library/Python/3.9/site-packages (from translate) (2.32.3)\r\n",
      "Requirement already satisfied: lxml in /Library/Python/3.9/site-packages (from translate) (5.3.0)\r\n",
      "Requirement already satisfied: libretranslatepy==2.1.1 in /Users/erickavendanogarcia/Library/Python/3.9/lib/python/site-packages (from translate) (2.1.1)\r\n",
      "Requirement already satisfied: click in /Users/erickavendanogarcia/Library/Python/3.9/lib/python/site-packages (from translate) (8.1.8)\r\n",
      "Requirement already satisfied: urllib3<3,>=1.21.1 in /Library/Python/3.9/site-packages (from requests->translate) (2.2.3)\r\n",
      "Requirement already satisfied: idna<4,>=2.5 in /Library/Python/3.9/site-packages (from requests->translate) (3.10)\r\n",
      "Requirement already satisfied: certifi>=2017.4.17 in /Library/Python/3.9/site-packages (from requests->translate) (2024.8.30)\r\n",
      "Requirement already satisfied: charset-normalizer<4,>=2 in /Library/Python/3.9/site-packages (from requests->translate) (3.3.2)\r\n",
      "\u001B[33mWARNING: You are using pip version 21.2.4; however, version 25.1.1 is available.\r\n",
      "You should consider upgrading via the '/Library/Developer/CommandLineTools/usr/bin/python3 -m pip install --upgrade pip' command.\u001B[0m\r\n",
      "Note: you may need to restart the kernel to use updated packages.\n"
     ]
    }
   ],
   "source": [
    "pip install translate"
   ],
   "metadata": {
    "collapsed": false,
    "ExecuteTime": {
     "end_time": "2025-06-22T18:03:44.486446Z",
     "start_time": "2025-06-22T18:03:43.358435Z"
    }
   },
   "id": "d9bc5e22971a2d28",
   "execution_count": 20
  },
  {
   "cell_type": "code",
   "outputs": [
    {
     "name": "stderr",
     "output_type": "stream",
     "text": [
      "/Library/Python/3.9/site-packages/urllib3/__init__.py:35: NotOpenSSLWarning: urllib3 v2 only supports OpenSSL 1.1.1+, currently the 'ssl' module is compiled with 'LibreSSL 2.8.3'. See: https://github.com/urllib3/urllib3/issues/3020\n",
      "  warnings.warn(\n"
     ]
    }
   ],
   "source": [
    "from translate import Translator"
   ],
   "metadata": {
    "collapsed": false,
    "ExecuteTime": {
     "end_time": "2025-06-22T18:03:44.550600Z",
     "start_time": "2025-06-22T18:03:44.487316Z"
    }
   },
   "id": "58d9e361070e29d6",
   "execution_count": 21
  },
  {
   "cell_type": "code",
   "outputs": [],
   "source": [
    "#Creamos un objeto traductor\n",
    "translator = Translator(to_lang='es')  # Spanish"
   ],
   "metadata": {
    "collapsed": false,
    "ExecuteTime": {
     "end_time": "2025-06-22T18:03:44.553171Z",
     "start_time": "2025-06-22T18:03:44.551295Z"
    }
   },
   "id": "af100783e64c21a3",
   "execution_count": 22
  },
  {
   "cell_type": "code",
   "outputs": [
    {
     "name": "stdout",
     "output_type": "stream",
     "text": [
      "Translated Text: Hola, ¿cómo estás?\n"
     ]
    }
   ],
   "source": [
    "# Text to be translated\n",
    "text = 'Hello, how are you?'\n",
    "# Perform the translation\n",
    "translation = translator.translate(text)\n",
    "\n",
    "# Print the translated text\n",
    "print('Translated Text:', translation)"
   ],
   "metadata": {
    "collapsed": false,
    "ExecuteTime": {
     "end_time": "2025-06-22T18:03:45.998683Z",
     "start_time": "2025-06-22T18:03:44.554069Z"
    }
   },
   "id": "670388d62ec8ac9d",
   "execution_count": 23
  },
  {
   "cell_type": "markdown",
   "source": [
    "## 5. Corrector ortográfico"
   ],
   "metadata": {
    "collapsed": false
   },
   "id": "b118a5603a63f128"
  },
  {
   "cell_type": "markdown",
   "source": [
    "\n",
    "La TextBlobbiblioteca es una herramienta clave para el procesamiento del lenguaje natural y el análisis de texto. Simplifica el procesamiento de texto, facilitando el trabajo con datos textuales"
   ],
   "metadata": {
    "collapsed": false
   },
   "id": "bcb6fc8671c78132"
  },
  {
   "cell_type": "markdown",
   "source": [
    "¿Por qué TextBlobhay una vibración?\n",
    "\n",
    "Fácil de usar: TextBlob es sencillo y le permite realizar tareas como análisis de sentimientos, etiquetado de partes del discurso y traducción de texto con solo unas pocas líneas de código.\n",
    "Corrección y corrección ortográfica: incluye funciones integradas de corrección y corrección ortográfica.\n",
    "Análisis de texto: puede analizar el texto para extraer información útil, como determinar su sentimiento (positivo, negativo o neutral) y resumir los datos del texto."
   ],
   "metadata": {
    "collapsed": false
   },
   "id": "c33ed81752db09c8"
  },
  {
   "cell_type": "code",
   "outputs": [
    {
     "name": "stdout",
     "output_type": "stream",
     "text": [
      "Defaulting to user installation because normal site-packages is not writeable\r\n",
      "Requirement already satisfied: textblob in /Users/erickavendanogarcia/Library/Python/3.9/lib/python/site-packages (0.19.0)\r\n",
      "Requirement already satisfied: nltk>=3.9 in /Users/erickavendanogarcia/Library/Python/3.9/lib/python/site-packages (from textblob) (3.9.1)\r\n",
      "Requirement already satisfied: click in /Users/erickavendanogarcia/Library/Python/3.9/lib/python/site-packages (from nltk>=3.9->textblob) (8.1.8)\r\n",
      "Requirement already satisfied: regex>=2021.8.3 in /Users/erickavendanogarcia/Library/Python/3.9/lib/python/site-packages (from nltk>=3.9->textblob) (2024.11.6)\r\n",
      "Requirement already satisfied: joblib in /Users/erickavendanogarcia/Library/Python/3.9/lib/python/site-packages (from nltk>=3.9->textblob) (1.4.0)\r\n",
      "Requirement already satisfied: tqdm in /Users/erickavendanogarcia/Library/Python/3.9/lib/python/site-packages (from nltk>=3.9->textblob) (4.67.1)\r\n",
      "\u001B[33mWARNING: You are using pip version 21.2.4; however, version 25.1.1 is available.\r\n",
      "You should consider upgrading via the '/Library/Developer/CommandLineTools/usr/bin/python3 -m pip install --upgrade pip' command.\u001B[0m\r\n",
      "Note: you may need to restart the kernel to use updated packages.\n"
     ]
    }
   ],
   "source": [
    "pip install textblob"
   ],
   "metadata": {
    "collapsed": false,
    "ExecuteTime": {
     "end_time": "2025-06-22T18:03:47.139268Z",
     "start_time": "2025-06-22T18:03:46.000834Z"
    }
   },
   "id": "a9981cf9110652d5",
   "execution_count": 24
  },
  {
   "cell_type": "code",
   "outputs": [],
   "source": [
    "from textblob import TextBlob"
   ],
   "metadata": {
    "collapsed": false,
    "ExecuteTime": {
     "end_time": "2025-06-22T18:03:47.163210Z",
     "start_time": "2025-06-22T18:03:47.140508Z"
    }
   },
   "id": "f27e1f215adc903d",
   "execution_count": 25
  },
  {
   "cell_type": "code",
   "outputs": [],
   "source": [
    "#Hay que cometer un error para que corra\n",
    "text = 'I love progamming and machine learnig.'"
   ],
   "metadata": {
    "collapsed": false,
    "ExecuteTime": {
     "end_time": "2025-06-22T18:03:47.167895Z",
     "start_time": "2025-06-22T18:03:47.164046Z"
    }
   },
   "id": "81417f2c98f01601",
   "execution_count": 26
  },
  {
   "cell_type": "code",
   "outputs": [],
   "source": [
    "#Crear un TextBlob con el texto\n",
    "blob = TextBlob(text)"
   ],
   "metadata": {
    "collapsed": false,
    "ExecuteTime": {
     "end_time": "2025-06-22T18:03:47.170797Z",
     "start_time": "2025-06-22T18:03:47.168793Z"
    }
   },
   "id": "610ec21603e3c2e",
   "execution_count": 27
  },
  {
   "cell_type": "code",
   "outputs": [
    {
     "name": "stdout",
     "output_type": "stream",
     "text": [
      "Original Text: I love progamming and machine learnig.\n",
      "Corrected Text: I love programming and machine learning.\n"
     ]
    }
   ],
   "source": [
    "corrected_text = blob.correct() #se aplica la función para corregir\n",
    "\n",
    "# Print the corrected text\n",
    "print('Original Text:', text)\n",
    "print('Corrected Text:', corrected_text)"
   ],
   "metadata": {
    "collapsed": false,
    "ExecuteTime": {
     "end_time": "2025-06-22T18:03:47.203169Z",
     "start_time": "2025-06-22T18:03:47.174812Z"
    }
   },
   "id": "add751ab84fe17ec",
   "execution_count": 28
  },
  {
   "cell_type": "markdown",
   "source": [
    "## 6. ¿Qué son las vibes?\n",
    "El ejercicio será determinar si las reseñas son positivas o negativas, con ello predecir si a la gente le gustó o no la película."
   ],
   "metadata": {
    "collapsed": false
   },
   "id": "49faa12f1b523176"
  },
  {
   "cell_type": "code",
   "outputs": [],
   "source": [
    "#1. Configuramos el entorno\n",
    "from sklearn.feature_extraction.text import CountVectorizer\n",
    "from sklearn.naive_bayes import MultinomialNB\n",
    "from sklearn.model_selection import train_test_split\n",
    "from sklearn.metrics import accuracy_score"
   ],
   "metadata": {
    "collapsed": false,
    "ExecuteTime": {
     "end_time": "2025-06-22T18:03:47.207092Z",
     "start_time": "2025-06-22T18:03:47.204533Z"
    }
   },
   "id": "b3aa9ad197f0b42b",
   "execution_count": 29
  },
  {
   "cell_type": "markdown",
   "source": [
    "Reuniremos algunos datos de reseñas de películas, preguntar a amigos o elegir las mejores reseñas en línea.\n",
    "\n",
    "Después etiquetaremos cada reseña como \"positiva\" o \"negativa\""
   ],
   "metadata": {
    "collapsed": false
   },
   "id": "aa679caf92802284"
  },
  {
   "cell_type": "code",
   "outputs": [],
   "source": [
    "# Nuevas reseñas\n",
    "reviews = [\n",
    "    'An absolute masterpiece. I was captivated from start to finish.',  # positive\n",
    "    'Terrible acting and weak dialogue.',                               # negative\n",
    "    'One of the best films I’ve seen this year.',                      # positive\n",
    "    'Too slow and boring. I fell asleep.',                             # negative\n",
    "    'The music and visuals were stunning.',                            # positive\n",
    "    'Poorly written and poorly executed.',                             # negative\n",
    "    'A beautiful story that touched my heart.',                        # positive\n",
    "    'I regret spending money on this movie.',                          # negative\n",
    "    'Excellent performances and a moving plot.',                       # positive\n",
    "    'Just another cliché-ridden, forgettable flick.'                   # negative\n",
    "]\n",
    "\n",
    "labels = [\n",
    "    'positive', 'negative', 'positive', 'negative', 'positive',\n",
    "    'negative', 'positive', 'negative', 'positive', 'negative'\n",
    "]\n"
   ],
   "metadata": {
    "collapsed": false,
    "ExecuteTime": {
     "end_time": "2025-06-22T18:03:47.210520Z",
     "start_time": "2025-06-22T18:03:47.207786Z"
    }
   },
   "id": "6cdf7294be57b905",
   "execution_count": 30
  },
  {
   "cell_type": "code",
   "outputs": [],
   "source": [
    "#4. Vectorizar los datos de texto\n",
    "vectorizer = CountVectorizer()\n",
    "x = vectorizer.fit_transform(reviews)"
   ],
   "metadata": {
    "collapsed": false,
    "ExecuteTime": {
     "end_time": "2025-06-22T18:03:47.216167Z",
     "start_time": "2025-06-22T18:03:47.211398Z"
    }
   },
   "id": "68a98b26242c3ede",
   "execution_count": 31
  },
  {
   "cell_type": "code",
   "outputs": [],
   "source": [
    "#5. Dividir los datos \n",
    "\n",
    "x_train, x_test, y_train, y_test = train_test_split(x, labels, test_size=0.2, random_state=42)"
   ],
   "metadata": {
    "collapsed": false,
    "ExecuteTime": {
     "end_time": "2025-06-22T18:03:47.221074Z",
     "start_time": "2025-06-22T18:03:47.216900Z"
    }
   },
   "id": "d7cc6dbde65b3e4a",
   "execution_count": 32
  },
  {
   "cell_type": "code",
   "outputs": [
    {
     "data": {
      "text/plain": "MultinomialNB()",
      "text/html": "<style>#sk-container-id-2 {\n  /* Definition of color scheme common for light and dark mode */\n  --sklearn-color-text: black;\n  --sklearn-color-line: gray;\n  /* Definition of color scheme for unfitted estimators */\n  --sklearn-color-unfitted-level-0: #fff5e6;\n  --sklearn-color-unfitted-level-1: #f6e4d2;\n  --sklearn-color-unfitted-level-2: #ffe0b3;\n  --sklearn-color-unfitted-level-3: chocolate;\n  /* Definition of color scheme for fitted estimators */\n  --sklearn-color-fitted-level-0: #f0f8ff;\n  --sklearn-color-fitted-level-1: #d4ebff;\n  --sklearn-color-fitted-level-2: #b3dbfd;\n  --sklearn-color-fitted-level-3: cornflowerblue;\n\n  /* Specific color for light theme */\n  --sklearn-color-text-on-default-background: var(--sg-text-color, var(--theme-code-foreground, var(--jp-content-font-color1, black)));\n  --sklearn-color-background: var(--sg-background-color, var(--theme-background, var(--jp-layout-color0, white)));\n  --sklearn-color-border-box: var(--sg-text-color, var(--theme-code-foreground, var(--jp-content-font-color1, black)));\n  --sklearn-color-icon: #696969;\n\n  @media (prefers-color-scheme: dark) {\n    /* Redefinition of color scheme for dark theme */\n    --sklearn-color-text-on-default-background: var(--sg-text-color, var(--theme-code-foreground, var(--jp-content-font-color1, white)));\n    --sklearn-color-background: var(--sg-background-color, var(--theme-background, var(--jp-layout-color0, #111)));\n    --sklearn-color-border-box: var(--sg-text-color, var(--theme-code-foreground, var(--jp-content-font-color1, white)));\n    --sklearn-color-icon: #878787;\n  }\n}\n\n#sk-container-id-2 {\n  color: var(--sklearn-color-text);\n}\n\n#sk-container-id-2 pre {\n  padding: 0;\n}\n\n#sk-container-id-2 input.sk-hidden--visually {\n  border: 0;\n  clip: rect(1px 1px 1px 1px);\n  clip: rect(1px, 1px, 1px, 1px);\n  height: 1px;\n  margin: -1px;\n  overflow: hidden;\n  padding: 0;\n  position: absolute;\n  width: 1px;\n}\n\n#sk-container-id-2 div.sk-dashed-wrapped {\n  border: 1px dashed var(--sklearn-color-line);\n  margin: 0 0.4em 0.5em 0.4em;\n  box-sizing: border-box;\n  padding-bottom: 0.4em;\n  background-color: var(--sklearn-color-background);\n}\n\n#sk-container-id-2 div.sk-container {\n  /* jupyter's `normalize.less` sets `[hidden] { display: none; }`\n     but bootstrap.min.css set `[hidden] { display: none !important; }`\n     so we also need the `!important` here to be able to override the\n     default hidden behavior on the sphinx rendered scikit-learn.org.\n     See: https://github.com/scikit-learn/scikit-learn/issues/21755 */\n  display: inline-block !important;\n  position: relative;\n}\n\n#sk-container-id-2 div.sk-text-repr-fallback {\n  display: none;\n}\n\ndiv.sk-parallel-item,\ndiv.sk-serial,\ndiv.sk-item {\n  /* draw centered vertical line to link estimators */\n  background-image: linear-gradient(var(--sklearn-color-text-on-default-background), var(--sklearn-color-text-on-default-background));\n  background-size: 2px 100%;\n  background-repeat: no-repeat;\n  background-position: center center;\n}\n\n/* Parallel-specific style estimator block */\n\n#sk-container-id-2 div.sk-parallel-item::after {\n  content: \"\";\n  width: 100%;\n  border-bottom: 2px solid var(--sklearn-color-text-on-default-background);\n  flex-grow: 1;\n}\n\n#sk-container-id-2 div.sk-parallel {\n  display: flex;\n  align-items: stretch;\n  justify-content: center;\n  background-color: var(--sklearn-color-background);\n  position: relative;\n}\n\n#sk-container-id-2 div.sk-parallel-item {\n  display: flex;\n  flex-direction: column;\n}\n\n#sk-container-id-2 div.sk-parallel-item:first-child::after {\n  align-self: flex-end;\n  width: 50%;\n}\n\n#sk-container-id-2 div.sk-parallel-item:last-child::after {\n  align-self: flex-start;\n  width: 50%;\n}\n\n#sk-container-id-2 div.sk-parallel-item:only-child::after {\n  width: 0;\n}\n\n/* Serial-specific style estimator block */\n\n#sk-container-id-2 div.sk-serial {\n  display: flex;\n  flex-direction: column;\n  align-items: center;\n  background-color: var(--sklearn-color-background);\n  padding-right: 1em;\n  padding-left: 1em;\n}\n\n\n/* Toggleable style: style used for estimator/Pipeline/ColumnTransformer box that is\nclickable and can be expanded/collapsed.\n- Pipeline and ColumnTransformer use this feature and define the default style\n- Estimators will overwrite some part of the style using the `sk-estimator` class\n*/\n\n/* Pipeline and ColumnTransformer style (default) */\n\n#sk-container-id-2 div.sk-toggleable {\n  /* Default theme specific background. It is overwritten whether we have a\n  specific estimator or a Pipeline/ColumnTransformer */\n  background-color: var(--sklearn-color-background);\n}\n\n/* Toggleable label */\n#sk-container-id-2 label.sk-toggleable__label {\n  cursor: pointer;\n  display: block;\n  width: 100%;\n  margin-bottom: 0;\n  padding: 0.5em;\n  box-sizing: border-box;\n  text-align: center;\n}\n\n#sk-container-id-2 label.sk-toggleable__label-arrow:before {\n  /* Arrow on the left of the label */\n  content: \"▸\";\n  float: left;\n  margin-right: 0.25em;\n  color: var(--sklearn-color-icon);\n}\n\n#sk-container-id-2 label.sk-toggleable__label-arrow:hover:before {\n  color: var(--sklearn-color-text);\n}\n\n/* Toggleable content - dropdown */\n\n#sk-container-id-2 div.sk-toggleable__content {\n  max-height: 0;\n  max-width: 0;\n  overflow: hidden;\n  text-align: left;\n  /* unfitted */\n  background-color: var(--sklearn-color-unfitted-level-0);\n}\n\n#sk-container-id-2 div.sk-toggleable__content.fitted {\n  /* fitted */\n  background-color: var(--sklearn-color-fitted-level-0);\n}\n\n#sk-container-id-2 div.sk-toggleable__content pre {\n  margin: 0.2em;\n  border-radius: 0.25em;\n  color: var(--sklearn-color-text);\n  /* unfitted */\n  background-color: var(--sklearn-color-unfitted-level-0);\n}\n\n#sk-container-id-2 div.sk-toggleable__content.fitted pre {\n  /* unfitted */\n  background-color: var(--sklearn-color-fitted-level-0);\n}\n\n#sk-container-id-2 input.sk-toggleable__control:checked~div.sk-toggleable__content {\n  /* Expand drop-down */\n  max-height: 200px;\n  max-width: 100%;\n  overflow: auto;\n}\n\n#sk-container-id-2 input.sk-toggleable__control:checked~label.sk-toggleable__label-arrow:before {\n  content: \"▾\";\n}\n\n/* Pipeline/ColumnTransformer-specific style */\n\n#sk-container-id-2 div.sk-label input.sk-toggleable__control:checked~label.sk-toggleable__label {\n  color: var(--sklearn-color-text);\n  background-color: var(--sklearn-color-unfitted-level-2);\n}\n\n#sk-container-id-2 div.sk-label.fitted input.sk-toggleable__control:checked~label.sk-toggleable__label {\n  background-color: var(--sklearn-color-fitted-level-2);\n}\n\n/* Estimator-specific style */\n\n/* Colorize estimator box */\n#sk-container-id-2 div.sk-estimator input.sk-toggleable__control:checked~label.sk-toggleable__label {\n  /* unfitted */\n  background-color: var(--sklearn-color-unfitted-level-2);\n}\n\n#sk-container-id-2 div.sk-estimator.fitted input.sk-toggleable__control:checked~label.sk-toggleable__label {\n  /* fitted */\n  background-color: var(--sklearn-color-fitted-level-2);\n}\n\n#sk-container-id-2 div.sk-label label.sk-toggleable__label,\n#sk-container-id-2 div.sk-label label {\n  /* The background is the default theme color */\n  color: var(--sklearn-color-text-on-default-background);\n}\n\n/* On hover, darken the color of the background */\n#sk-container-id-2 div.sk-label:hover label.sk-toggleable__label {\n  color: var(--sklearn-color-text);\n  background-color: var(--sklearn-color-unfitted-level-2);\n}\n\n/* Label box, darken color on hover, fitted */\n#sk-container-id-2 div.sk-label.fitted:hover label.sk-toggleable__label.fitted {\n  color: var(--sklearn-color-text);\n  background-color: var(--sklearn-color-fitted-level-2);\n}\n\n/* Estimator label */\n\n#sk-container-id-2 div.sk-label label {\n  font-family: monospace;\n  font-weight: bold;\n  display: inline-block;\n  line-height: 1.2em;\n}\n\n#sk-container-id-2 div.sk-label-container {\n  text-align: center;\n}\n\n/* Estimator-specific */\n#sk-container-id-2 div.sk-estimator {\n  font-family: monospace;\n  border: 1px dotted var(--sklearn-color-border-box);\n  border-radius: 0.25em;\n  box-sizing: border-box;\n  margin-bottom: 0.5em;\n  /* unfitted */\n  background-color: var(--sklearn-color-unfitted-level-0);\n}\n\n#sk-container-id-2 div.sk-estimator.fitted {\n  /* fitted */\n  background-color: var(--sklearn-color-fitted-level-0);\n}\n\n/* on hover */\n#sk-container-id-2 div.sk-estimator:hover {\n  /* unfitted */\n  background-color: var(--sklearn-color-unfitted-level-2);\n}\n\n#sk-container-id-2 div.sk-estimator.fitted:hover {\n  /* fitted */\n  background-color: var(--sklearn-color-fitted-level-2);\n}\n\n/* Specification for estimator info (e.g. \"i\" and \"?\") */\n\n/* Common style for \"i\" and \"?\" */\n\n.sk-estimator-doc-link,\na:link.sk-estimator-doc-link,\na:visited.sk-estimator-doc-link {\n  float: right;\n  font-size: smaller;\n  line-height: 1em;\n  font-family: monospace;\n  background-color: var(--sklearn-color-background);\n  border-radius: 1em;\n  height: 1em;\n  width: 1em;\n  text-decoration: none !important;\n  margin-left: 1ex;\n  /* unfitted */\n  border: var(--sklearn-color-unfitted-level-1) 1pt solid;\n  color: var(--sklearn-color-unfitted-level-1);\n}\n\n.sk-estimator-doc-link.fitted,\na:link.sk-estimator-doc-link.fitted,\na:visited.sk-estimator-doc-link.fitted {\n  /* fitted */\n  border: var(--sklearn-color-fitted-level-1) 1pt solid;\n  color: var(--sklearn-color-fitted-level-1);\n}\n\n/* On hover */\ndiv.sk-estimator:hover .sk-estimator-doc-link:hover,\n.sk-estimator-doc-link:hover,\ndiv.sk-label-container:hover .sk-estimator-doc-link:hover,\n.sk-estimator-doc-link:hover {\n  /* unfitted */\n  background-color: var(--sklearn-color-unfitted-level-3);\n  color: var(--sklearn-color-background);\n  text-decoration: none;\n}\n\ndiv.sk-estimator.fitted:hover .sk-estimator-doc-link.fitted:hover,\n.sk-estimator-doc-link.fitted:hover,\ndiv.sk-label-container:hover .sk-estimator-doc-link.fitted:hover,\n.sk-estimator-doc-link.fitted:hover {\n  /* fitted */\n  background-color: var(--sklearn-color-fitted-level-3);\n  color: var(--sklearn-color-background);\n  text-decoration: none;\n}\n\n/* Span, style for the box shown on hovering the info icon */\n.sk-estimator-doc-link span {\n  display: none;\n  z-index: 9999;\n  position: relative;\n  font-weight: normal;\n  right: .2ex;\n  padding: .5ex;\n  margin: .5ex;\n  width: min-content;\n  min-width: 20ex;\n  max-width: 50ex;\n  color: var(--sklearn-color-text);\n  box-shadow: 2pt 2pt 4pt #999;\n  /* unfitted */\n  background: var(--sklearn-color-unfitted-level-0);\n  border: .5pt solid var(--sklearn-color-unfitted-level-3);\n}\n\n.sk-estimator-doc-link.fitted span {\n  /* fitted */\n  background: var(--sklearn-color-fitted-level-0);\n  border: var(--sklearn-color-fitted-level-3);\n}\n\n.sk-estimator-doc-link:hover span {\n  display: block;\n}\n\n/* \"?\"-specific style due to the `<a>` HTML tag */\n\n#sk-container-id-2 a.estimator_doc_link {\n  float: right;\n  font-size: 1rem;\n  line-height: 1em;\n  font-family: monospace;\n  background-color: var(--sklearn-color-background);\n  border-radius: 1rem;\n  height: 1rem;\n  width: 1rem;\n  text-decoration: none;\n  /* unfitted */\n  color: var(--sklearn-color-unfitted-level-1);\n  border: var(--sklearn-color-unfitted-level-1) 1pt solid;\n}\n\n#sk-container-id-2 a.estimator_doc_link.fitted {\n  /* fitted */\n  border: var(--sklearn-color-fitted-level-1) 1pt solid;\n  color: var(--sklearn-color-fitted-level-1);\n}\n\n/* On hover */\n#sk-container-id-2 a.estimator_doc_link:hover {\n  /* unfitted */\n  background-color: var(--sklearn-color-unfitted-level-3);\n  color: var(--sklearn-color-background);\n  text-decoration: none;\n}\n\n#sk-container-id-2 a.estimator_doc_link.fitted:hover {\n  /* fitted */\n  background-color: var(--sklearn-color-fitted-level-3);\n}\n</style><div id=\"sk-container-id-2\" class=\"sk-top-container\"><div class=\"sk-text-repr-fallback\"><pre>MultinomialNB()</pre><b>In a Jupyter environment, please rerun this cell to show the HTML representation or trust the notebook. <br />On GitHub, the HTML representation is unable to render, please try loading this page with nbviewer.org.</b></div><div class=\"sk-container\" hidden><div class=\"sk-item\"><div class=\"sk-estimator fitted sk-toggleable\"><input class=\"sk-toggleable__control sk-hidden--visually\" id=\"sk-estimator-id-2\" type=\"checkbox\" checked><label for=\"sk-estimator-id-2\" class=\"sk-toggleable__label fitted sk-toggleable__label-arrow fitted\">&nbsp;&nbsp;MultinomialNB<a class=\"sk-estimator-doc-link fitted\" rel=\"noreferrer\" target=\"_blank\" href=\"https://scikit-learn.org/1.4/modules/generated/sklearn.naive_bayes.MultinomialNB.html\">?<span>Documentation for MultinomialNB</span></a><span class=\"sk-estimator-doc-link fitted\">i<span>Fitted</span></span></label><div class=\"sk-toggleable__content fitted\"><pre>MultinomialNB()</pre></div> </div></div></div></div>"
     },
     "execution_count": 33,
     "metadata": {},
     "output_type": "execute_result"
    }
   ],
   "source": [
    "#6. Entrenamos el modelo\n",
    "model = MultinomialNB()\n",
    "model.fit(x_train, y_train)"
   ],
   "metadata": {
    "collapsed": false,
    "ExecuteTime": {
     "end_time": "2025-06-22T18:03:47.225978Z",
     "start_time": "2025-06-22T18:03:47.221800Z"
    }
   },
   "id": "1490c9815d5cd861",
   "execution_count": 33
  },
  {
   "cell_type": "code",
   "outputs": [
    {
     "name": "stdout",
     "output_type": "stream",
     "text": [
      "Accuracy: 0.5\n"
     ]
    }
   ],
   "source": [
    "y_pred = model.predict(x_test)\n",
    "accuracy = accuracy_score(y_test, y_pred)\n",
    "\n",
    "print('Accuracy:', accuracy)"
   ],
   "metadata": {
    "collapsed": false,
    "ExecuteTime": {
     "end_time": "2025-06-22T18:03:47.230353Z",
     "start_time": "2025-06-22T18:03:47.226869Z"
    }
   },
   "id": "fede3df114008771",
   "execution_count": 34
  },
  {
   "cell_type": "code",
   "outputs": [
    {
     "data": {
      "text/plain": "array(['negative', 'negative'], dtype='<U8')"
     },
     "execution_count": 35,
     "metadata": {},
     "output_type": "execute_result"
    }
   ],
   "source": [
    "y_pred"
   ],
   "metadata": {
    "collapsed": false,
    "ExecuteTime": {
     "end_time": "2025-06-22T18:03:47.234219Z",
     "start_time": "2025-06-22T18:03:47.231144Z"
    }
   },
   "id": "7c62b121f4d5770d",
   "execution_count": 35
  },
  {
   "cell_type": "code",
   "outputs": [
    {
     "name": "stdout",
     "output_type": "stream",
     "text": [
      "Needs more work!\n"
     ]
    }
   ],
   "source": [
    "if accuracy > 0.8:\n",
    "    print('Good vibes. Book the ticket!')\n",
    "else:\n",
    "    print('Needs more work!')"
   ],
   "metadata": {
    "collapsed": false,
    "ExecuteTime": {
     "end_time": "2025-06-22T18:03:47.236943Z",
     "start_time": "2025-06-22T18:03:47.234891Z"
    }
   },
   "id": "54f8be69a8e6f7e9",
   "execution_count": 36
  }
 ],
 "metadata": {
  "kernelspec": {
   "display_name": "Python 3",
   "language": "python",
   "name": "python3"
  },
  "language_info": {
   "codemirror_mode": {
    "name": "ipython",
    "version": 2
   },
   "file_extension": ".py",
   "mimetype": "text/x-python",
   "name": "python",
   "nbconvert_exporter": "python",
   "pygments_lexer": "ipython2",
   "version": "2.7.6"
  }
 },
 "nbformat": 4,
 "nbformat_minor": 5
}
