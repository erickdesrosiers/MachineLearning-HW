{
 "cells": [
  {
   "cell_type": "markdown",
   "source": [
    "# 3. Clasificación"
   ],
   "metadata": {
    "collapsed": false
   },
   "id": "6dbd692ead9322a8"
  },
  {
   "cell_type": "markdown",
   "source": [
    "En este capítulo, utilizaremos el conjunto de datos MNIST, que consta de 70,000 pequeñas imágenes de dígitos escritos a mano por estudiantes de secundaria y empleados de la Oficina del Censo de los EE. UU. Cada imagen está etiquetada con el dígito que representa. Este conjunto ha sido estudiado tanto que a menudo se le llama el \"Hola Mundo\" del Aprendizaje Automático: cada vez que alguien desarrolla un nuevo algoritmo de clasificación, siente curiosidad por ver cómo se desempeñará en MNIST, y cualquiera que aprenda Aprendizaje Automático trabaja con este conjunto de datos tarde o temprano.\n",
    "\n",
    "Scikit-Learn proporciona muchas funciones auxiliares para descargar conjuntos de datos populares, y MNIST es uno de ellos. El siguiente código obtiene el conjunto de datos MNIST:"
   ],
   "metadata": {
    "collapsed": false
   },
   "id": "8d57c58abaad04d9"
  },
  {
   "cell_type": "code",
   "outputs": [
    {
     "data": {
      "text/plain": "dict_keys(['data', 'target', 'frame', 'categories', 'feature_names', 'target_names', 'DESCR', 'details', 'url'])"
     },
     "execution_count": 1,
     "metadata": {},
     "output_type": "execute_result"
    }
   ],
   "source": [
    "from sklearn.datasets import fetch_openml\n",
    "import numpy as np\n",
    "mnist = fetch_openml('mnist_784', version=1)\n",
    "mnist.keys()"
   ],
   "metadata": {
    "collapsed": false,
    "ExecuteTime": {
     "end_time": "2025-06-13T22:46:50.059523Z",
     "start_time": "2025-06-13T22:46:47.235313Z"
    }
   },
   "id": "3dcc5e3e21f9a195",
   "execution_count": 1
  },
  {
   "cell_type": "markdown",
   "source": [
    "Los conjuntos de datos cargados por Scikit-Learn generalmente tienen una estructura de diccionario similar, que incluye lo siguiente:\n",
    "\n",
    "Una clave DESCR que describe el conjunto de datos.\n",
    "Una clave data que contiene un arreglo con una fila por instancia y una columna por característica.\n",
    "Una clave target que contiene un arreglo con las etiquetas.\n",
    "Veamos estos arreglos"
   ],
   "metadata": {
    "collapsed": false
   },
   "id": "56e3f4c824dff8db"
  },
  {
   "cell_type": "code",
   "outputs": [
    {
     "data": {
      "text/plain": "(70000, 784)"
     },
     "execution_count": 2,
     "metadata": {},
     "output_type": "execute_result"
    }
   ],
   "source": [
    "X, y = mnist[\"data\"], mnist[\"target\"]\n",
    "X = np.array(X, dtype=np.float32)\n",
    "X.shape #Cantidad de imágenes y características\n",
    "#característica es la intensidad de un píxel \n",
    "#784 por la cantidad de píxeles, blanco a negro"
   ],
   "metadata": {
    "collapsed": false,
    "ExecuteTime": {
     "end_time": "2025-06-13T22:46:50.373219Z",
     "start_time": "2025-06-13T22:46:50.060711Z"
    }
   },
   "id": "a5ee7639856f1670",
   "execution_count": 2
  },
  {
   "cell_type": "code",
   "outputs": [
    {
     "data": {
      "text/plain": "(70000,)"
     },
     "execution_count": 3,
     "metadata": {},
     "output_type": "execute_result"
    }
   ],
   "source": [
    "y.shape # Cantidad de imágenes "
   ],
   "metadata": {
    "collapsed": true,
    "ExecuteTime": {
     "end_time": "2025-06-13T22:46:50.378728Z",
     "start_time": "2025-06-13T22:46:50.374469Z"
    }
   },
   "id": "initial_id",
   "execution_count": 3
  },
  {
   "cell_type": "code",
   "outputs": [
    {
     "data": {
      "text/plain": "0        5\n1        0\n2        4\n3        1\n4        9\n        ..\n69995    2\n69996    3\n69997    4\n69998    5\n69999    6\nName: class, Length: 70000, dtype: category\nCategories (10, object): ['0', '1', '2', '3', ..., '6', '7', '8', '9']"
     },
     "execution_count": 4,
     "metadata": {},
     "output_type": "execute_result"
    }
   ],
   "source": [
    "y"
   ],
   "metadata": {
    "collapsed": false,
    "ExecuteTime": {
     "end_time": "2025-06-13T22:46:50.386996Z",
     "start_time": "2025-06-13T22:46:50.380172Z"
    }
   },
   "id": "850e52666ba015ec",
   "execution_count": 4
  },
  {
   "cell_type": "code",
   "outputs": [],
   "source": [
    "#some_digit_image"
   ],
   "metadata": {
    "collapsed": false,
    "ExecuteTime": {
     "end_time": "2025-06-13T22:46:50.389497Z",
     "start_time": "2025-06-13T22:46:50.387825Z"
    }
   },
   "id": "8f118bda349cac3a",
   "execution_count": 5
  },
  {
   "cell_type": "markdown",
   "source": [
    "Hay 70,000 imágenes, y cada imagen tiene 784 características. Esto se debe a que cada imagen tiene un tamaño de 28 × 28 píxeles, y cada característica simplemente representa la intensidad de un píxel, con valores desde 0 (blanco) hasta 255 (negro).\n",
    "\n",
    "Echemos un vistazo a un dígito del conjunto de datos. Todo lo que necesitas hacer es tomar el vector de características de una instancia, redimensionarlo a una matriz de 28 × 28 y mostrarlo utilizando la función imshow() de Matplotlib:"
   ],
   "metadata": {
    "collapsed": false
   },
   "id": "ffa58cc125de0a45"
  },
  {
   "cell_type": "code",
   "outputs": [
    {
     "data": {
      "text/plain": "<Figure size 640x480 with 1 Axes>",
      "image/png": "[encoded data removed]"
     },
     "metadata": {},
     "output_type": "display_data"
    }
   ],
   "source": [
    "import matplotlib.pyplot as plt\n",
    "some_digit = X[0] # X[0] selecciona la primera imagen del conjunto de datos.\n",
    "# some_digit ahora es un arreglo de 784 valores\n",
    "some_digit_image = some_digit.reshape(28, 28) #Convertir el vector en una matriz de 28 × 28\n",
    "# donde cada valor representa la intensidad del píxel (0 = blanco, 255 = negro).\n",
    "plt.imshow(some_digit_image, cmap=\"binary\")\n",
    "plt.axis(\"off\")\n",
    "plt.show()"
   ],
   "metadata": {
    "collapsed": false,
    "ExecuteTime": {
     "end_time": "2025-06-13T22:46:50.479077Z",
     "start_time": "2025-06-13T22:46:50.391166Z"
    }
   },
   "id": "39b9490501a41561",
   "execution_count": 6
  },
  {
   "cell_type": "code",
   "outputs": [
    {
     "data": {
      "text/plain": "'5'"
     },
     "execution_count": 7,
     "metadata": {},
     "output_type": "execute_result"
    }
   ],
   "source": [
    "y[0]"
   ],
   "metadata": {
    "collapsed": false,
    "ExecuteTime": {
     "end_time": "2025-06-13T22:46:50.486424Z",
     "start_time": "2025-06-13T22:46:50.481005Z"
    }
   },
   "id": "830c71509f99af87",
   "execution_count": 7
  },
  {
   "cell_type": "code",
   "outputs": [
    {
     "data": {
      "text/plain": "array([  0.,   0.,   0.,   0.,   0.,   0.,   0.,   0.,   0.,   0.,   0.,\n         0.,   0.,   0.,   0.,   0.,   0.,   0.,   0.,   0.,   0.,   0.,\n         0.,   0.,   0.,   0.,   0.,   0.,   0.,   0.,   0.,   0.,   0.,\n         0.,   0.,   0.,   0.,   0.,   0.,   0.,   0.,   0.,   0.,   0.,\n         0.,   0.,   0.,   0.,   0.,   0.,   0.,   0.,   0.,   0.,   0.,\n         0.,   0.,   0.,   0.,   0.,   0.,   0.,   0.,   0.,   0.,   0.,\n         0.,   0.,   0.,   0.,   0.,   0.,   0.,   0.,   0.,   0.,   0.,\n         0.,   0.,   0.,   0.,   0.,   0.,   0.,   0.,   0.,   0.,   0.,\n         0.,   0.,   0.,   0.,   0.,   0.,   0.,   0.,   0.,   0.,   0.,\n         0.,   0.,   0.,   0.,   0.,   0.,   0.,   0.,   0.,   0.,   0.,\n         0.,   0.,   0.,   0.,   0.,   0.,   0.,   0.,   0.,   0.,   0.,\n         0.,   0.,   0.,   0.,   0.,   0.,   0.,   0.,   0.,   0.,   0.,\n         0.,   0.,   0.,   0.,   0.,   0.,   0.,   0.,   0.,   0.,   0.,\n         0.,   0.,   0.,   0.,   0.,   0.,   0.,   0.,   0.,   3.,  18.,\n        18.,  18., 126., 136., 175.,  26., 166., 255., 247., 127.,   0.,\n         0.,   0.,   0.,   0.,   0.,   0.,   0.,   0.,   0.,   0.,   0.,\n        30.,  36.,  94., 154., 170., 253., 253., 253., 253., 253., 225.,\n       172., 253., 242., 195.,  64.,   0.,   0.,   0.,   0.,   0.,   0.,\n         0.,   0.,   0.,   0.,   0.,  49., 238., 253., 253., 253., 253.,\n       253., 253., 253., 253., 251.,  93.,  82.,  82.,  56.,  39.,   0.,\n         0.,   0.,   0.,   0.,   0.,   0.,   0.,   0.,   0.,   0.,   0.,\n        18., 219., 253., 253., 253., 253., 253., 198., 182., 247., 241.,\n         0.,   0.,   0.,   0.,   0.,   0.,   0.,   0.,   0.,   0.,   0.,\n         0.,   0.,   0.,   0.,   0.,   0.,   0.,  80., 156., 107., 253.,\n       253., 205.,  11.,   0.,  43., 154.,   0.,   0.,   0.,   0.,   0.,\n         0.,   0.,   0.,   0.,   0.,   0.,   0.,   0.,   0.,   0.,   0.,\n         0.,   0.,   0.,  14.,   1., 154., 253.,  90.,   0.,   0.,   0.,\n         0.,   0.,   0.,   0.,   0.,   0.,   0.,   0.,   0.,   0.,   0.,\n         0.,   0.,   0.,   0.,   0.,   0.,   0.,   0.,   0.,   0.,   0.,\n       139., 253., 190.,   2.,   0.,   0.,   0.,   0.,   0.,   0.,   0.,\n         0.,   0.,   0.,   0.,   0.,   0.,   0.,   0.,   0.,   0.,   0.,\n         0.,   0.,   0.,   0.,   0.,   0.,  11., 190., 253.,  70.,   0.,\n         0.,   0.,   0.,   0.,   0.,   0.,   0.,   0.,   0.,   0.,   0.,\n         0.,   0.,   0.,   0.,   0.,   0.,   0.,   0.,   0.,   0.,   0.,\n         0.,   0.,  35., 241., 225., 160., 108.,   1.,   0.,   0.,   0.,\n         0.,   0.,   0.,   0.,   0.,   0.,   0.,   0.,   0.,   0.,   0.,\n         0.,   0.,   0.,   0.,   0.,   0.,   0.,   0.,   0.,  81., 240.,\n       253., 253., 119.,  25.,   0.,   0.,   0.,   0.,   0.,   0.,   0.,\n         0.,   0.,   0.,   0.,   0.,   0.,   0.,   0.,   0.,   0.,   0.,\n         0.,   0.,   0.,   0.,   0.,  45., 186., 253., 253., 150.,  27.,\n         0.,   0.,   0.,   0.,   0.,   0.,   0.,   0.,   0.,   0.,   0.,\n         0.,   0.,   0.,   0.,   0.,   0.,   0.,   0.,   0.,   0.,   0.,\n         0.,  16.,  93., 252., 253., 187.,   0.,   0.,   0.,   0.,   0.,\n         0.,   0.,   0.,   0.,   0.,   0.,   0.,   0.,   0.,   0.,   0.,\n         0.,   0.,   0.,   0.,   0.,   0.,   0.,   0.,   0., 249., 253.,\n       249.,  64.,   0.,   0.,   0.,   0.,   0.,   0.,   0.,   0.,   0.,\n         0.,   0.,   0.,   0.,   0.,   0.,   0.,   0.,   0.,   0.,   0.,\n         0.,  46., 130., 183., 253., 253., 207.,   2.,   0.,   0.,   0.,\n         0.,   0.,   0.,   0.,   0.,   0.,   0.,   0.,   0.,   0.,   0.,\n         0.,   0.,   0.,   0.,   0.,  39., 148., 229., 253., 253., 253.,\n       250., 182.,   0.,   0.,   0.,   0.,   0.,   0.,   0.,   0.,   0.,\n         0.,   0.,   0.,   0.,   0.,   0.,   0.,   0.,   0.,  24., 114.,\n       221., 253., 253., 253., 253., 201.,  78.,   0.,   0.,   0.,   0.,\n         0.,   0.,   0.,   0.,   0.,   0.,   0.,   0.,   0.,   0.,   0.,\n         0.,   0.,  23.,  66., 213., 253., 253., 253., 253., 198.,  81.,\n         2.,   0.,   0.,   0.,   0.,   0.,   0.,   0.,   0.,   0.,   0.,\n         0.,   0.,   0.,   0.,   0.,   0.,  18., 171., 219., 253., 253.,\n       253., 253., 195.,  80.,   9.,   0.,   0.,   0.,   0.,   0.,   0.,\n         0.,   0.,   0.,   0.,   0.,   0.,   0.,   0.,   0.,   0.,  55.,\n       172., 226., 253., 253., 253., 253., 244., 133.,  11.,   0.,   0.,\n         0.,   0.,   0.,   0.,   0.,   0.,   0.,   0.,   0.,   0.,   0.,\n         0.,   0.,   0.,   0.,   0., 136., 253., 253., 253., 212., 135.,\n       132.,  16.,   0.,   0.,   0.,   0.,   0.,   0.,   0.,   0.,   0.,\n         0.,   0.,   0.,   0.,   0.,   0.,   0.,   0.,   0.,   0.,   0.,\n         0.,   0.,   0.,   0.,   0.,   0.,   0.,   0.,   0.,   0.,   0.,\n         0.,   0.,   0.,   0.,   0.,   0.,   0.,   0.,   0.,   0.,   0.,\n         0.,   0.,   0.,   0.,   0.,   0.,   0.,   0.,   0.,   0.,   0.,\n         0.,   0.,   0.,   0.,   0.,   0.,   0.,   0.,   0.,   0.,   0.,\n         0.,   0.,   0.,   0.,   0.,   0.,   0.,   0.,   0.,   0.,   0.,\n         0.,   0.,   0.,   0.,   0.,   0.,   0.,   0.,   0.,   0.,   0.,\n         0.,   0.,   0.,   0.,   0.,   0.,   0.,   0.,   0.,   0.,   0.,\n         0.,   0.,   0.], dtype=float32)"
     },
     "execution_count": 8,
     "metadata": {},
     "output_type": "execute_result"
    }
   ],
   "source": [
    "X[0]"
   ],
   "metadata": {
    "collapsed": false,
    "ExecuteTime": {
     "end_time": "2025-06-13T22:46:50.496161Z",
     "start_time": "2025-06-13T22:46:50.488750Z"
    }
   },
   "id": "8479c853323034a",
   "execution_count": 8
  },
  {
   "cell_type": "markdown",
   "source": [
    "Nota que la etiqueta es una cadena de texto. La mayoría de los algoritmos de aprendizaje automático esperan números, así que convertimos y \"y\" a entero:\n",
    "\n"
   ],
   "metadata": {
    "collapsed": false
   },
   "id": "f0347d4fa797485"
  },
  {
   "cell_type": "code",
   "outputs": [],
   "source": [
    "y = y.astype(np.uint8)\n"
   ],
   "metadata": {
    "collapsed": false,
    "ExecuteTime": {
     "end_time": "2025-06-13T22:46:50.509830Z",
     "start_time": "2025-06-13T22:46:50.505232Z"
    }
   },
   "id": "d0635d3f40207230",
   "execution_count": 9
  },
  {
   "cell_type": "markdown",
   "source": [
    "Para darte una idea de la complejidad de la tarea de clasificación, la Figura 3-1 muestra algunas imágenes adicionales del conjunto de datos MNIST.\n",
    "\n",
    "Figura 3-1. Dígitos del conjunto de datos MNIST\n",
    "\n",
    "¡Pero espera! Siempre debes crear un conjunto de prueba y reservarlo antes de inspeccionar los datos de cerca. El conjunto de datos MNIST ya está dividido en un conjunto de entrenamiento (las primeras 60,000 imágenes) y un conjunto de prueba (las últimas 10,000 imágenes):"
   ],
   "metadata": {
    "collapsed": false
   },
   "id": "62d5403a35dd7d25"
  },
  {
   "cell_type": "code",
   "outputs": [],
   "source": [
    "X_train, X_test, y_train, y_test = X[:60000], X[60000:], y[:60000], y[60000:]"
   ],
   "metadata": {
    "collapsed": false,
    "ExecuteTime": {
     "end_time": "2025-06-13T22:46:50.517523Z",
     "start_time": "2025-06-13T22:46:50.511894Z"
    }
   },
   "id": "40f5a1002ae74549",
   "execution_count": 10
  },
  {
   "cell_type": "markdown",
   "source": [
    "El conjunto de entrenamiento ya está mezclado, lo cual es beneficioso porque garantiza que todos los pliegues en la validación cruzada sean similares (no quieres que un pliegue se quede sin algunos dígitos). Además, algunos algoritmos de aprendizaje son sensibles al orden de las instancias de entrenamiento y tienen un rendimiento deficiente si reciben muchas instancias similares seguidas. Mezclar el conjunto de datos asegura que esto no suceda."
   ],
   "metadata": {
    "collapsed": false
   },
   "id": "3d2025a31a746ba0"
  },
  {
   "cell_type": "markdown",
   "source": [
    "### 3.1 Entrenando un Clasificador Binario\n",
    "\n",
    "Simplifiquemos el problema por ahora e intentemos identificar solo un dígito, por ejemplo, el número 5. Este “detector de 5” será un ejemplo de un clasificador binario, capaz de distinguir entre solo dos clases: 5 y no-5. Creemos los vectores objetivo para esta tarea de clasificación:"
   ],
   "metadata": {
    "collapsed": false
   },
   "id": "f5d40ddc49613062"
  },
  {
   "cell_type": "code",
   "outputs": [],
   "source": [
    "y_train_5 = (y_train == 5)  # True para todos los 5, False para todos los demás dígitos  \n",
    "y_test_5 = (y_test == 5)"
   ],
   "metadata": {
    "collapsed": false,
    "ExecuteTime": {
     "end_time": "2025-06-13T22:46:50.523621Z",
     "start_time": "2025-06-13T22:46:50.519630Z"
    }
   },
   "id": "cafd4517a27af26f",
   "execution_count": 11
  },
  {
   "cell_type": "markdown",
   "source": [
    "Ahora elijamos un clasificador y entrenémoslo. Un buen punto de partida es un clasificador de Descenso de Gradiente Estocástico (SGD, por sus siglas en inglés), utilizando la clase SGDClassifier de Scikit-Learn.\n",
    "\n",
    "Este clasificador tiene la ventaja de manejar de manera eficiente conjuntos de datos muy grandes. Esto se debe, en parte, a que el SGD procesa las instancias de entrenamiento de manera independiente, una por una (lo que también lo hace adecuado para el aprendizaje en línea), como veremos más adelante.\n",
    "\n",
    "Creemos un SGDClassifier y entrenémoslo con todo el conjunto de entrenamiento:"
   ],
   "metadata": {
    "collapsed": false
   },
   "id": "65927f731b3a925"
  },
  {
   "cell_type": "code",
   "outputs": [
    {
     "data": {
      "text/plain": "SGDClassifier(random_state=42)",
      "text/html": "<style>#sk-container-id-1 {\n  /* Definition of color scheme common for light and dark mode */\n  --sklearn-color-text: black;\n  --sklearn-color-line: gray;\n  /* Definition of color scheme for unfitted estimators */\n  --sklearn-color-unfitted-level-0: #fff5e6;\n  --sklearn-color-unfitted-level-1: #f6e4d2;\n  --sklearn-color-unfitted-level-2: #ffe0b3;\n  --sklearn-color-unfitted-level-3: chocolate;\n  /* Definition of color scheme for fitted estimators */\n  --sklearn-color-fitted-level-0: #f0f8ff;\n  --sklearn-color-fitted-level-1: #d4ebff;\n  --sklearn-color-fitted-level-2: #b3dbfd;\n  --sklearn-color-fitted-level-3: cornflowerblue;\n\n  /* Specific color for light theme */\n  --sklearn-color-text-on-default-background: var(--sg-text-color, var(--theme-code-foreground, var(--jp-content-font-color1, black)));\n  --sklearn-color-background: var(--sg-background-color, var(--theme-background, var(--jp-layout-color0, white)));\n  --sklearn-color-border-box: var(--sg-text-color, var(--theme-code-foreground, var(--jp-content-font-color1, black)));\n  --sklearn-color-icon: #696969;\n\n  @media (prefers-color-scheme: dark) {\n    /* Redefinition of color scheme for dark theme */\n    --sklearn-color-text-on-default-background: var(--sg-text-color, var(--theme-code-foreground, var(--jp-content-font-color1, white)));\n    --sklearn-color-background: var(--sg-background-color, var(--theme-background, var(--jp-layout-color0, #111)));\n    --sklearn-color-border-box: var(--sg-text-color, var(--theme-code-foreground, var(--jp-content-font-color1, white)));\n    --sklearn-color-icon: #878787;\n  }\n}\n\n#sk-container-id-1 {\n  color: var(--sklearn-color-text);\n}\n\n#sk-container-id-1 pre {\n  padding: 0;\n}\n\n#sk-container-id-1 input.sk-hidden--visually {\n  border: 0;\n  clip: rect(1px 1px 1px 1px);\n  clip: rect(1px, 1px, 1px, 1px);\n  height: 1px;\n  margin: -1px;\n  overflow: hidden;\n  padding: 0;\n  position: absolute;\n  width: 1px;\n}\n\n#sk-container-id-1 div.sk-dashed-wrapped {\n  border: 1px dashed var(--sklearn-color-line);\n  margin: 0 0.4em 0.5em 0.4em;\n  box-sizing: border-box;\n  padding-bottom: 0.4em;\n  background-color: var(--sklearn-color-background);\n}\n\n#sk-container-id-1 div.sk-container {\n  /* jupyter's `normalize.less` sets `[hidden] { display: none; }`\n     but bootstrap.min.css set `[hidden] { display: none !important; }`\n     so we also need the `!important` here to be able to override the\n     default hidden behavior on the sphinx rendered scikit-learn.org.\n     See: https://github.com/scikit-learn/scikit-learn/issues/21755 */\n  display: inline-block !important;\n  position: relative;\n}\n\n#sk-container-id-1 div.sk-text-repr-fallback {\n  display: none;\n}\n\ndiv.sk-parallel-item,\ndiv.sk-serial,\ndiv.sk-item {\n  /* draw centered vertical line to link estimators */\n  background-image: linear-gradient(var(--sklearn-color-text-on-default-background), var(--sklearn-color-text-on-default-background));\n  background-size: 2px 100%;\n  background-repeat: no-repeat;\n  background-position: center center;\n}\n\n/* Parallel-specific style estimator block */\n\n#sk-container-id-1 div.sk-parallel-item::after {\n  content: \"\";\n  width: 100%;\n  border-bottom: 2px solid var(--sklearn-color-text-on-default-background);\n  flex-grow: 1;\n}\n\n#sk-container-id-1 div.sk-parallel {\n  display: flex;\n  align-items: stretch;\n  justify-content: center;\n  background-color: var(--sklearn-color-background);\n  position: relative;\n}\n\n#sk-container-id-1 div.sk-parallel-item {\n  display: flex;\n  flex-direction: column;\n}\n\n#sk-container-id-1 div.sk-parallel-item:first-child::after {\n  align-self: flex-end;\n  width: 50%;\n}\n\n#sk-container-id-1 div.sk-parallel-item:last-child::after {\n  align-self: flex-start;\n  width: 50%;\n}\n\n#sk-container-id-1 div.sk-parallel-item:only-child::after {\n  width: 0;\n}\n\n/* Serial-specific style estimator block */\n\n#sk-container-id-1 div.sk-serial {\n  display: flex;\n  flex-direction: column;\n  align-items: center;\n  background-color: var(--sklearn-color-background);\n  padding-right: 1em;\n  padding-left: 1em;\n}\n\n\n/* Toggleable style: style used for estimator/Pipeline/ColumnTransformer box that is\nclickable and can be expanded/collapsed.\n- Pipeline and ColumnTransformer use this feature and define the default style\n- Estimators will overwrite some part of the style using the `sk-estimator` class\n*/\n\n/* Pipeline and ColumnTransformer style (default) */\n\n#sk-container-id-1 div.sk-toggleable {\n  /* Default theme specific background. It is overwritten whether we have a\n  specific estimator or a Pipeline/ColumnTransformer */\n  background-color: var(--sklearn-color-background);\n}\n\n/* Toggleable label */\n#sk-container-id-1 label.sk-toggleable__label {\n  cursor: pointer;\n  display: block;\n  width: 100%;\n  margin-bottom: 0;\n  padding: 0.5em;\n  box-sizing: border-box;\n  text-align: center;\n}\n\n#sk-container-id-1 label.sk-toggleable__label-arrow:before {\n  /* Arrow on the left of the label */\n  content: \"▸\";\n  float: left;\n  margin-right: 0.25em;\n  color: var(--sklearn-color-icon);\n}\n\n#sk-container-id-1 label.sk-toggleable__label-arrow:hover:before {\n  color: var(--sklearn-color-text);\n}\n\n/* Toggleable content - dropdown */\n\n#sk-container-id-1 div.sk-toggleable__content {\n  max-height: 0;\n  max-width: 0;\n  overflow: hidden;\n  text-align: left;\n  /* unfitted */\n  background-color: var(--sklearn-color-unfitted-level-0);\n}\n\n#sk-container-id-1 div.sk-toggleable__content.fitted {\n  /* fitted */\n  background-color: var(--sklearn-color-fitted-level-0);\n}\n\n#sk-container-id-1 div.sk-toggleable__content pre {\n  margin: 0.2em;\n  border-radius: 0.25em;\n  color: var(--sklearn-color-text);\n  /* unfitted */\n  background-color: var(--sklearn-color-unfitted-level-0);\n}\n\n#sk-container-id-1 div.sk-toggleable__content.fitted pre {\n  /* unfitted */\n  background-color: var(--sklearn-color-fitted-level-0);\n}\n\n#sk-container-id-1 input.sk-toggleable__control:checked~div.sk-toggleable__content {\n  /* Expand drop-down */\n  max-height: 200px;\n  max-width: 100%;\n  overflow: auto;\n}\n\n#sk-container-id-1 input.sk-toggleable__control:checked~label.sk-toggleable__label-arrow:before {\n  content: \"▾\";\n}\n\n/* Pipeline/ColumnTransformer-specific style */\n\n#sk-container-id-1 div.sk-label input.sk-toggleable__control:checked~label.sk-toggleable__label {\n  color: var(--sklearn-color-text);\n  background-color: var(--sklearn-color-unfitted-level-2);\n}\n\n#sk-container-id-1 div.sk-label.fitted input.sk-toggleable__control:checked~label.sk-toggleable__label {\n  background-color: var(--sklearn-color-fitted-level-2);\n}\n\n/* Estimator-specific style */\n\n/* Colorize estimator box */\n#sk-container-id-1 div.sk-estimator input.sk-toggleable__control:checked~label.sk-toggleable__label {\n  /* unfitted */\n  background-color: var(--sklearn-color-unfitted-level-2);\n}\n\n#sk-container-id-1 div.sk-estimator.fitted input.sk-toggleable__control:checked~label.sk-toggleable__label {\n  /* fitted */\n  background-color: var(--sklearn-color-fitted-level-2);\n}\n\n#sk-container-id-1 div.sk-label label.sk-toggleable__label,\n#sk-container-id-1 div.sk-label label {\n  /* The background is the default theme color */\n  color: var(--sklearn-color-text-on-default-background);\n}\n\n/* On hover, darken the color of the background */\n#sk-container-id-1 div.sk-label:hover label.sk-toggleable__label {\n  color: var(--sklearn-color-text);\n  background-color: var(--sklearn-color-unfitted-level-2);\n}\n\n/* Label box, darken color on hover, fitted */\n#sk-container-id-1 div.sk-label.fitted:hover label.sk-toggleable__label.fitted {\n  color: var(--sklearn-color-text);\n  background-color: var(--sklearn-color-fitted-level-2);\n}\n\n/* Estimator label */\n\n#sk-container-id-1 div.sk-label label {\n  font-family: monospace;\n  font-weight: bold;\n  display: inline-block;\n  line-height: 1.2em;\n}\n\n#sk-container-id-1 div.sk-label-container {\n  text-align: center;\n}\n\n/* Estimator-specific */\n#sk-container-id-1 div.sk-estimator {\n  font-family: monospace;\n  border: 1px dotted var(--sklearn-color-border-box);\n  border-radius: 0.25em;\n  box-sizing: border-box;\n  margin-bottom: 0.5em;\n  /* unfitted */\n  background-color: var(--sklearn-color-unfitted-level-0);\n}\n\n#sk-container-id-1 div.sk-estimator.fitted {\n  /* fitted */\n  background-color: var(--sklearn-color-fitted-level-0);\n}\n\n/* on hover */\n#sk-container-id-1 div.sk-estimator:hover {\n  /* unfitted */\n  background-color: var(--sklearn-color-unfitted-level-2);\n}\n\n#sk-container-id-1 div.sk-estimator.fitted:hover {\n  /* fitted */\n  background-color: var(--sklearn-color-fitted-level-2);\n}\n\n/* Specification for estimator info (e.g. \"i\" and \"?\") */\n\n/* Common style for \"i\" and \"?\" */\n\n.sk-estimator-doc-link,\na:link.sk-estimator-doc-link,\na:visited.sk-estimator-doc-link {\n  float: right;\n  font-size: smaller;\n  line-height: 1em;\n  font-family: monospace;\n  background-color: var(--sklearn-color-background);\n  border-radius: 1em;\n  height: 1em;\n  width: 1em;\n  text-decoration: none !important;\n  margin-left: 1ex;\n  /* unfitted */\n  border: var(--sklearn-color-unfitted-level-1) 1pt solid;\n  color: var(--sklearn-color-unfitted-level-1);\n}\n\n.sk-estimator-doc-link.fitted,\na:link.sk-estimator-doc-link.fitted,\na:visited.sk-estimator-doc-link.fitted {\n  /* fitted */\n  border: var(--sklearn-color-fitted-level-1) 1pt solid;\n  color: var(--sklearn-color-fitted-level-1);\n}\n\n/* On hover */\ndiv.sk-estimator:hover .sk-estimator-doc-link:hover,\n.sk-estimator-doc-link:hover,\ndiv.sk-label-container:hover .sk-estimator-doc-link:hover,\n.sk-estimator-doc-link:hover {\n  /* unfitted */\n  background-color: var(--sklearn-color-unfitted-level-3);\n  color: var(--sklearn-color-background);\n  text-decoration: none;\n}\n\ndiv.sk-estimator.fitted:hover .sk-estimator-doc-link.fitted:hover,\n.sk-estimator-doc-link.fitted:hover,\ndiv.sk-label-container:hover .sk-estimator-doc-link.fitted:hover,\n.sk-estimator-doc-link.fitted:hover {\n  /* fitted */\n  background-color: var(--sklearn-color-fitted-level-3);\n  color: var(--sklearn-color-background);\n  text-decoration: none;\n}\n\n/* Span, style for the box shown on hovering the info icon */\n.sk-estimator-doc-link span {\n  display: none;\n  z-index: 9999;\n  position: relative;\n  font-weight: normal;\n  right: .2ex;\n  padding: .5ex;\n  margin: .5ex;\n  width: min-content;\n  min-width: 20ex;\n  max-width: 50ex;\n  color: var(--sklearn-color-text);\n  box-shadow: 2pt 2pt 4pt #999;\n  /* unfitted */\n  background: var(--sklearn-color-unfitted-level-0);\n  border: .5pt solid var(--sklearn-color-unfitted-level-3);\n}\n\n.sk-estimator-doc-link.fitted span {\n  /* fitted */\n  background: var(--sklearn-color-fitted-level-0);\n  border: var(--sklearn-color-fitted-level-3);\n}\n\n.sk-estimator-doc-link:hover span {\n  display: block;\n}\n\n/* \"?\"-specific style due to the `<a>` HTML tag */\n\n#sk-container-id-1 a.estimator_doc_link {\n  float: right;\n  font-size: 1rem;\n  line-height: 1em;\n  font-family: monospace;\n  background-color: var(--sklearn-color-background);\n  border-radius: 1rem;\n  height: 1rem;\n  width: 1rem;\n  text-decoration: none;\n  /* unfitted */\n  color: var(--sklearn-color-unfitted-level-1);\n  border: var(--sklearn-color-unfitted-level-1) 1pt solid;\n}\n\n#sk-container-id-1 a.estimator_doc_link.fitted {\n  /* fitted */\n  border: var(--sklearn-color-fitted-level-1) 1pt solid;\n  color: var(--sklearn-color-fitted-level-1);\n}\n\n/* On hover */\n#sk-container-id-1 a.estimator_doc_link:hover {\n  /* unfitted */\n  background-color: var(--sklearn-color-unfitted-level-3);\n  color: var(--sklearn-color-background);\n  text-decoration: none;\n}\n\n#sk-container-id-1 a.estimator_doc_link.fitted:hover {\n  /* fitted */\n  background-color: var(--sklearn-color-fitted-level-3);\n}\n</style><div id=\"sk-container-id-1\" class=\"sk-top-container\"><div class=\"sk-text-repr-fallback\"><pre>SGDClassifier(random_state=42)</pre><b>In a Jupyter environment, please rerun this cell to show the HTML representation or trust the notebook. <br />On GitHub, the HTML representation is unable to render, please try loading this page with nbviewer.org.</b></div><div class=\"sk-container\" hidden><div class=\"sk-item\"><div class=\"sk-estimator fitted sk-toggleable\"><input class=\"sk-toggleable__control sk-hidden--visually\" id=\"sk-estimator-id-1\" type=\"checkbox\" checked><label for=\"sk-estimator-id-1\" class=\"sk-toggleable__label fitted sk-toggleable__label-arrow fitted\">&nbsp;&nbsp;SGDClassifier<a class=\"sk-estimator-doc-link fitted\" rel=\"noreferrer\" target=\"_blank\" href=\"https://scikit-learn.org/1.4/modules/generated/sklearn.linear_model.SGDClassifier.html\">?<span>Documentation for SGDClassifier</span></a><span class=\"sk-estimator-doc-link fitted\">i<span>Fitted</span></span></label><div class=\"sk-toggleable__content fitted\"><pre>SGDClassifier(random_state=42)</pre></div> </div></div></div></div>"
     },
     "execution_count": 12,
     "metadata": {},
     "output_type": "execute_result"
    }
   ],
   "source": [
    "from sklearn.linear_model import SGDClassifier\n",
    "sgd_clf = SGDClassifier(random_state=42)\n",
    "sgd_clf.fit(X_train, y_train_5)"
   ],
   "metadata": {
    "collapsed": false,
    "ExecuteTime": {
     "end_time": "2025-06-13T22:47:03.384287Z",
     "start_time": "2025-06-13T22:46:50.525801Z"
    }
   },
   "id": "5594cdba5a457a6e",
   "execution_count": 12
  },
  {
   "cell_type": "markdown",
   "source": [
    "El SGDClassifier depende del azar durante el entrenamiento (de ahí el nombre \"estocástico\"). Si deseas obtener resultados reproducibles, debes establecer el parámetro random_state.\n",
    "\n",
    "Ahora podemos usarlo para detectar imágenes del número 5:\n"
   ],
   "metadata": {
    "collapsed": false
   },
   "id": "2605121b7638760e"
  },
  {
   "cell_type": "code",
   "outputs": [
    {
     "data": {
      "text/plain": "array([ True])"
     },
     "execution_count": 13,
     "metadata": {},
     "output_type": "execute_result"
    }
   ],
   "source": [
    "sgd_clf.predict([some_digit])"
   ],
   "metadata": {
    "collapsed": false,
    "ExecuteTime": {
     "end_time": "2025-06-13T22:47:03.389977Z",
     "start_time": "2025-06-13T22:47:03.385435Z"
    }
   },
   "id": "1a6e060713fb8159",
   "execution_count": 13
  },
  {
   "cell_type": "markdown",
   "source": [
    "El clasificador predice que esta imagen representa un 5 (True). ¡Parece que acertó en este caso!"
   ],
   "metadata": {
    "collapsed": false
   },
   "id": "b09ced0305a792fb"
  },
  {
   "cell_type": "markdown",
   "source": [
    "$$\\textbf{Este es un ejemplo pero ahora con 8.}$$"
   ],
   "metadata": {
    "collapsed": false
   },
   "id": "1c01b5b50ece73db"
  },
  {
   "cell_type": "code",
   "outputs": [],
   "source": [
    "y_train_8 = (y_train == 8)  # True para todos los 5, False para todos los demás dígitos  \n",
    "y_test_8 = (y_test == 8)"
   ],
   "metadata": {
    "collapsed": false,
    "ExecuteTime": {
     "end_time": "2025-06-13T22:47:03.394111Z",
     "start_time": "2025-06-13T22:47:03.391893Z"
    }
   },
   "id": "2c9b0a0556bc2ae6",
   "execution_count": 14
  },
  {
   "cell_type": "code",
   "outputs": [
    {
     "data": {
      "text/plain": "SGDClassifier(random_state=42)",
      "text/html": "<style>#sk-container-id-2 {\n  /* Definition of color scheme common for light and dark mode */\n  --sklearn-color-text: black;\n  --sklearn-color-line: gray;\n  /* Definition of color scheme for unfitted estimators */\n  --sklearn-color-unfitted-level-0: #fff5e6;\n  --sklearn-color-unfitted-level-1: #f6e4d2;\n  --sklearn-color-unfitted-level-2: #ffe0b3;\n  --sklearn-color-unfitted-level-3: chocolate;\n  /* Definition of color scheme for fitted estimators */\n  --sklearn-color-fitted-level-0: #f0f8ff;\n  --sklearn-color-fitted-level-1: #d4ebff;\n  --sklearn-color-fitted-level-2: #b3dbfd;\n  --sklearn-color-fitted-level-3: cornflowerblue;\n\n  /* Specific color for light theme */\n  --sklearn-color-text-on-default-background: var(--sg-text-color, var(--theme-code-foreground, var(--jp-content-font-color1, black)));\n  --sklearn-color-background: var(--sg-background-color, var(--theme-background, var(--jp-layout-color0, white)));\n  --sklearn-color-border-box: var(--sg-text-color, var(--theme-code-foreground, var(--jp-content-font-color1, black)));\n  --sklearn-color-icon: #696969;\n\n  @media (prefers-color-scheme: dark) {\n    /* Redefinition of color scheme for dark theme */\n    --sklearn-color-text-on-default-background: var(--sg-text-color, var(--theme-code-foreground, var(--jp-content-font-color1, white)));\n    --sklearn-color-background: var(--sg-background-color, var(--theme-background, var(--jp-layout-color0, #111)));\n    --sklearn-color-border-box: var(--sg-text-color, var(--theme-code-foreground, var(--jp-content-font-color1, white)));\n    --sklearn-color-icon: #878787;\n  }\n}\n\n#sk-container-id-2 {\n  color: var(--sklearn-color-text);\n}\n\n#sk-container-id-2 pre {\n  padding: 0;\n}\n\n#sk-container-id-2 input.sk-hidden--visually {\n  border: 0;\n  clip: rect(1px 1px 1px 1px);\n  clip: rect(1px, 1px, 1px, 1px);\n  height: 1px;\n  margin: -1px;\n  overflow: hidden;\n  padding: 0;\n  position: absolute;\n  width: 1px;\n}\n\n#sk-container-id-2 div.sk-dashed-wrapped {\n  border: 1px dashed var(--sklearn-color-line);\n  margin: 0 0.4em 0.5em 0.4em;\n  box-sizing: border-box;\n  padding-bottom: 0.4em;\n  background-color: var(--sklearn-color-background);\n}\n\n#sk-container-id-2 div.sk-container {\n  /* jupyter's `normalize.less` sets `[hidden] { display: none; }`\n     but bootstrap.min.css set `[hidden] { display: none !important; }`\n     so we also need the `!important` here to be able to override the\n     default hidden behavior on the sphinx rendered scikit-learn.org.\n     See: https://github.com/scikit-learn/scikit-learn/issues/21755 */\n  display: inline-block !important;\n  position: relative;\n}\n\n#sk-container-id-2 div.sk-text-repr-fallback {\n  display: none;\n}\n\ndiv.sk-parallel-item,\ndiv.sk-serial,\ndiv.sk-item {\n  /* draw centered vertical line to link estimators */\n  background-image: linear-gradient(var(--sklearn-color-text-on-default-background), var(--sklearn-color-text-on-default-background));\n  background-size: 2px 100%;\n  background-repeat: no-repeat;\n  background-position: center center;\n}\n\n/* Parallel-specific style estimator block */\n\n#sk-container-id-2 div.sk-parallel-item::after {\n  content: \"\";\n  width: 100%;\n  border-bottom: 2px solid var(--sklearn-color-text-on-default-background);\n  flex-grow: 1;\n}\n\n#sk-container-id-2 div.sk-parallel {\n  display: flex;\n  align-items: stretch;\n  justify-content: center;\n  background-color: var(--sklearn-color-background);\n  position: relative;\n}\n\n#sk-container-id-2 div.sk-parallel-item {\n  display: flex;\n  flex-direction: column;\n}\n\n#sk-container-id-2 div.sk-parallel-item:first-child::after {\n  align-self: flex-end;\n  width: 50%;\n}\n\n#sk-container-id-2 div.sk-parallel-item:last-child::after {\n  align-self: flex-start;\n  width: 50%;\n}\n\n#sk-container-id-2 div.sk-parallel-item:only-child::after {\n  width: 0;\n}\n\n/* Serial-specific style estimator block */\n\n#sk-container-id-2 div.sk-serial {\n  display: flex;\n  flex-direction: column;\n  align-items: center;\n  background-color: var(--sklearn-color-background);\n  padding-right: 1em;\n  padding-left: 1em;\n}\n\n\n/* Toggleable style: style used for estimator/Pipeline/ColumnTransformer box that is\nclickable and can be expanded/collapsed.\n- Pipeline and ColumnTransformer use this feature and define the default style\n- Estimators will overwrite some part of the style using the `sk-estimator` class\n*/\n\n/* Pipeline and ColumnTransformer style (default) */\n\n#sk-container-id-2 div.sk-toggleable {\n  /* Default theme specific background. It is overwritten whether we have a\n  specific estimator or a Pipeline/ColumnTransformer */\n  background-color: var(--sklearn-color-background);\n}\n\n/* Toggleable label */\n#sk-container-id-2 label.sk-toggleable__label {\n  cursor: pointer;\n  display: block;\n  width: 100%;\n  margin-bottom: 0;\n  padding: 0.5em;\n  box-sizing: border-box;\n  text-align: center;\n}\n\n#sk-container-id-2 label.sk-toggleable__label-arrow:before {\n  /* Arrow on the left of the label */\n  content: \"▸\";\n  float: left;\n  margin-right: 0.25em;\n  color: var(--sklearn-color-icon);\n}\n\n#sk-container-id-2 label.sk-toggleable__label-arrow:hover:before {\n  color: var(--sklearn-color-text);\n}\n\n/* Toggleable content - dropdown */\n\n#sk-container-id-2 div.sk-toggleable__content {\n  max-height: 0;\n  max-width: 0;\n  overflow: hidden;\n  text-align: left;\n  /* unfitted */\n  background-color: var(--sklearn-color-unfitted-level-0);\n}\n\n#sk-container-id-2 div.sk-toggleable__content.fitted {\n  /* fitted */\n  background-color: var(--sklearn-color-fitted-level-0);\n}\n\n#sk-container-id-2 div.sk-toggleable__content pre {\n  margin: 0.2em;\n  border-radius: 0.25em;\n  color: var(--sklearn-color-text);\n  /* unfitted */\n  background-color: var(--sklearn-color-unfitted-level-0);\n}\n\n#sk-container-id-2 div.sk-toggleable__content.fitted pre {\n  /* unfitted */\n  background-color: var(--sklearn-color-fitted-level-0);\n}\n\n#sk-container-id-2 input.sk-toggleable__control:checked~div.sk-toggleable__content {\n  /* Expand drop-down */\n  max-height: 200px;\n  max-width: 100%;\n  overflow: auto;\n}\n\n#sk-container-id-2 input.sk-toggleable__control:checked~label.sk-toggleable__label-arrow:before {\n  content: \"▾\";\n}\n\n/* Pipeline/ColumnTransformer-specific style */\n\n#sk-container-id-2 div.sk-label input.sk-toggleable__control:checked~label.sk-toggleable__label {\n  color: var(--sklearn-color-text);\n  background-color: var(--sklearn-color-unfitted-level-2);\n}\n\n#sk-container-id-2 div.sk-label.fitted input.sk-toggleable__control:checked~label.sk-toggleable__label {\n  background-color: var(--sklearn-color-fitted-level-2);\n}\n\n/* Estimator-specific style */\n\n/* Colorize estimator box */\n#sk-container-id-2 div.sk-estimator input.sk-toggleable__control:checked~label.sk-toggleable__label {\n  /* unfitted */\n  background-color: var(--sklearn-color-unfitted-level-2);\n}\n\n#sk-container-id-2 div.sk-estimator.fitted input.sk-toggleable__control:checked~label.sk-toggleable__label {\n  /* fitted */\n  background-color: var(--sklearn-color-fitted-level-2);\n}\n\n#sk-container-id-2 div.sk-label label.sk-toggleable__label,\n#sk-container-id-2 div.sk-label label {\n  /* The background is the default theme color */\n  color: var(--sklearn-color-text-on-default-background);\n}\n\n/* On hover, darken the color of the background */\n#sk-container-id-2 div.sk-label:hover label.sk-toggleable__label {\n  color: var(--sklearn-color-text);\n  background-color: var(--sklearn-color-unfitted-level-2);\n}\n\n/* Label box, darken color on hover, fitted */\n#sk-container-id-2 div.sk-label.fitted:hover label.sk-toggleable__label.fitted {\n  color: var(--sklearn-color-text);\n  background-color: var(--sklearn-color-fitted-level-2);\n}\n\n/* Estimator label */\n\n#sk-container-id-2 div.sk-label label {\n  font-family: monospace;\n  font-weight: bold;\n  display: inline-block;\n  line-height: 1.2em;\n}\n\n#sk-container-id-2 div.sk-label-container {\n  text-align: center;\n}\n\n/* Estimator-specific */\n#sk-container-id-2 div.sk-estimator {\n  font-family: monospace;\n  border: 1px dotted var(--sklearn-color-border-box);\n  border-radius: 0.25em;\n  box-sizing: border-box;\n  margin-bottom: 0.5em;\n  /* unfitted */\n  background-color: var(--sklearn-color-unfitted-level-0);\n}\n\n#sk-container-id-2 div.sk-estimator.fitted {\n  /* fitted */\n  background-color: var(--sklearn-color-fitted-level-0);\n}\n\n/* on hover */\n#sk-container-id-2 div.sk-estimator:hover {\n  /* unfitted */\n  background-color: var(--sklearn-color-unfitted-level-2);\n}\n\n#sk-container-id-2 div.sk-estimator.fitted:hover {\n  /* fitted */\n  background-color: var(--sklearn-color-fitted-level-2);\n}\n\n/* Specification for estimator info (e.g. \"i\" and \"?\") */\n\n/* Common style for \"i\" and \"?\" */\n\n.sk-estimator-doc-link,\na:link.sk-estimator-doc-link,\na:visited.sk-estimator-doc-link {\n  float: right;\n  font-size: smaller;\n  line-height: 1em;\n  font-family: monospace;\n  background-color: var(--sklearn-color-background);\n  border-radius: 1em;\n  height: 1em;\n  width: 1em;\n  text-decoration: none !important;\n  margin-left: 1ex;\n  /* unfitted */\n  border: var(--sklearn-color-unfitted-level-1) 1pt solid;\n  color: var(--sklearn-color-unfitted-level-1);\n}\n\n.sk-estimator-doc-link.fitted,\na:link.sk-estimator-doc-link.fitted,\na:visited.sk-estimator-doc-link.fitted {\n  /* fitted */\n  border: var(--sklearn-color-fitted-level-1) 1pt solid;\n  color: var(--sklearn-color-fitted-level-1);\n}\n\n/* On hover */\ndiv.sk-estimator:hover .sk-estimator-doc-link:hover,\n.sk-estimator-doc-link:hover,\ndiv.sk-label-container:hover .sk-estimator-doc-link:hover,\n.sk-estimator-doc-link:hover {\n  /* unfitted */\n  background-color: var(--sklearn-color-unfitted-level-3);\n  color: var(--sklearn-color-background);\n  text-decoration: none;\n}\n\ndiv.sk-estimator.fitted:hover .sk-estimator-doc-link.fitted:hover,\n.sk-estimator-doc-link.fitted:hover,\ndiv.sk-label-container:hover .sk-estimator-doc-link.fitted:hover,\n.sk-estimator-doc-link.fitted:hover {\n  /* fitted */\n  background-color: var(--sklearn-color-fitted-level-3);\n  color: var(--sklearn-color-background);\n  text-decoration: none;\n}\n\n/* Span, style for the box shown on hovering the info icon */\n.sk-estimator-doc-link span {\n  display: none;\n  z-index: 9999;\n  position: relative;\n  font-weight: normal;\n  right: .2ex;\n  padding: .5ex;\n  margin: .5ex;\n  width: min-content;\n  min-width: 20ex;\n  max-width: 50ex;\n  color: var(--sklearn-color-text);\n  box-shadow: 2pt 2pt 4pt #999;\n  /* unfitted */\n  background: var(--sklearn-color-unfitted-level-0);\n  border: .5pt solid var(--sklearn-color-unfitted-level-3);\n}\n\n.sk-estimator-doc-link.fitted span {\n  /* fitted */\n  background: var(--sklearn-color-fitted-level-0);\n  border: var(--sklearn-color-fitted-level-3);\n}\n\n.sk-estimator-doc-link:hover span {\n  display: block;\n}\n\n/* \"?\"-specific style due to the `<a>` HTML tag */\n\n#sk-container-id-2 a.estimator_doc_link {\n  float: right;\n  font-size: 1rem;\n  line-height: 1em;\n  font-family: monospace;\n  background-color: var(--sklearn-color-background);\n  border-radius: 1rem;\n  height: 1rem;\n  width: 1rem;\n  text-decoration: none;\n  /* unfitted */\n  color: var(--sklearn-color-unfitted-level-1);\n  border: var(--sklearn-color-unfitted-level-1) 1pt solid;\n}\n\n#sk-container-id-2 a.estimator_doc_link.fitted {\n  /* fitted */\n  border: var(--sklearn-color-fitted-level-1) 1pt solid;\n  color: var(--sklearn-color-fitted-level-1);\n}\n\n/* On hover */\n#sk-container-id-2 a.estimator_doc_link:hover {\n  /* unfitted */\n  background-color: var(--sklearn-color-unfitted-level-3);\n  color: var(--sklearn-color-background);\n  text-decoration: none;\n}\n\n#sk-container-id-2 a.estimator_doc_link.fitted:hover {\n  /* fitted */\n  background-color: var(--sklearn-color-fitted-level-3);\n}\n</style><div id=\"sk-container-id-2\" class=\"sk-top-container\"><div class=\"sk-text-repr-fallback\"><pre>SGDClassifier(random_state=42)</pre><b>In a Jupyter environment, please rerun this cell to show the HTML representation or trust the notebook. <br />On GitHub, the HTML representation is unable to render, please try loading this page with nbviewer.org.</b></div><div class=\"sk-container\" hidden><div class=\"sk-item\"><div class=\"sk-estimator fitted sk-toggleable\"><input class=\"sk-toggleable__control sk-hidden--visually\" id=\"sk-estimator-id-2\" type=\"checkbox\" checked><label for=\"sk-estimator-id-2\" class=\"sk-toggleable__label fitted sk-toggleable__label-arrow fitted\">&nbsp;&nbsp;SGDClassifier<a class=\"sk-estimator-doc-link fitted\" rel=\"noreferrer\" target=\"_blank\" href=\"https://scikit-learn.org/1.4/modules/generated/sklearn.linear_model.SGDClassifier.html\">?<span>Documentation for SGDClassifier</span></a><span class=\"sk-estimator-doc-link fitted\">i<span>Fitted</span></span></label><div class=\"sk-toggleable__content fitted\"><pre>SGDClassifier(random_state=42)</pre></div> </div></div></div></div>"
     },
     "execution_count": 15,
     "metadata": {},
     "output_type": "execute_result"
    }
   ],
   "source": [
    "sgd_clf = SGDClassifier(random_state=42)\n",
    "sgd_clf.fit(X_train, y_train_8)"
   ],
   "metadata": {
    "collapsed": false,
    "ExecuteTime": {
     "end_time": "2025-06-13T22:47:14.861186Z",
     "start_time": "2025-06-13T22:47:03.394824Z"
    }
   },
   "id": "2368039fd02f0486",
   "execution_count": 15
  },
  {
   "cell_type": "code",
   "outputs": [
    {
     "data": {
      "text/plain": "array([ True])"
     },
     "execution_count": 16,
     "metadata": {},
     "output_type": "execute_result"
    }
   ],
   "source": [
    "sgd_clf.predict([X[17]])"
   ],
   "metadata": {
    "collapsed": false,
    "ExecuteTime": {
     "end_time": "2025-06-13T22:47:14.865113Z",
     "start_time": "2025-06-13T22:47:14.862022Z"
    }
   },
   "id": "f1083c17651112ba",
   "execution_count": 16
  },
  {
   "cell_type": "markdown",
   "source": [
    "## 3.2 Matriz de Confusión"
   ],
   "metadata": {
    "collapsed": false
   },
   "id": "b797529e6ded22af"
  },
  {
   "cell_type": "markdown",
   "source": [
    "Una forma mucho mejor de evaluar el desempeño de un clasificador es observar la matriz de confusión. La idea general es contar cuántas veces las instancias de la clase A fueron clasificadas como clase B.\n",
    "\n",
    "Por ejemplo, si quieres saber cuántas veces el clasificador confundió imágenes de 5 con 3, debes observar la fila 5 y la columna 3 en la matriz de confusión.\n",
    "\n",
    "Para calcular la matriz de confusión, primero necesitas obtener un conjunto de predicciones para compararlas con las etiquetas reales. Podrías hacer predicciones en el conjunto de prueba, pero por ahora lo dejaremos intacto (recuerda que solo debes usarlo al final del proyecto, cuando ya tengas un clasificador listo para lanzar).\n",
    "\n",
    "En su lugar, puedes usar la función cross_val_predict():"
   ],
   "metadata": {
    "collapsed": false
   },
   "id": "295561f00ff2f127"
  },
  {
   "cell_type": "code",
   "outputs": [],
   "source": [
    "from sklearn.model_selection import cross_val_predict\n",
    "\n",
    "y_train_pred = cross_val_predict(sgd_clf, X_train, y_train_5, cv=3)"
   ],
   "metadata": {
    "collapsed": false,
    "ExecuteTime": {
     "end_time": "2025-06-13T22:47:39.615716Z",
     "start_time": "2025-06-13T22:47:14.865845Z"
    }
   },
   "id": "69f283cafac51784",
   "execution_count": 17
  },
  {
   "cell_type": "markdown",
   "source": [
    "Al igual que cross_val_score(), la función cross_val_predict() realiza una validación cruzada con K pliegues, pero en lugar de devolver las puntuaciones de evaluación, devuelve las predicciones hechas en cada pliegue de prueba.\n",
    "\n",
    "Esto significa que obtienes una predicción limpia para cada instancia en el conjunto de entrenamiento (es decir, una predicción hecha por un modelo que nunca vio esos datos durante el entrenamiento).\n",
    "\n",
    "Ahora puedes calcular la matriz de confusión con la función confusion_matrix(), pasándole las etiquetas reales (y_train_5) y las predicciones (y_train_pred):\n",
    "\n"
   ],
   "metadata": {
    "collapsed": false
   },
   "id": "a32265f71e1df6bc"
  },
  {
   "cell_type": "code",
   "outputs": [
    {
     "data": {
      "text/plain": "array([[52533,  2046],\n       [  991,  4430]])"
     },
     "execution_count": 18,
     "metadata": {},
     "output_type": "execute_result"
    }
   ],
   "source": [
    "from sklearn.metrics import confusion_matrix\n",
    "\n",
    "confusion_matrix(y_train_5, y_train_pred)"
   ],
   "metadata": {
    "collapsed": false,
    "ExecuteTime": {
     "end_time": "2025-06-13T22:47:39.681276Z",
     "start_time": "2025-06-13T22:47:39.618460Z"
    }
   },
   "id": "bd55565b5ac27dcf",
   "execution_count": 18
  },
  {
   "cell_type": "markdown",
   "source": [
    "Cada fila de la matriz de confusión representa una clase real, mientras que cada columna representa una clase predicha:\n",
    "\n",
    "Primera fila (no-5s, clase negativa):\n",
    "\n",
    "53,057 imágenes fueron clasificadas correctamente como no-5 (verdaderos negativos).\n",
    "1,522 imágenes fueron clasificadas erróneamente como 5s (falsos positivos).\n",
    "\n",
    "Segunda fila (5s, clase positiva):\n",
    "\n",
    "1,325 imágenes de 5 fueron clasificadas erróneamente como no-5 (falsos negativos).\n",
    "4,096 imágenes de 5 fueron correctamente clasificadas (verdaderos positivos).\n",
    "Un clasificador perfecto solo tendría verdaderos positivos y verdaderos negativos, por lo que su matriz de confusión solo tendría valores distintos de cero en la diagonal principal (de la esquina superior izquierda a la inferior derecha):"
   ],
   "metadata": {
    "collapsed": false
   },
   "id": "cdbc703ca4d0afd8"
  },
  {
   "cell_type": "code",
   "outputs": [
    {
     "data": {
      "text/plain": "array([[54579,     0],\n       [    0,  5421]])"
     },
     "execution_count": 19,
     "metadata": {},
     "output_type": "execute_result"
    }
   ],
   "source": [
    "y_train_perfect_predictions = y_train_5  # supongamos que logramos la perfección\n",
    "confusion_matrix(y_train_5, y_train_perfect_predictions)\n"
   ],
   "metadata": {
    "collapsed": false,
    "ExecuteTime": {
     "end_time": "2025-06-13T22:47:39.719430Z",
     "start_time": "2025-06-13T22:47:39.686430Z"
    }
   },
   "id": "4e5fe5d4359b354c",
   "execution_count": 19
  },
  {
   "cell_type": "markdown",
   "source": [
    "Métricas Derivadas de la Matriz de Confusión\n",
    "La matriz de confusión proporciona mucha información, pero a veces es mejor utilizar una métrica más concisa.\n",
    "\n",
    "Una métrica interesante es la precisión (precision), que mide la exactitud de las predicciones positivas. Se calcula con la siguiente fórmula:\n"
   ],
   "metadata": {
    "collapsed": false
   },
   "id": "779c0b28c6c8d11f"
  },
  {
   "cell_type": "markdown",
   "source": [
    "$$\n",
    "\\text{Precisión} = \\frac{TP}{TP + FP}\n",
    "$$\n"
   ],
   "metadata": {
    "collapsed": false
   },
   "id": "e5977cd18fab2d90"
  },
  {
   "cell_type": "markdown",
   "source": [
    "Donde:\n",
    "\n",
    "TP (True Positives): Número de verdaderos positivos.\n",
    "FP (False Positives): Número de falsos positivos.\n",
    "Un método trivial para obtener precisión perfecta sería hacer una sola predicción positiva y asegurarse de que sea correcta (1/1 = 100%). Sin embargo, este método no sería útil porque ignoraría casi todas las instancias positivas.\n",
    "\n",
    "Por esta razón, la precisión se usa junto con otra métrica llamada recall (sensibilidad o tasa de verdaderos positivos, TPR), que mide la proporción de instancias positivas detectadas correctamente por el clasificador:\n"
   ],
   "metadata": {
    "collapsed": false
   },
   "id": "cd70e888cb887f6d"
  },
  {
   "cell_type": "markdown",
   "source": [
    "$$\n",
    "\\text{Recall} = \\frac{TP}{TP + FN}\n",
    "$$"
   ],
   "metadata": {
    "collapsed": false
   },
   "id": "fdf1f903423c3e0d"
  },
  {
   "cell_type": "markdown",
   "source": [
    "## 3.3 Precision and Recall"
   ],
   "metadata": {
    "collapsed": false
   },
   "id": "102d06a8f8a81181"
  },
  {
   "cell_type": "markdown",
   "source": [
    "Scikit-Learn proporciona varias funciones para calcular métricas de clasificación, incluyendo precisión y recall:"
   ],
   "metadata": {
    "collapsed": false
   },
   "id": "193bc88e9016b9f2"
  },
  {
   "cell_type": "code",
   "outputs": [
    {
     "data": {
      "text/plain": "0.6840642371834466"
     },
     "execution_count": 20,
     "metadata": {},
     "output_type": "execute_result"
    }
   ],
   "source": [
    "from sklearn.metrics import precision_score, recall_score\n",
    "precision_score(y_train_5, y_train_pred) # == 4096 / (4096 + 1522)\n",
    "# Resultado: 0.7290850836596654"
   ],
   "metadata": {
    "collapsed": false,
    "ExecuteTime": {
     "end_time": "2025-06-13T22:47:39.756637Z",
     "start_time": "2025-06-13T22:47:39.722218Z"
    }
   },
   "id": "8957e4165e401f30",
   "execution_count": 20
  },
  {
   "cell_type": "code",
   "outputs": [
    {
     "data": {
      "text/plain": "0.8171923999262128"
     },
     "execution_count": 21,
     "metadata": {},
     "output_type": "execute_result"
    }
   ],
   "source": [
    "recall_score(y_train_5, y_train_pred) # == 4096 / (4096 + 1325)\n",
    "# Resultado: 0.7555801512636044"
   ],
   "metadata": {
    "collapsed": false,
    "ExecuteTime": {
     "end_time": "2025-06-13T22:47:39.785577Z",
     "start_time": "2025-06-13T22:47:39.760152Z"
    }
   },
   "id": "84396cf05b11d8f4",
   "execution_count": 21
  },
  {
   "cell_type": "markdown",
   "source": [
    "Ahora, tu detector de \"5\" no parece tan impresionante como cuando solo observabas su precisión. Cuando el clasificador predice que una imagen representa un \"5\", solo acierta el 72.9% de las veces. Además, solo detecta el 75.6% de los \"5\" presentes en los datos.\n",
    "\n",
    "A menudo, es útil combinar precisión y recall en una sola métrica llamada puntuación F1 (F1 score), especialmente si necesitas una forma sencilla de comparar dos clasificadores. La puntuación F1 es la media armónica entre precisión y recall (Ecuación 3-3). A diferencia de la media aritmética, que trata todos los valores por igual, la media armónica da mayor peso a los valores más bajos. Como resultado, el clasificador solo obtendrá un F1 alto si tanto la precisión como el recall son elevados.\n",
    "\n",
    "Para calcular la puntuación F1, simplemente usa la función f1_score():"
   ],
   "metadata": {
    "collapsed": false
   },
   "id": "6d7915a65bad7aa9"
  },
  {
   "cell_type": "code",
   "outputs": [
    {
     "data": {
      "text/plain": "0.7447255610658149"
     },
     "execution_count": 22,
     "metadata": {},
     "output_type": "execute_result"
    }
   ],
   "source": [
    "from sklearn.metrics import f1_score\n",
    "f1_score(y_train_5, y_train_pred)\n",
    "# Resultado: 0.7420962043663375\n"
   ],
   "metadata": {
    "collapsed": false,
    "ExecuteTime": {
     "end_time": "2025-06-13T22:47:39.813340Z",
     "start_time": "2025-06-13T22:47:39.787449Z"
    }
   },
   "id": "2fe27bfc8eed3123",
   "execution_count": 22
  },
  {
   "cell_type": "markdown",
   "source": [
    "La puntuación F1 favorece clasificadores que tienen valores similares de precisión y recall. Sin embargo, esto no siempre es deseable: en algunos contextos, es más importante la precisión, mientras que en otros lo crucial es el recall.\n",
    "\n",
    "Por ejemplo, si entrenas un clasificador para detectar videos aptos para niños, probablemente prefieras un modelo con alta precisión y baja recall, es decir, que rechace muchos videos buenos pero asegure que los que acepta sean completamente seguros. En este caso, sería mejor un clasificador estricto, e incluso podrías incluir una revisión humana adicional.\n",
    "\n",
    "Por otro lado, si entrenas un clasificador para detectar ladrones en imágenes de vigilancia, lo importante es maximizar el recall. Es aceptable que el modelo tenga solo un 30% de precisión, siempre que tenga 99% de recall. Es decir, aunque haya muchas alertas falsas, casi todos los ladrones serán detectados.\n",
    "\n",
    "Desafortunadamente, no puedes optimizar precisión y recall simultáneamente: aumentar la precisión reduce el recall y viceversa. Este fenómeno se conoce como el compromiso entre precisión y recall (precision/recall trade-off)."
   ],
   "metadata": {
    "collapsed": false
   },
   "id": "b045921466d6ea4c"
  },
  {
   "cell_type": "markdown",
   "source": [
    "## 3.4 Precision/Recall Trade-off"
   ],
   "metadata": {
    "collapsed": false
   },
   "id": "223958e842fe6e43"
  },
  {
   "cell_type": "markdown",
   "source": [
    "Para cada instancia, calcula una puntuación basada en una función de decisión. Si esa puntuación es mayor que un umbral, asigna la instancia a la clase positiva; de lo contrario, la asigna a la clase negativa. La Figura 3-3 muestra algunos dígitos ordenados de izquierda a derecha, desde la puntuación más baja hasta la más alta. Supongamos que el umbral de decisión está ubicado en la flecha central (entre los dos 5): encontrarías 4 verdaderos positivos (5s reales) a la derecha de ese umbral y 1 falso positivo (realmente un 6). Por lo tanto, con ese umbral, la precisión es 80% (4 de 5). Pero de 6 verdaderos 5, el clasificador solo detecta 4, así que el recall es 67% (4 de 6). Si aumentas el umbral (lo mueves a la flecha de la derecha), el falso positivo (el 6) se convierte en un verdadero negativo, aumentando así la precisión (hasta el 100% en este caso), pero uno de los verdaderos positivos se convierte en un falso negativo, reduciendo el recall hasta un 50%. Por el contrario, reducir el umbral aumenta el recall y reduce la precisión.\n",
    "\n",
    "Scikit-Learn no te permite establecer el umbral directamente, pero sí te da acceso a las puntuaciones de decisión que usa para hacer predicciones. En lugar de llamar al método predict() del clasificador, puedes llamar a su método decision_function(), que devuelve una puntuación para cada instancia, y luego usar cualquier umbral que desees para hacer predicciones basadas en esas puntuaciones:\n",
    "\n"
   ],
   "metadata": {
    "collapsed": false
   },
   "id": "2f871592605d2a7c"
  },
  {
   "cell_type": "code",
   "outputs": [
    {
     "data": {
      "text/plain": "array([-13270.82878946])"
     },
     "execution_count": 23,
     "metadata": {},
     "output_type": "execute_result"
    }
   ],
   "source": [
    "y_scores = sgd_clf.decision_function([some_digit])\n",
    "y_scores \n",
    "#Si score >= 0 → predice la clase positiva.\n",
    "#Si score < 0 → predice la clase negativa.\n",
    "# Resultado: array([2412.53175101])"
   ],
   "metadata": {
    "collapsed": false,
    "ExecuteTime": {
     "end_time": "2025-06-13T22:47:39.824733Z",
     "start_time": "2025-06-13T22:47:39.815441Z"
    }
   },
   "id": "9e5272ba96c884ee",
   "execution_count": 23
  },
  {
   "cell_type": "code",
   "outputs": [
    {
     "data": {
      "text/plain": "array([False])"
     },
     "execution_count": 24,
     "metadata": {},
     "output_type": "execute_result"
    }
   ],
   "source": [
    "threshold = 0\n",
    "y_some_digit_pred = (y_scores > threshold)\n",
    "y_some_digit_pred\n",
    "# Resultado: array([ True])"
   ],
   "metadata": {
    "collapsed": false,
    "ExecuteTime": {
     "end_time": "2025-06-13T22:47:39.842366Z",
     "start_time": "2025-06-13T22:47:39.836389Z"
    }
   },
   "id": "129e596bd4cfe95c",
   "execution_count": 24
  },
  {
   "cell_type": "markdown",
   "source": [
    "El SGDClassifier usa un umbral igual a 0, por lo que el código anterior devuelve el mismo resultado que el método predict() (es decir, True). Vamos a aumentar el umbral:"
   ],
   "metadata": {
    "collapsed": false
   },
   "id": "7a409bada869758f"
  },
  {
   "cell_type": "code",
   "outputs": [
    {
     "data": {
      "text/plain": "array([False])"
     },
     "execution_count": 25,
     "metadata": {},
     "output_type": "execute_result"
    }
   ],
   "source": [
    "threshold = 8000\n",
    "y_some_digit_pred = (y_scores > threshold)\n",
    "y_some_digit_pred\n",
    "# Resultado: array([False])\n"
   ],
   "metadata": {
    "collapsed": false,
    "ExecuteTime": {
     "end_time": "2025-06-13T22:47:39.849485Z",
     "start_time": "2025-06-13T22:47:39.844230Z"
    }
   },
   "id": "24e4483f4d9bcf8b",
   "execution_count": 25
  },
  {
   "cell_type": "markdown",
   "source": [
    "Esto confirma que aumentar el umbral reduce el recall. La imagen realmente representa un 5, y el clasificador lo detecta cuando el umbral es 0, pero lo pierde cuando el umbral se aumenta a 8,000.\n",
    "\n",
    "¿Cómo decides qué umbral usar? Primero, usa la función cross_val_predict() para obtener las puntuaciones de todas las instancias en el conjunto de entrenamiento, pero esta vez especifica que deseas devolver las puntuaciones de decisión en lugar de las predicciones:"
   ],
   "metadata": {
    "collapsed": false
   },
   "id": "165523ae889bb2a4"
  },
  {
   "cell_type": "code",
   "outputs": [],
   "source": [
    "y_scores = cross_val_predict(sgd_clf, X_train, y_train_5, cv=3, method=\"decision_function\")\n"
   ],
   "metadata": {
    "collapsed": false,
    "ExecuteTime": {
     "end_time": "2025-06-13T22:48:04.757367Z",
     "start_time": "2025-06-13T22:47:39.852044Z"
    }
   },
   "id": "5d8b06601d53af35",
   "execution_count": 26
  },
  {
   "cell_type": "markdown",
   "source": [
    "Con estas puntuaciones, usa la función precision_recall_curve() para calcular precisión y recall para todos los posibles umbrales:"
   ],
   "metadata": {
    "collapsed": false
   },
   "id": "d925bf4f386c719e"
  },
  {
   "cell_type": "code",
   "outputs": [],
   "source": [
    "from sklearn.metrics import precision_recall_curve\n",
    "precisions, recalls, thresholds = precision_recall_curve(y_train_5, y_scores)\n"
   ],
   "metadata": {
    "collapsed": false,
    "ExecuteTime": {
     "end_time": "2025-06-13T22:48:04.791824Z",
     "start_time": "2025-06-13T22:48:04.759659Z"
    }
   },
   "id": "2b98f8400b477ef5",
   "execution_count": 27
  },
  {
   "cell_type": "markdown",
   "source": [
    "Finalmente, usa Matplotlib para trazar precisión y recall en función del valor del umbral (Figura 3-4):"
   ],
   "metadata": {
    "collapsed": false
   },
   "id": "2a30d995d72a9c1f"
  },
  {
   "cell_type": "code",
   "outputs": [
    {
     "data": {
      "text/plain": "<Figure size 640x480 with 1 Axes>",
      "image/png": "[encoded data removed]"
     },
     "metadata": {},
     "output_type": "display_data"
    }
   ],
   "source": [
    "def plot_precision_recall_vs_threshold(precisions, recalls, thresholds):\n",
    "    plt.plot(thresholds, precisions[:-1], \"b--\", label=\"Precision\")\n",
    "    plt.plot(thresholds, recalls[:-1], \"g-\", label=\"Recall\")\n",
    "   \n",
    "plot_precision_recall_vs_threshold(precisions, recalls, thresholds)\n",
    "plt.show()\n"
   ],
   "metadata": {
    "collapsed": false,
    "ExecuteTime": {
     "end_time": "2025-06-13T22:48:04.994965Z",
     "start_time": "2025-06-13T22:48:04.796543Z"
    }
   },
   "id": "92b485f72ca60d0c",
   "execution_count": 28
  },
  {
   "cell_type": "markdown",
   "source": [
    "Otra forma de seleccionar un buen compromiso entre precisión y recall es trazar precisión directamente contra recall, como se muestra en la Figura 3-5 (el mismo umbral de antes está resaltado). Puedes ver que la precisión comienza a caer bruscamente alrededor del 80% de recall. Probablemente querrás seleccionar un compromiso de precisión/recall justo antes de esa caída, por ejemplo, alrededor del 60% de recall. Pero, por supuesto, la elección depende de tu proyecto.\n",
    "\n",
    "Supongamos que decides apuntar a 90% de precisión. Mirando el primer gráfico, encuentras que necesitas usar un umbral de aproximadamente 8,000. Para ser más preciso, puedes buscar el umbral más bajo que te dé al menos 90% de precisión (np.argmax() te dará el primer índice del valor máximo, lo que en este caso significa el primer valor True):\n",
    "\n"
   ],
   "metadata": {
    "collapsed": false
   },
   "id": "5cc1442776f9dd34"
  },
  {
   "cell_type": "code",
   "outputs": [
    {
     "data": {
      "text/plain": "3533.1796673415824"
     },
     "execution_count": 29,
     "metadata": {},
     "output_type": "execute_result"
    }
   ],
   "source": [
    "threshold_90_precision = thresholds[np.argmax(precisions >= 0.90)] # ~7816\n",
    "threshold_90_precision"
   ],
   "metadata": {
    "collapsed": false,
    "ExecuteTime": {
     "end_time": "2025-06-13T22:48:05.003639Z",
     "start_time": "2025-06-13T22:48:04.997046Z"
    }
   },
   "id": "5a10fe66a076a018",
   "execution_count": 29
  },
  {
   "cell_type": "markdown",
   "source": [
    "Para hacer predicciones (por ahora en el conjunto de entrenamiento), en lugar de llamar al método predict() del clasificador, puedes ejecutar este código:"
   ],
   "metadata": {
    "collapsed": false
   },
   "id": "933cc9640e62fc0f"
  },
  {
   "cell_type": "code",
   "outputs": [],
   "source": [
    "y_train_pred_90 = (y_scores >= threshold_90_precision)"
   ],
   "metadata": {
    "collapsed": false,
    "ExecuteTime": {
     "end_time": "2025-06-13T22:48:05.009634Z",
     "start_time": "2025-06-13T22:48:05.006008Z"
    }
   },
   "id": "42cea15d88557e59",
   "execution_count": 30
  },
  {
   "cell_type": "markdown",
   "source": [
    "Comprobemos la precisión y el recall de estas predicciones:\n"
   ],
   "metadata": {
    "collapsed": false
   },
   "id": "92e79c1544293855"
  },
  {
   "cell_type": "code",
   "outputs": [
    {
     "data": {
      "text/plain": "0.9001888319395738"
     },
     "execution_count": 31,
     "metadata": {},
     "output_type": "execute_result"
    }
   ],
   "source": [
    "precision_score(y_train_5, y_train_pred_90)\n",
    "# Resultado: 0.9000380083618396\n"
   ],
   "metadata": {
    "collapsed": false,
    "ExecuteTime": {
     "end_time": "2025-06-13T22:48:05.034185Z",
     "start_time": "2025-06-13T22:48:05.010506Z"
    }
   },
   "id": "c7f9451483dda4a3",
   "execution_count": 31
  },
  {
   "cell_type": "code",
   "outputs": [
    {
     "data": {
      "text/plain": "0.6155690831949825"
     },
     "execution_count": 32,
     "metadata": {},
     "output_type": "execute_result"
    }
   ],
   "source": [
    "recall_score(y_train_5, y_train_pred_90)\n",
    "# Resultado: 0.4368197749492714"
   ],
   "metadata": {
    "collapsed": false,
    "ExecuteTime": {
     "end_time": "2025-06-13T22:48:05.060826Z",
     "start_time": "2025-06-13T22:48:05.036996Z"
    }
   },
   "id": "18a1c86e6fc72928",
   "execution_count": 32
  },
  {
   "cell_type": "markdown",
   "source": [
    "## 3.5 La curva Roc"
   ],
   "metadata": {
    "collapsed": false
   },
   "id": "d2feb75e3e0253f2"
  },
  {
   "cell_type": "markdown",
   "source": [
    "La curva Receiver Operating Characteristic (ROC) es otra herramienta comúnmente utilizada con clasificadores binarios. Es muy similar a la curva de precisión/recuperación, pero en lugar de graficar la precisión contra la recuperación, la curva ROC grafica la tasa de verdaderos positivos (otra forma de llamar a la recuperación) contra la tasa de falsos positivos (FPR).\n",
    "\n",
    "La FPR es la proporción de instancias negativas que fueron clasificadas incorrectamente como positivas. Es igual a 1 - la tasa de verdaderos negativos (TNR), que es la proporción de instancias negativas correctamente clasificadas como negativas. La TNR también se llama especificidad. Por lo tanto, la curva ROC grafica sensibilidad (recuperación) contra 1 - especificidad.\n",
    "\n",
    "Para trazar la curva ROC, primero usamos la función roc_curve() para calcular la TPR y FPR en varios valores de umbral:"
   ],
   "metadata": {
    "collapsed": false
   },
   "id": "e4f92de9579615b9"
  },
  {
   "cell_type": "code",
   "outputs": [],
   "source": [
    "from sklearn.metrics import roc_curve\n",
    "fpr, tpr, thresholds = roc_curve(y_train_5, y_scores)"
   ],
   "metadata": {
    "collapsed": false,
    "ExecuteTime": {
     "end_time": "2025-06-13T22:48:05.091177Z",
     "start_time": "2025-06-13T22:48:05.074442Z"
    }
   },
   "id": "ecceb5fb79092d59",
   "execution_count": 33
  },
  {
   "cell_type": "code",
   "outputs": [
    {
     "data": {
      "text/plain": "(array([0.        , 0.        , 0.        , ..., 0.99356896, 0.99356896,\n        1.        ]),\n array([0.00000000e+00, 1.84467810e-04, 2.30584763e-02, ...,\n        9.99815532e-01, 1.00000000e+00, 1.00000000e+00]),\n array([             inf,   31110.55957728,   17202.55530069, ...,\n         -65417.90136022,  -65440.43651647, -165409.93651647]))"
     },
     "execution_count": 34,
     "metadata": {},
     "output_type": "execute_result"
    }
   ],
   "source": [
    "roc_curve(y_train_5, y_scores)"
   ],
   "metadata": {
    "collapsed": false,
    "ExecuteTime": {
     "end_time": "2025-06-13T22:48:05.114676Z",
     "start_time": "2025-06-13T22:48:05.093769Z"
    }
   },
   "id": "32bf243deb234fe4",
   "execution_count": 34
  },
  {
   "cell_type": "markdown",
   "source": [
    "Luego, podemos graficar la FPR contra la TPR usando Matplotlib. Este código genera la gráfica:"
   ],
   "metadata": {
    "collapsed": false
   },
   "id": "106a34c704260289"
  },
  {
   "cell_type": "code",
   "outputs": [
    {
     "data": {
      "text/plain": "<Figure size 640x480 with 1 Axes>",
      "image/png": "[encoded data removed]"
     },
     "metadata": {},
     "output_type": "display_data"
    }
   ],
   "source": [
    "def plot_roc_curve(fpr, tpr, label=None):\n",
    "    plt.plot(fpr, tpr, linewidth=2, label=label)\n",
    "    plt.plot([0, 1], [0, 1], 'k--')  # Línea diagonal discontinua\n",
    "    [...]  # Agregar etiquetas a los ejes y la cuadrícula\n",
    "plot_roc_curve(fpr, tpr)\n",
    "plt.xlabel('False Positive Rate')\n",
    "plt.ylabel('True positive Rate')\n",
    "plt.show()\n"
   ],
   "metadata": {
    "collapsed": false,
    "ExecuteTime": {
     "end_time": "2025-06-13T22:48:05.248021Z",
     "start_time": "2025-06-13T22:48:05.117071Z"
    }
   },
   "id": "7eede55a027c68",
   "execution_count": 35
  },
  {
   "cell_type": "markdown",
   "source": [
    "Nuevamente, hay un compromiso: a mayor recuperación (TPR), más falsos positivos (FPR) produce el clasificador. La línea punteada representa la curva ROC de un clasificador completamente aleatorio; un buen clasificador se aleja lo más posible de esa línea (hacia la esquina superior izquierda).\n",
    "\n",
    "Área bajo la curva (AUC) ROC\n",
    "Una forma de comparar clasificadores es medir el área bajo la curva ROC (AUC).\n",
    "\n",
    "Un clasificador perfecto tendrá un AUC de 1.\n",
    "Un clasificador aleatorio tendrá un AUC de 0.5.\n",
    "Scikit-Learn proporciona la función roc_auc_score() para calcularlo:"
   ],
   "metadata": {
    "collapsed": false
   },
   "id": "4eb9469be38ef662"
  },
  {
   "cell_type": "code",
   "outputs": [
    {
     "data": {
      "text/plain": "0.9506700784170535"
     },
     "execution_count": 36,
     "metadata": {},
     "output_type": "execute_result"
    }
   ],
   "source": [
    "from sklearn.metrics import roc_auc_score\n",
    "roc_auc_score(y_train_5, y_scores)"
   ],
   "metadata": {
    "collapsed": false,
    "ExecuteTime": {
     "end_time": "2025-06-13T22:48:05.286544Z",
     "start_time": "2025-06-13T22:48:05.250159Z"
    }
   },
   "id": "3e40e230019d97f8",
   "execution_count": 36
  },
  {
   "cell_type": "markdown",
   "source": [
    "Si la clase positiva es rara o te importan más los falsos positivos que los falsos negativos, usa la curva PR (precisión/recuperación). De lo contrario, usa la curva ROC.\n",
    "\n",
    "Por ejemplo, viendo la curva ROC anterior y su AUC, podríamos pensar que el clasificador es excelente. Sin embargo, esto se debe a que hay pocos positivos (5s) en comparación con los negativos (no-5s). En cambio, la curva PR deja más claro que el clasificador aún puede mejorar.\n",
    "\n",
    "Comparación con un RandomForestClassifier\n",
    "Ahora entrenemos un RandomForestClassifier y comparemos su curva ROC y su AUC con las del SGDClassifier.\n",
    "Debido a su funcionamiento, RandomForestClassifier no tiene un método decision_function(), sino predict_proba(), que devuelve una matriz con la probabilidad de cada clase:"
   ],
   "metadata": {
    "collapsed": false
   },
   "id": "12da7821c81f1baa"
  },
  {
   "cell_type": "code",
   "outputs": [],
   "source": [
    "from sklearn.ensemble import RandomForestClassifier\n",
    "forest_clf = RandomForestClassifier(random_state=42)\n",
    "y_probas_forest = cross_val_predict(forest_clf, X_train, y_train_5, cv=3,\n",
    "                                    method=\"predict_proba\")\n"
   ],
   "metadata": {
    "collapsed": false,
    "ExecuteTime": {
     "end_time": "2025-06-13T22:48:54.820659Z",
     "start_time": "2025-06-13T22:48:05.290077Z"
    }
   },
   "id": "ac02faac32072165",
   "execution_count": 37
  },
  {
   "cell_type": "markdown",
   "source": [
    "La función roc_curve() espera etiquetas y puntuaciones. En este caso, usamos la probabilidad de la clase positiva como puntuación:"
   ],
   "metadata": {
    "collapsed": false
   },
   "id": "aad7068f342fed9b"
  },
  {
   "cell_type": "code",
   "outputs": [],
   "source": [
    "y_scores_forest = y_probas_forest[:, 1]  # Probabilidad de ser un \"5\"\n",
    "fpr_forest, tpr_forest, thresholds_forest = roc_curve(y_train_5, y_scores_forest)\n"
   ],
   "metadata": {
    "collapsed": false,
    "ExecuteTime": {
     "end_time": "2025-06-13T22:48:54.886817Z",
     "start_time": "2025-06-13T22:48:54.846553Z"
    }
   },
   "id": "1b8e5b3345bf93e5",
   "execution_count": 38
  },
  {
   "cell_type": "markdown",
   "source": [
    "Ahora graficamos la curva ROC del RandomForestClassifier junto con la del SGDClassifier:"
   ],
   "metadata": {
    "collapsed": false
   },
   "id": "f34401d23ce78ce9"
  },
  {
   "cell_type": "code",
   "outputs": [
    {
     "data": {
      "text/plain": "<Figure size 640x480 with 1 Axes>",
      "image/png": "[encoded data removed]"
     },
     "metadata": {},
     "output_type": "display_data"
    }
   ],
   "source": [
    "plt.plot(fpr, tpr, \"b:\", label=\"SGD\")\n",
    "plot_roc_curve(fpr_forest, tpr_forest, \"Random Forest\")\n",
    "plt.legend(loc=\"lower right\")\n",
    "plt.show()\n"
   ],
   "metadata": {
    "collapsed": false,
    "ExecuteTime": {
     "end_time": "2025-06-13T22:48:55.098184Z",
     "start_time": "2025-06-13T22:48:54.889743Z"
    }
   },
   "id": "ea1167dd0ccfdb71",
   "execution_count": 39
  },
  {
   "cell_type": "markdown",
   "source": [
    "La curva ROC del RandomForestClassifier se acerca mucho más a la esquina superior izquierda, lo que indica mejor desempeño. Su AUC también es significativamente mejor:"
   ],
   "metadata": {
    "collapsed": false
   },
   "id": "92aa50c1f98884ab"
  },
  {
   "cell_type": "code",
   "outputs": [
    {
     "data": {
      "text/plain": "0.9983296721818179"
     },
     "execution_count": 40,
     "metadata": {},
     "output_type": "execute_result"
    }
   ],
   "source": [
    "roc_auc_score(y_train_5, y_scores_forest)"
   ],
   "metadata": {
    "collapsed": false,
    "ExecuteTime": {
     "end_time": "2025-06-13T22:48:55.130961Z",
     "start_time": "2025-06-13T22:48:55.101382Z"
    }
   },
   "id": "f3c25d3066c171cc",
   "execution_count": 40
  },
  {
   "cell_type": "code",
   "outputs": [],
   "source": [],
   "metadata": {
    "collapsed": false,
    "ExecuteTime": {
     "end_time": "2025-06-13T22:48:55.141646Z",
     "start_time": "2025-06-13T22:48:55.135432Z"
    }
   },
   "id": "b5727507e2b4b1d0",
   "execution_count": 40
  }
 ],
 "metadata": {
  "kernelspec": {
   "display_name": "Python 3",
   "language": "python",
   "name": "python3"
  },
  "language_info": {
   "codemirror_mode": {
    "name": "ipython",
    "version": 2
   },
   "file_extension": ".py",
   "mimetype": "text/x-python",
   "name": "python",
   "nbconvert_exporter": "python",
   "pygments_lexer": "ipython2",
   "version": "2.7.6"
  }
 },
 "nbformat": 4,
 "nbformat_minor": 5
}
