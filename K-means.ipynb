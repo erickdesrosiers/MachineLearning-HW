{
 "cells": [
  {
   "cell_type": "markdown",
   "source": [
    "# Clustering con el Método K-Means"
   ],
   "metadata": {
    "collapsed": false
   },
   "id": "2f0e3eb7162d9511"
  },
  {
   "cell_type": "code",
   "outputs": [],
   "source": [
    "import numpy as np\n",
    "import matplotlib.pyplot as plt\n",
    "import pandas as pd\n",
    "from sklearn.cluster import KMeans"
   ],
   "metadata": {
    "collapsed": true,
    "ExecuteTime": {
     "end_time": "2025-02-16T07:11:32.148013Z",
     "start_time": "2025-02-16T07:11:31.551757Z"
    }
   },
   "id": "initial_id",
   "execution_count": 1
  },
  {
   "cell_type": "code",
   "outputs": [],
   "source": [
    "vinos = pd.read_csv(\"/Users/erickavendanogarcia/Downloads/caracteristicas de vinos.csv\")"
   ],
   "metadata": {
    "collapsed": false,
    "ExecuteTime": {
     "end_time": "2025-02-16T07:14:25.455509Z",
     "start_time": "2025-02-16T07:14:25.430771Z"
    }
   },
   "id": "69308326e3ffed6d",
   "execution_count": 2
  },
  {
   "cell_type": "code",
   "outputs": [
    {
     "data": {
      "text/plain": "     Vino  Alcohol  Malic   Ash  Alcalinity  Magnesium  Phenols  Flavanoids  \\\n0       1    14.23   1.71  2.43        15.6        127     2.80        3.06   \n1       2    13.20   1.78  2.14        11.2        100     2.65        2.76   \n2       3    13.16   2.36  2.67        18.6        101     2.80        3.24   \n3       4    14.37   1.95  2.50        16.8        113     3.85        3.49   \n4       5    13.24   2.59  2.87        21.0        118     2.80        2.69   \n..    ...      ...    ...   ...         ...        ...      ...         ...   \n173   174    13.71   5.65  2.45        20.5         95     1.68        0.61   \n174   175    13.40   3.91  2.48        23.0        102     1.80        0.75   \n175   176    13.27   4.28  2.26        20.0        120     1.59        0.69   \n176   177    13.17   2.59  2.37        20.0        120     1.65        0.68   \n177   178    14.13   4.10  2.74        24.5         96     2.05        0.76   \n\n     Nonflavanoids  Proanthocyanins  Color   Hue  Dilution  Proline  \n0             0.28             2.29   5.64  1.04      3.92     1065  \n1             0.26             1.28   4.38  1.05      3.40     1050  \n2             0.30             2.81   5.68  1.03      3.17     1185  \n3             0.24             2.18   7.80  0.86      3.45     1480  \n4             0.39             1.82   4.32  1.04      2.93      735  \n..             ...              ...    ...   ...       ...      ...  \n173           0.52             1.06   7.70  0.64      1.74      740  \n174           0.43             1.41   7.30  0.70      1.56      750  \n175           0.43             1.35  10.20  0.59      1.56      835  \n176           0.53             1.46   9.30  0.60      1.62      840  \n177           0.56             1.35   9.20  0.61      1.60      560  \n\n[178 rows x 14 columns]",
      "text/html": "<div>\n<style scoped>\n    .dataframe tbody tr th:only-of-type {\n        vertical-align: middle;\n    }\n\n    .dataframe tbody tr th {\n        vertical-align: top;\n    }\n\n    .dataframe thead th {\n        text-align: right;\n    }\n</style>\n<table border=\"1\" class=\"dataframe\">\n  <thead>\n    <tr style=\"text-align: right;\">\n      <th></th>\n      <th>Vino</th>\n      <th>Alcohol</th>\n      <th>Malic</th>\n      <th>Ash</th>\n      <th>Alcalinity</th>\n      <th>Magnesium</th>\n      <th>Phenols</th>\n      <th>Flavanoids</th>\n      <th>Nonflavanoids</th>\n      <th>Proanthocyanins</th>\n      <th>Color</th>\n      <th>Hue</th>\n      <th>Dilution</th>\n      <th>Proline</th>\n    </tr>\n  </thead>\n  <tbody>\n    <tr>\n      <th>0</th>\n      <td>1</td>\n      <td>14.23</td>\n      <td>1.71</td>\n      <td>2.43</td>\n      <td>15.6</td>\n      <td>127</td>\n      <td>2.80</td>\n      <td>3.06</td>\n      <td>0.28</td>\n      <td>2.29</td>\n      <td>5.64</td>\n      <td>1.04</td>\n      <td>3.92</td>\n      <td>1065</td>\n    </tr>\n    <tr>\n      <th>1</th>\n      <td>2</td>\n      <td>13.20</td>\n      <td>1.78</td>\n      <td>2.14</td>\n      <td>11.2</td>\n      <td>100</td>\n      <td>2.65</td>\n      <td>2.76</td>\n      <td>0.26</td>\n      <td>1.28</td>\n      <td>4.38</td>\n      <td>1.05</td>\n      <td>3.40</td>\n      <td>1050</td>\n    </tr>\n    <tr>\n      <th>2</th>\n      <td>3</td>\n      <td>13.16</td>\n      <td>2.36</td>\n      <td>2.67</td>\n      <td>18.6</td>\n      <td>101</td>\n      <td>2.80</td>\n      <td>3.24</td>\n      <td>0.30</td>\n      <td>2.81</td>\n      <td>5.68</td>\n      <td>1.03</td>\n      <td>3.17</td>\n      <td>1185</td>\n    </tr>\n    <tr>\n      <th>3</th>\n      <td>4</td>\n      <td>14.37</td>\n      <td>1.95</td>\n      <td>2.50</td>\n      <td>16.8</td>\n      <td>113</td>\n      <td>3.85</td>\n      <td>3.49</td>\n      <td>0.24</td>\n      <td>2.18</td>\n      <td>7.80</td>\n      <td>0.86</td>\n      <td>3.45</td>\n      <td>1480</td>\n    </tr>\n    <tr>\n      <th>4</th>\n      <td>5</td>\n      <td>13.24</td>\n      <td>2.59</td>\n      <td>2.87</td>\n      <td>21.0</td>\n      <td>118</td>\n      <td>2.80</td>\n      <td>2.69</td>\n      <td>0.39</td>\n      <td>1.82</td>\n      <td>4.32</td>\n      <td>1.04</td>\n      <td>2.93</td>\n      <td>735</td>\n    </tr>\n    <tr>\n      <th>...</th>\n      <td>...</td>\n      <td>...</td>\n      <td>...</td>\n      <td>...</td>\n      <td>...</td>\n      <td>...</td>\n      <td>...</td>\n      <td>...</td>\n      <td>...</td>\n      <td>...</td>\n      <td>...</td>\n      <td>...</td>\n      <td>...</td>\n      <td>...</td>\n    </tr>\n    <tr>\n      <th>173</th>\n      <td>174</td>\n      <td>13.71</td>\n      <td>5.65</td>\n      <td>2.45</td>\n      <td>20.5</td>\n      <td>95</td>\n      <td>1.68</td>\n      <td>0.61</td>\n      <td>0.52</td>\n      <td>1.06</td>\n      <td>7.70</td>\n      <td>0.64</td>\n      <td>1.74</td>\n      <td>740</td>\n    </tr>\n    <tr>\n      <th>174</th>\n      <td>175</td>\n      <td>13.40</td>\n      <td>3.91</td>\n      <td>2.48</td>\n      <td>23.0</td>\n      <td>102</td>\n      <td>1.80</td>\n      <td>0.75</td>\n      <td>0.43</td>\n      <td>1.41</td>\n      <td>7.30</td>\n      <td>0.70</td>\n      <td>1.56</td>\n      <td>750</td>\n    </tr>\n    <tr>\n      <th>175</th>\n      <td>176</td>\n      <td>13.27</td>\n      <td>4.28</td>\n      <td>2.26</td>\n      <td>20.0</td>\n      <td>120</td>\n      <td>1.59</td>\n      <td>0.69</td>\n      <td>0.43</td>\n      <td>1.35</td>\n      <td>10.20</td>\n      <td>0.59</td>\n      <td>1.56</td>\n      <td>835</td>\n    </tr>\n    <tr>\n      <th>176</th>\n      <td>177</td>\n      <td>13.17</td>\n      <td>2.59</td>\n      <td>2.37</td>\n      <td>20.0</td>\n      <td>120</td>\n      <td>1.65</td>\n      <td>0.68</td>\n      <td>0.53</td>\n      <td>1.46</td>\n      <td>9.30</td>\n      <td>0.60</td>\n      <td>1.62</td>\n      <td>840</td>\n    </tr>\n    <tr>\n      <th>177</th>\n      <td>178</td>\n      <td>14.13</td>\n      <td>4.10</td>\n      <td>2.74</td>\n      <td>24.5</td>\n      <td>96</td>\n      <td>2.05</td>\n      <td>0.76</td>\n      <td>0.56</td>\n      <td>1.35</td>\n      <td>9.20</td>\n      <td>0.61</td>\n      <td>1.60</td>\n      <td>560</td>\n    </tr>\n  </tbody>\n</table>\n<p>178 rows × 14 columns</p>\n</div>"
     },
     "execution_count": 3,
     "metadata": {},
     "output_type": "execute_result"
    }
   ],
   "source": [
    "vinos"
   ],
   "metadata": {
    "collapsed": false,
    "ExecuteTime": {
     "end_time": "2025-02-16T07:14:31.030822Z",
     "start_time": "2025-02-16T07:14:31.005036Z"
    }
   },
   "id": "efa109f185bcc348",
   "execution_count": 3
  },
  {
   "cell_type": "code",
   "outputs": [
    {
     "name": "stdout",
     "output_type": "stream",
     "text": [
      "<class 'pandas.core.frame.DataFrame'>\n",
      "RangeIndex: 178 entries, 0 to 177\n",
      "Data columns (total 14 columns):\n",
      " #   Column           Non-Null Count  Dtype  \n",
      "---  ------           --------------  -----  \n",
      " 0   Vino             178 non-null    int64  \n",
      " 1   Alcohol          178 non-null    float64\n",
      " 2   Malic            178 non-null    float64\n",
      " 3   Ash              178 non-null    float64\n",
      " 4   Alcalinity       178 non-null    float64\n",
      " 5   Magnesium        178 non-null    int64  \n",
      " 6   Phenols          178 non-null    float64\n",
      " 7   Flavanoids       178 non-null    float64\n",
      " 8   Nonflavanoids    178 non-null    float64\n",
      " 9   Proanthocyanins  178 non-null    float64\n",
      " 10  Color            178 non-null    float64\n",
      " 11  Hue              178 non-null    float64\n",
      " 12  Dilution         178 non-null    float64\n",
      " 13  Proline          178 non-null    int64  \n",
      "dtypes: float64(11), int64(3)\n",
      "memory usage: 19.6 KB\n"
     ]
    }
   ],
   "source": [
    "vinos.info()"
   ],
   "metadata": {
    "collapsed": false,
    "ExecuteTime": {
     "end_time": "2025-02-16T07:15:47.804998Z",
     "start_time": "2025-02-16T07:15:47.782770Z"
    }
   },
   "id": "91ac6ad7a1625504",
   "execution_count": 4
  },
  {
   "cell_type": "code",
   "outputs": [],
   "source": [
    "vinos_variables=vinos.drop(['Vino'], axis=1)"
   ],
   "metadata": {
    "collapsed": false,
    "ExecuteTime": {
     "end_time": "2025-02-16T07:17:52.267628Z",
     "start_time": "2025-02-16T07:17:52.250074Z"
    }
   },
   "id": "41e868e6fc16037c",
   "execution_count": 6
  },
  {
   "cell_type": "markdown",
   "source": [
    "Obtenemos los Estadísticos Descriptivos de vinos"
   ],
   "metadata": {
    "collapsed": false
   },
   "id": "f0c3fe1d6b510a55"
  },
  {
   "cell_type": "code",
   "outputs": [
    {
     "data": {
      "text/plain": "          Alcohol       Malic         Ash  Alcalinity   Magnesium     Phenols  \\\ncount  178.000000  178.000000  178.000000  178.000000  178.000000  178.000000   \nmean    13.000618    2.336348    2.366517   19.494944   99.741573    2.295112   \nstd      0.811827    1.117146    0.274344    3.339564   14.282484    0.625851   \nmin     11.030000    0.740000    1.360000   10.600000   70.000000    0.980000   \n25%     12.362500    1.602500    2.210000   17.200000   88.000000    1.742500   \n50%     13.050000    1.865000    2.360000   19.500000   98.000000    2.355000   \n75%     13.677500    3.082500    2.557500   21.500000  107.000000    2.800000   \nmax     14.830000    5.800000    3.230000   30.000000  162.000000    3.880000   \n\n       Flavanoids  Nonflavanoids  Proanthocyanins       Color         Hue  \\\ncount  178.000000     178.000000       178.000000  178.000000  178.000000   \nmean     2.029270       0.361854         1.590899    5.058090    0.957449   \nstd      0.998859       0.124453         0.572359    2.318286    0.228572   \nmin      0.340000       0.130000         0.410000    1.280000    0.480000   \n25%      1.205000       0.270000         1.250000    3.220000    0.782500   \n50%      2.135000       0.340000         1.555000    4.690000    0.965000   \n75%      2.875000       0.437500         1.950000    6.200000    1.120000   \nmax      5.080000       0.660000         3.580000   13.000000    1.710000   \n\n         Dilution      Proline  \ncount  178.000000   178.000000  \nmean     2.611685   746.893258  \nstd      0.709990   314.907474  \nmin      1.270000   278.000000  \n25%      1.937500   500.500000  \n50%      2.780000   673.500000  \n75%      3.170000   985.000000  \nmax      4.000000  1680.000000  ",
      "text/html": "<div>\n<style scoped>\n    .dataframe tbody tr th:only-of-type {\n        vertical-align: middle;\n    }\n\n    .dataframe tbody tr th {\n        vertical-align: top;\n    }\n\n    .dataframe thead th {\n        text-align: right;\n    }\n</style>\n<table border=\"1\" class=\"dataframe\">\n  <thead>\n    <tr style=\"text-align: right;\">\n      <th></th>\n      <th>Alcohol</th>\n      <th>Malic</th>\n      <th>Ash</th>\n      <th>Alcalinity</th>\n      <th>Magnesium</th>\n      <th>Phenols</th>\n      <th>Flavanoids</th>\n      <th>Nonflavanoids</th>\n      <th>Proanthocyanins</th>\n      <th>Color</th>\n      <th>Hue</th>\n      <th>Dilution</th>\n      <th>Proline</th>\n    </tr>\n  </thead>\n  <tbody>\n    <tr>\n      <th>count</th>\n      <td>178.000000</td>\n      <td>178.000000</td>\n      <td>178.000000</td>\n      <td>178.000000</td>\n      <td>178.000000</td>\n      <td>178.000000</td>\n      <td>178.000000</td>\n      <td>178.000000</td>\n      <td>178.000000</td>\n      <td>178.000000</td>\n      <td>178.000000</td>\n      <td>178.000000</td>\n      <td>178.000000</td>\n    </tr>\n    <tr>\n      <th>mean</th>\n      <td>13.000618</td>\n      <td>2.336348</td>\n      <td>2.366517</td>\n      <td>19.494944</td>\n      <td>99.741573</td>\n      <td>2.295112</td>\n      <td>2.029270</td>\n      <td>0.361854</td>\n      <td>1.590899</td>\n      <td>5.058090</td>\n      <td>0.957449</td>\n      <td>2.611685</td>\n      <td>746.893258</td>\n    </tr>\n    <tr>\n      <th>std</th>\n      <td>0.811827</td>\n      <td>1.117146</td>\n      <td>0.274344</td>\n      <td>3.339564</td>\n      <td>14.282484</td>\n      <td>0.625851</td>\n      <td>0.998859</td>\n      <td>0.124453</td>\n      <td>0.572359</td>\n      <td>2.318286</td>\n      <td>0.228572</td>\n      <td>0.709990</td>\n      <td>314.907474</td>\n    </tr>\n    <tr>\n      <th>min</th>\n      <td>11.030000</td>\n      <td>0.740000</td>\n      <td>1.360000</td>\n      <td>10.600000</td>\n      <td>70.000000</td>\n      <td>0.980000</td>\n      <td>0.340000</td>\n      <td>0.130000</td>\n      <td>0.410000</td>\n      <td>1.280000</td>\n      <td>0.480000</td>\n      <td>1.270000</td>\n      <td>278.000000</td>\n    </tr>\n    <tr>\n      <th>25%</th>\n      <td>12.362500</td>\n      <td>1.602500</td>\n      <td>2.210000</td>\n      <td>17.200000</td>\n      <td>88.000000</td>\n      <td>1.742500</td>\n      <td>1.205000</td>\n      <td>0.270000</td>\n      <td>1.250000</td>\n      <td>3.220000</td>\n      <td>0.782500</td>\n      <td>1.937500</td>\n      <td>500.500000</td>\n    </tr>\n    <tr>\n      <th>50%</th>\n      <td>13.050000</td>\n      <td>1.865000</td>\n      <td>2.360000</td>\n      <td>19.500000</td>\n      <td>98.000000</td>\n      <td>2.355000</td>\n      <td>2.135000</td>\n      <td>0.340000</td>\n      <td>1.555000</td>\n      <td>4.690000</td>\n      <td>0.965000</td>\n      <td>2.780000</td>\n      <td>673.500000</td>\n    </tr>\n    <tr>\n      <th>75%</th>\n      <td>13.677500</td>\n      <td>3.082500</td>\n      <td>2.557500</td>\n      <td>21.500000</td>\n      <td>107.000000</td>\n      <td>2.800000</td>\n      <td>2.875000</td>\n      <td>0.437500</td>\n      <td>1.950000</td>\n      <td>6.200000</td>\n      <td>1.120000</td>\n      <td>3.170000</td>\n      <td>985.000000</td>\n    </tr>\n    <tr>\n      <th>max</th>\n      <td>14.830000</td>\n      <td>5.800000</td>\n      <td>3.230000</td>\n      <td>30.000000</td>\n      <td>162.000000</td>\n      <td>3.880000</td>\n      <td>5.080000</td>\n      <td>0.660000</td>\n      <td>3.580000</td>\n      <td>13.000000</td>\n      <td>1.710000</td>\n      <td>4.000000</td>\n      <td>1680.000000</td>\n    </tr>\n  </tbody>\n</table>\n</div>"
     },
     "execution_count": 7,
     "metadata": {},
     "output_type": "execute_result"
    }
   ],
   "source": [
    "vinos_variables.describe()"
   ],
   "metadata": {
    "collapsed": false,
    "ExecuteTime": {
     "end_time": "2025-02-16T07:18:34.291215Z",
     "start_time": "2025-02-16T07:18:34.258837Z"
    }
   },
   "id": "deced6cf4231e05",
   "execution_count": 7
  },
  {
   "cell_type": "markdown",
   "source": [
    "### Normalizamos los valores de las características"
   ],
   "metadata": {
    "collapsed": false
   },
   "id": "1ebc7a6abf038ca4"
  },
  {
   "cell_type": "code",
   "outputs": [
    {
     "data": {
      "text/plain": "      Alcohol     Malic       Ash  Alcalinity  Magnesium   Phenols  \\\n0    0.842105  0.191700  0.572193    0.257732   0.619565  0.627586   \n1    0.571053  0.205534  0.417112    0.030928   0.326087  0.575862   \n2    0.560526  0.320158  0.700535    0.412371   0.336957  0.627586   \n3    0.878947  0.239130  0.609626    0.319588   0.467391  0.989655   \n4    0.581579  0.365613  0.807487    0.536082   0.521739  0.627586   \n..        ...       ...       ...         ...        ...       ...   \n173  0.705263  0.970356  0.582888    0.510309   0.271739  0.241379   \n174  0.623684  0.626482  0.598930    0.639175   0.347826  0.282759   \n175  0.589474  0.699605  0.481283    0.484536   0.543478  0.210345   \n176  0.563158  0.365613  0.540107    0.484536   0.543478  0.231034   \n177  0.815789  0.664032  0.737968    0.716495   0.282609  0.368966   \n\n     Flavanoids  Nonflavanoids  Proanthocyanins     Color       Hue  Dilution  \\\n0      0.573840       0.283019         0.593060  0.372014  0.455285  0.970696   \n1      0.510549       0.245283         0.274448  0.264505  0.463415  0.780220   \n2      0.611814       0.320755         0.757098  0.375427  0.447154  0.695971   \n3      0.664557       0.207547         0.558360  0.556314  0.308943  0.798535   \n4      0.495781       0.490566         0.444795  0.259386  0.455285  0.608059   \n..          ...            ...              ...       ...       ...       ...   \n173    0.056962       0.735849         0.205047  0.547782  0.130081  0.172161   \n174    0.086498       0.566038         0.315457  0.513652  0.178862  0.106227   \n175    0.073840       0.566038         0.296530  0.761092  0.089431  0.106227   \n176    0.071730       0.754717         0.331230  0.684300  0.097561  0.128205   \n177    0.088608       0.811321         0.296530  0.675768  0.105691  0.120879   \n\n      Proline  \n0    0.561341  \n1    0.550642  \n2    0.646933  \n3    0.857347  \n4    0.325963  \n..        ...  \n173  0.329529  \n174  0.336662  \n175  0.397290  \n176  0.400856  \n177  0.201141  \n\n[178 rows x 13 columns]",
      "text/html": "<div>\n<style scoped>\n    .dataframe tbody tr th:only-of-type {\n        vertical-align: middle;\n    }\n\n    .dataframe tbody tr th {\n        vertical-align: top;\n    }\n\n    .dataframe thead th {\n        text-align: right;\n    }\n</style>\n<table border=\"1\" class=\"dataframe\">\n  <thead>\n    <tr style=\"text-align: right;\">\n      <th></th>\n      <th>Alcohol</th>\n      <th>Malic</th>\n      <th>Ash</th>\n      <th>Alcalinity</th>\n      <th>Magnesium</th>\n      <th>Phenols</th>\n      <th>Flavanoids</th>\n      <th>Nonflavanoids</th>\n      <th>Proanthocyanins</th>\n      <th>Color</th>\n      <th>Hue</th>\n      <th>Dilution</th>\n      <th>Proline</th>\n    </tr>\n  </thead>\n  <tbody>\n    <tr>\n      <th>0</th>\n      <td>0.842105</td>\n      <td>0.191700</td>\n      <td>0.572193</td>\n      <td>0.257732</td>\n      <td>0.619565</td>\n      <td>0.627586</td>\n      <td>0.573840</td>\n      <td>0.283019</td>\n      <td>0.593060</td>\n      <td>0.372014</td>\n      <td>0.455285</td>\n      <td>0.970696</td>\n      <td>0.561341</td>\n    </tr>\n    <tr>\n      <th>1</th>\n      <td>0.571053</td>\n      <td>0.205534</td>\n      <td>0.417112</td>\n      <td>0.030928</td>\n      <td>0.326087</td>\n      <td>0.575862</td>\n      <td>0.510549</td>\n      <td>0.245283</td>\n      <td>0.274448</td>\n      <td>0.264505</td>\n      <td>0.463415</td>\n      <td>0.780220</td>\n      <td>0.550642</td>\n    </tr>\n    <tr>\n      <th>2</th>\n      <td>0.560526</td>\n      <td>0.320158</td>\n      <td>0.700535</td>\n      <td>0.412371</td>\n      <td>0.336957</td>\n      <td>0.627586</td>\n      <td>0.611814</td>\n      <td>0.320755</td>\n      <td>0.757098</td>\n      <td>0.375427</td>\n      <td>0.447154</td>\n      <td>0.695971</td>\n      <td>0.646933</td>\n    </tr>\n    <tr>\n      <th>3</th>\n      <td>0.878947</td>\n      <td>0.239130</td>\n      <td>0.609626</td>\n      <td>0.319588</td>\n      <td>0.467391</td>\n      <td>0.989655</td>\n      <td>0.664557</td>\n      <td>0.207547</td>\n      <td>0.558360</td>\n      <td>0.556314</td>\n      <td>0.308943</td>\n      <td>0.798535</td>\n      <td>0.857347</td>\n    </tr>\n    <tr>\n      <th>4</th>\n      <td>0.581579</td>\n      <td>0.365613</td>\n      <td>0.807487</td>\n      <td>0.536082</td>\n      <td>0.521739</td>\n      <td>0.627586</td>\n      <td>0.495781</td>\n      <td>0.490566</td>\n      <td>0.444795</td>\n      <td>0.259386</td>\n      <td>0.455285</td>\n      <td>0.608059</td>\n      <td>0.325963</td>\n    </tr>\n    <tr>\n      <th>...</th>\n      <td>...</td>\n      <td>...</td>\n      <td>...</td>\n      <td>...</td>\n      <td>...</td>\n      <td>...</td>\n      <td>...</td>\n      <td>...</td>\n      <td>...</td>\n      <td>...</td>\n      <td>...</td>\n      <td>...</td>\n      <td>...</td>\n    </tr>\n    <tr>\n      <th>173</th>\n      <td>0.705263</td>\n      <td>0.970356</td>\n      <td>0.582888</td>\n      <td>0.510309</td>\n      <td>0.271739</td>\n      <td>0.241379</td>\n      <td>0.056962</td>\n      <td>0.735849</td>\n      <td>0.205047</td>\n      <td>0.547782</td>\n      <td>0.130081</td>\n      <td>0.172161</td>\n      <td>0.329529</td>\n    </tr>\n    <tr>\n      <th>174</th>\n      <td>0.623684</td>\n      <td>0.626482</td>\n      <td>0.598930</td>\n      <td>0.639175</td>\n      <td>0.347826</td>\n      <td>0.282759</td>\n      <td>0.086498</td>\n      <td>0.566038</td>\n      <td>0.315457</td>\n      <td>0.513652</td>\n      <td>0.178862</td>\n      <td>0.106227</td>\n      <td>0.336662</td>\n    </tr>\n    <tr>\n      <th>175</th>\n      <td>0.589474</td>\n      <td>0.699605</td>\n      <td>0.481283</td>\n      <td>0.484536</td>\n      <td>0.543478</td>\n      <td>0.210345</td>\n      <td>0.073840</td>\n      <td>0.566038</td>\n      <td>0.296530</td>\n      <td>0.761092</td>\n      <td>0.089431</td>\n      <td>0.106227</td>\n      <td>0.397290</td>\n    </tr>\n    <tr>\n      <th>176</th>\n      <td>0.563158</td>\n      <td>0.365613</td>\n      <td>0.540107</td>\n      <td>0.484536</td>\n      <td>0.543478</td>\n      <td>0.231034</td>\n      <td>0.071730</td>\n      <td>0.754717</td>\n      <td>0.331230</td>\n      <td>0.684300</td>\n      <td>0.097561</td>\n      <td>0.128205</td>\n      <td>0.400856</td>\n    </tr>\n    <tr>\n      <th>177</th>\n      <td>0.815789</td>\n      <td>0.664032</td>\n      <td>0.737968</td>\n      <td>0.716495</td>\n      <td>0.282609</td>\n      <td>0.368966</td>\n      <td>0.088608</td>\n      <td>0.811321</td>\n      <td>0.296530</td>\n      <td>0.675768</td>\n      <td>0.105691</td>\n      <td>0.120879</td>\n      <td>0.201141</td>\n    </tr>\n  </tbody>\n</table>\n<p>178 rows × 13 columns</p>\n</div>"
     },
     "execution_count": 8,
     "metadata": {},
     "output_type": "execute_result"
    }
   ],
   "source": [
    "vinos_norm=(vinos_variables-vinos_variables.min())/(vinos_variables.max()-vinos_variables.min())\n",
    "vinos_norm"
   ],
   "metadata": {
    "collapsed": false,
    "ExecuteTime": {
     "end_time": "2025-02-16T07:21:28.443631Z",
     "start_time": "2025-02-16T07:21:28.424168Z"
    }
   },
   "id": "ffe3d34899c2d35a",
   "execution_count": 8
  },
  {
   "cell_type": "code",
   "outputs": [
    {
     "data": {
      "text/plain": "          Alcohol       Malic         Ash  Alcalinity   Magnesium     Phenols  \\\ncount  178.000000  178.000000  178.000000  178.000000  178.000000  178.000000   \nmean     0.518584    0.315484    0.538244    0.458502    0.323278    0.453487   \nstd      0.213639    0.220780    0.146708    0.172142    0.155244    0.215811   \nmin      0.000000    0.000000    0.000000    0.000000    0.000000    0.000000   \n25%      0.350658    0.170455    0.454545    0.340206    0.195652    0.262931   \n50%      0.531579    0.222332    0.534759    0.458763    0.304348    0.474138   \n75%      0.696711    0.462945    0.640374    0.561856    0.402174    0.627586   \nmax      1.000000    1.000000    1.000000    1.000000    1.000000    1.000000   \n\n       Flavanoids  Nonflavanoids  Proanthocyanins       Color         Hue  \\\ncount  178.000000     178.000000       178.000000  178.000000  178.000000   \nmean     0.356386       0.437460         0.372523    0.322363    0.388170   \nstd      0.210730       0.234818         0.180555    0.197806    0.185831   \nmin      0.000000       0.000000         0.000000    0.000000    0.000000   \n25%      0.182489       0.264151         0.264984    0.165529    0.245935   \n50%      0.378692       0.396226         0.361199    0.290956    0.394309   \n75%      0.534810       0.580189         0.485804    0.419795    0.520325   \nmax      1.000000       1.000000         1.000000    1.000000    1.000000   \n\n         Dilution     Proline  \ncount  178.000000  178.000000  \nmean     0.491460    0.334446  \nstd      0.260070    0.224613  \nmin      0.000000    0.000000  \n25%      0.244505    0.158702  \n50%      0.553114    0.282097  \n75%      0.695971    0.504280  \nmax      1.000000    1.000000  ",
      "text/html": "<div>\n<style scoped>\n    .dataframe tbody tr th:only-of-type {\n        vertical-align: middle;\n    }\n\n    .dataframe tbody tr th {\n        vertical-align: top;\n    }\n\n    .dataframe thead th {\n        text-align: right;\n    }\n</style>\n<table border=\"1\" class=\"dataframe\">\n  <thead>\n    <tr style=\"text-align: right;\">\n      <th></th>\n      <th>Alcohol</th>\n      <th>Malic</th>\n      <th>Ash</th>\n      <th>Alcalinity</th>\n      <th>Magnesium</th>\n      <th>Phenols</th>\n      <th>Flavanoids</th>\n      <th>Nonflavanoids</th>\n      <th>Proanthocyanins</th>\n      <th>Color</th>\n      <th>Hue</th>\n      <th>Dilution</th>\n      <th>Proline</th>\n    </tr>\n  </thead>\n  <tbody>\n    <tr>\n      <th>count</th>\n      <td>178.000000</td>\n      <td>178.000000</td>\n      <td>178.000000</td>\n      <td>178.000000</td>\n      <td>178.000000</td>\n      <td>178.000000</td>\n      <td>178.000000</td>\n      <td>178.000000</td>\n      <td>178.000000</td>\n      <td>178.000000</td>\n      <td>178.000000</td>\n      <td>178.000000</td>\n      <td>178.000000</td>\n    </tr>\n    <tr>\n      <th>mean</th>\n      <td>0.518584</td>\n      <td>0.315484</td>\n      <td>0.538244</td>\n      <td>0.458502</td>\n      <td>0.323278</td>\n      <td>0.453487</td>\n      <td>0.356386</td>\n      <td>0.437460</td>\n      <td>0.372523</td>\n      <td>0.322363</td>\n      <td>0.388170</td>\n      <td>0.491460</td>\n      <td>0.334446</td>\n    </tr>\n    <tr>\n      <th>std</th>\n      <td>0.213639</td>\n      <td>0.220780</td>\n      <td>0.146708</td>\n      <td>0.172142</td>\n      <td>0.155244</td>\n      <td>0.215811</td>\n      <td>0.210730</td>\n      <td>0.234818</td>\n      <td>0.180555</td>\n      <td>0.197806</td>\n      <td>0.185831</td>\n      <td>0.260070</td>\n      <td>0.224613</td>\n    </tr>\n    <tr>\n      <th>min</th>\n      <td>0.000000</td>\n      <td>0.000000</td>\n      <td>0.000000</td>\n      <td>0.000000</td>\n      <td>0.000000</td>\n      <td>0.000000</td>\n      <td>0.000000</td>\n      <td>0.000000</td>\n      <td>0.000000</td>\n      <td>0.000000</td>\n      <td>0.000000</td>\n      <td>0.000000</td>\n      <td>0.000000</td>\n    </tr>\n    <tr>\n      <th>25%</th>\n      <td>0.350658</td>\n      <td>0.170455</td>\n      <td>0.454545</td>\n      <td>0.340206</td>\n      <td>0.195652</td>\n      <td>0.262931</td>\n      <td>0.182489</td>\n      <td>0.264151</td>\n      <td>0.264984</td>\n      <td>0.165529</td>\n      <td>0.245935</td>\n      <td>0.244505</td>\n      <td>0.158702</td>\n    </tr>\n    <tr>\n      <th>50%</th>\n      <td>0.531579</td>\n      <td>0.222332</td>\n      <td>0.534759</td>\n      <td>0.458763</td>\n      <td>0.304348</td>\n      <td>0.474138</td>\n      <td>0.378692</td>\n      <td>0.396226</td>\n      <td>0.361199</td>\n      <td>0.290956</td>\n      <td>0.394309</td>\n      <td>0.553114</td>\n      <td>0.282097</td>\n    </tr>\n    <tr>\n      <th>75%</th>\n      <td>0.696711</td>\n      <td>0.462945</td>\n      <td>0.640374</td>\n      <td>0.561856</td>\n      <td>0.402174</td>\n      <td>0.627586</td>\n      <td>0.534810</td>\n      <td>0.580189</td>\n      <td>0.485804</td>\n      <td>0.419795</td>\n      <td>0.520325</td>\n      <td>0.695971</td>\n      <td>0.504280</td>\n    </tr>\n    <tr>\n      <th>max</th>\n      <td>1.000000</td>\n      <td>1.000000</td>\n      <td>1.000000</td>\n      <td>1.000000</td>\n      <td>1.000000</td>\n      <td>1.000000</td>\n      <td>1.000000</td>\n      <td>1.000000</td>\n      <td>1.000000</td>\n      <td>1.000000</td>\n      <td>1.000000</td>\n      <td>1.000000</td>\n      <td>1.000000</td>\n    </tr>\n  </tbody>\n</table>\n</div>"
     },
     "execution_count": 9,
     "metadata": {},
     "output_type": "execute_result"
    }
   ],
   "source": [
    "vinos_norm.describe()"
   ],
   "metadata": {
    "collapsed": false,
    "ExecuteTime": {
     "end_time": "2025-02-16T07:22:43.680446Z",
     "start_time": "2025-02-16T07:22:43.642237Z"
    }
   },
   "id": "118a6fb74c71f90e",
   "execution_count": 9
  },
  {
   "cell_type": "markdown",
   "source": [
    "### Búsqueda de la cantidad óptima de clusters"
   ],
   "metadata": {
    "collapsed": false
   },
   "id": "adefc51e9a2d9a4c"
  },
  {
   "cell_type": "code",
   "outputs": [],
   "source": [
    "wcss=[]\n",
    "for i in range(1,11):\n",
    "    kmeans = KMeans(n_clusters=i, max_iter=300)\n",
    "    kmeans.fit(vinos_norm)\n",
    "    wcss.append(kmeans.inertia_)"
   ],
   "metadata": {
    "collapsed": false,
    "ExecuteTime": {
     "end_time": "2025-02-16T07:27:51.687709Z",
     "start_time": "2025-02-16T07:27:51.376328Z"
    }
   },
   "id": "d44fdab1d9f5d579",
   "execution_count": 10
  },
  {
   "cell_type": "code",
   "outputs": [
    {
     "data": {
      "text/plain": "<Figure size 640x480 with 1 Axes>",
      "image/png": "[encoded data removed]"
     },
     "metadata": {},
     "output_type": "display_data"
    }
   ],
   "source": [
    "plt.plot(range(1,11),wcss)\n",
    "plt.title(\"Codo de Jambú\")\n",
    "plt.xlabel(\"Número de Clusters\")\n",
    "plt.ylabel(\"WCSS\")\n",
    "plt.show()"
   ],
   "metadata": {
    "collapsed": false,
    "ExecuteTime": {
     "end_time": "2025-02-16T07:28:43.609866Z",
     "start_time": "2025-02-16T07:28:43.455476Z"
    }
   },
   "id": "b8bac26e85902641",
   "execution_count": 11
  },
  {
   "cell_type": "markdown",
   "source": [
    "### Aplicando el método k-means a la base de datos"
   ],
   "metadata": {
    "collapsed": false
   },
   "id": "8ec9fcf82a2ff6e2"
  },
  {
   "cell_type": "code",
   "outputs": [],
   "source": [],
   "metadata": {
    "collapsed": false
   },
   "id": "22db05ceb22880e4"
  }
 ],
 "metadata": {
  "kernelspec": {
   "display_name": "Python 3",
   "language": "python",
   "name": "python3"
  },
  "language_info": {
   "codemirror_mode": {
    "name": "ipython",
    "version": 2
   },
   "file_extension": ".py",
   "mimetype": "text/x-python",
   "name": "python",
   "nbconvert_exporter": "python",
   "pygments_lexer": "ipython2",
   "version": "2.7.6"
  }
 },
 "nbformat": 4,
 "nbformat_minor": 5
}
