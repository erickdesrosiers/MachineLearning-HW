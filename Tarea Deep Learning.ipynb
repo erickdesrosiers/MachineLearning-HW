{
 "cells": [
  {
   "cell_type": "markdown",
   "source": [
    "## Tarea 2: Construir una red densa capaz de predecir si un trabajador va a renunciar de una compañía.\n"
   ],
   "metadata": {
    "collapsed": false
   },
   "id": "952f7e596055c85b"
  },
  {
   "cell_type": "markdown",
   "source": [
    "### a) Cargado de los datos"
   ],
   "metadata": {
    "collapsed": false
   },
   "id": "ecedb795cfd14e7d"
  },
  {
   "cell_type": "code",
   "outputs": [
    {
     "name": "stderr",
     "output_type": "stream",
     "text": [
      "/Library/Python/3.9/site-packages/urllib3/__init__.py:35: NotOpenSSLWarning: urllib3 v2 only supports OpenSSL 1.1.1+, currently the 'ssl' module is compiled with 'LibreSSL 2.8.3'. See: https://github.com/urllib3/urllib3/issues/3020\n",
      "  warnings.warn(\n"
     ]
    }
   ],
   "source": [
    "import pandas as pd\n",
    "import matplotlib.pyplot as plt\n",
    "import numpy as np\n",
    "from tensorflow import keras\n",
    "from tensorflow.keras import layers"
   ],
   "metadata": {
    "collapsed": true,
    "ExecuteTime": {
     "end_time": "2025-06-13T21:41:30.682545Z",
     "start_time": "2025-06-13T21:41:20.420557Z"
    }
   },
   "id": "initial_id",
   "execution_count": 1
  },
  {
   "cell_type": "code",
   "outputs": [
    {
     "data": {
      "text/plain": "       nivel_satisfaccion  ultima_evaluacion  numero_de_proyecto  \\\n0                    0.38               0.53                   2   \n1                    0.80               0.86                   5   \n2                    0.11               0.88                   7   \n3                    0.72               0.87                   5   \n4                    0.37               0.52                   2   \n...                   ...                ...                 ...   \n14994                0.40               0.57                   2   \n14995                0.37               0.48                   2   \n14996                0.37               0.53                   2   \n14997                0.11               0.96                   6   \n14998                0.37               0.52                   2   \n\n       promedio_horas_mensuales  tiempo_en_la_compania  accidente_de_trabajo  \\\n0                           157                      3                     0   \n1                           262                      6                     0   \n2                           272                      4                     0   \n3                           223                      5                     0   \n4                           159                      3                     0   \n...                         ...                    ...                   ...   \n14994                       151                      3                     0   \n14995                       160                      3                     0   \n14996                       143                      3                     0   \n14997                       280                      4                     0   \n14998                       158                      3                     0   \n\n       renuncia  promocion_ultimos_5anios   ventas salario  \n0             1                         0    sales     low  \n1             1                         0    sales  medium  \n2             1                         0    sales  medium  \n3             1                         0    sales     low  \n4             1                         0    sales     low  \n...         ...                       ...      ...     ...  \n14994         1                         0  support     low  \n14995         1                         0  support     low  \n14996         1                         0  support     low  \n14997         1                         0  support     low  \n14998         1                         0  support     low  \n\n[14999 rows x 10 columns]",
      "text/html": "<div>\n<style scoped>\n    .dataframe tbody tr th:only-of-type {\n        vertical-align: middle;\n    }\n\n    .dataframe tbody tr th {\n        vertical-align: top;\n    }\n\n    .dataframe thead th {\n        text-align: right;\n    }\n</style>\n<table border=\"1\" class=\"dataframe\">\n  <thead>\n    <tr style=\"text-align: right;\">\n      <th></th>\n      <th>nivel_satisfaccion</th>\n      <th>ultima_evaluacion</th>\n      <th>numero_de_proyecto</th>\n      <th>promedio_horas_mensuales</th>\n      <th>tiempo_en_la_compania</th>\n      <th>accidente_de_trabajo</th>\n      <th>renuncia</th>\n      <th>promocion_ultimos_5anios</th>\n      <th>ventas</th>\n      <th>salario</th>\n    </tr>\n  </thead>\n  <tbody>\n    <tr>\n      <th>0</th>\n      <td>0.38</td>\n      <td>0.53</td>\n      <td>2</td>\n      <td>157</td>\n      <td>3</td>\n      <td>0</td>\n      <td>1</td>\n      <td>0</td>\n      <td>sales</td>\n      <td>low</td>\n    </tr>\n    <tr>\n      <th>1</th>\n      <td>0.80</td>\n      <td>0.86</td>\n      <td>5</td>\n      <td>262</td>\n      <td>6</td>\n      <td>0</td>\n      <td>1</td>\n      <td>0</td>\n      <td>sales</td>\n      <td>medium</td>\n    </tr>\n    <tr>\n      <th>2</th>\n      <td>0.11</td>\n      <td>0.88</td>\n      <td>7</td>\n      <td>272</td>\n      <td>4</td>\n      <td>0</td>\n      <td>1</td>\n      <td>0</td>\n      <td>sales</td>\n      <td>medium</td>\n    </tr>\n    <tr>\n      <th>3</th>\n      <td>0.72</td>\n      <td>0.87</td>\n      <td>5</td>\n      <td>223</td>\n      <td>5</td>\n      <td>0</td>\n      <td>1</td>\n      <td>0</td>\n      <td>sales</td>\n      <td>low</td>\n    </tr>\n    <tr>\n      <th>4</th>\n      <td>0.37</td>\n      <td>0.52</td>\n      <td>2</td>\n      <td>159</td>\n      <td>3</td>\n      <td>0</td>\n      <td>1</td>\n      <td>0</td>\n      <td>sales</td>\n      <td>low</td>\n    </tr>\n    <tr>\n      <th>...</th>\n      <td>...</td>\n      <td>...</td>\n      <td>...</td>\n      <td>...</td>\n      <td>...</td>\n      <td>...</td>\n      <td>...</td>\n      <td>...</td>\n      <td>...</td>\n      <td>...</td>\n    </tr>\n    <tr>\n      <th>14994</th>\n      <td>0.40</td>\n      <td>0.57</td>\n      <td>2</td>\n      <td>151</td>\n      <td>3</td>\n      <td>0</td>\n      <td>1</td>\n      <td>0</td>\n      <td>support</td>\n      <td>low</td>\n    </tr>\n    <tr>\n      <th>14995</th>\n      <td>0.37</td>\n      <td>0.48</td>\n      <td>2</td>\n      <td>160</td>\n      <td>3</td>\n      <td>0</td>\n      <td>1</td>\n      <td>0</td>\n      <td>support</td>\n      <td>low</td>\n    </tr>\n    <tr>\n      <th>14996</th>\n      <td>0.37</td>\n      <td>0.53</td>\n      <td>2</td>\n      <td>143</td>\n      <td>3</td>\n      <td>0</td>\n      <td>1</td>\n      <td>0</td>\n      <td>support</td>\n      <td>low</td>\n    </tr>\n    <tr>\n      <th>14997</th>\n      <td>0.11</td>\n      <td>0.96</td>\n      <td>6</td>\n      <td>280</td>\n      <td>4</td>\n      <td>0</td>\n      <td>1</td>\n      <td>0</td>\n      <td>support</td>\n      <td>low</td>\n    </tr>\n    <tr>\n      <th>14998</th>\n      <td>0.37</td>\n      <td>0.52</td>\n      <td>2</td>\n      <td>158</td>\n      <td>3</td>\n      <td>0</td>\n      <td>1</td>\n      <td>0</td>\n      <td>support</td>\n      <td>low</td>\n    </tr>\n  </tbody>\n</table>\n<p>14999 rows × 10 columns</p>\n</div>"
     },
     "execution_count": 2,
     "metadata": {},
     "output_type": "execute_result"
    }
   ],
   "source": [
    "df=pd.read_csv('/Users/erickavendanogarcia/Downloads/renuncias.csv')\n",
    "df "
   ],
   "metadata": {
    "collapsed": false,
    "ExecuteTime": {
     "end_time": "2025-06-13T21:41:30.705398Z",
     "start_time": "2025-06-13T21:41:30.683355Z"
    }
   },
   "id": "363511d9c227e07d",
   "execution_count": 2
  },
  {
   "cell_type": "code",
   "outputs": [
    {
     "data": {
      "text/plain": "renuncia\n0    11428\n1     3571\nName: count, dtype: int64"
     },
     "execution_count": 3,
     "metadata": {},
     "output_type": "execute_result"
    }
   ],
   "source": [
    "df['renuncia'].value_counts()"
   ],
   "metadata": {
    "collapsed": false,
    "ExecuteTime": {
     "end_time": "2025-06-13T21:41:30.710485Z",
     "start_time": "2025-06-13T21:41:30.706200Z"
    }
   },
   "id": "2692667a368ef020",
   "execution_count": 3
  },
  {
   "cell_type": "markdown",
   "source": [
    "### b) En la tabla adjunta se muestra la información de ~15000 trabajadores de una compañía. La columna que servirá como etiqueta se llama \"renuncia\", donde 0 representa que no ha renunciado y 1 que si renunció. Elaborar la red neuronal"
   ],
   "metadata": {
    "collapsed": false
   },
   "id": "1b464cdc46f5772a"
  },
  {
   "cell_type": "code",
   "outputs": [],
   "source": [
    "from sklearn.model_selection import train_test_split\n",
    "\n",
    "# Sabiendo que nuestras etiquetas deben ser las renuncias (será nuestra y) y el resto de parámetros serán la x\n",
    "X = df.drop(columns=['renuncia'])\n",
    "y = df['renuncia']\n"
   ],
   "metadata": {
    "collapsed": false,
    "ExecuteTime": {
     "end_time": "2025-06-13T21:41:31.190659Z",
     "start_time": "2025-06-13T21:41:30.711347Z"
    }
   },
   "id": "a69c9765b1e0d113",
   "execution_count": 4
  },
  {
   "cell_type": "code",
   "outputs": [],
   "source": [
    "from sklearn.preprocessing import StandardScaler\n",
    "from sklearn.preprocessing import OneHotEncoder\n",
    "from sklearn.compose import ColumnTransformer\n",
    "\n",
    "# reprocesamiento: codificamos las variables categóricas y escalar Variables categóricas\n",
    "cat_features = ['ventas', 'salario']\n",
    "# Variables numéricas\n",
    "num_features = list(set(X.columns) - set(cat_features))\n",
    "\n",
    "# Crear un transformador para columnas numéricas y categóricas\n",
    "preprocessor = ColumnTransformer(transformers=[\n",
    "    ('num', StandardScaler(), num_features),\n",
    "    ('cat', OneHotEncoder(), cat_features)\n",
    "])\n"
   ],
   "metadata": {
    "collapsed": false,
    "ExecuteTime": {
     "end_time": "2025-06-13T21:41:31.197459Z",
     "start_time": "2025-06-13T21:41:31.191443Z"
    }
   },
   "id": "859e0f0ebc5fa9ef",
   "execution_count": 5
  },
  {
   "cell_type": "code",
   "outputs": [],
   "source": [
    "# Dividimos los datos\n",
    "X_train, X_test, y_train, y_test = train_test_split(X, y, test_size=0.3, random_state=42, stratify=y)"
   ],
   "metadata": {
    "collapsed": false,
    "ExecuteTime": {
     "end_time": "2025-06-13T21:41:31.206185Z",
     "start_time": "2025-06-13T21:41:31.198542Z"
    }
   },
   "id": "bfaba6d9407c5cd8",
   "execution_count": 6
  },
  {
   "cell_type": "code",
   "outputs": [],
   "source": [
    "X_train_transformed = preprocessor.fit_transform(X_train)\n",
    "X_test_transformed = preprocessor.transform(X_test)\n"
   ],
   "metadata": {
    "collapsed": false,
    "ExecuteTime": {
     "end_time": "2025-06-13T21:41:31.221776Z",
     "start_time": "2025-06-13T21:41:31.207033Z"
    }
   },
   "id": "d7c27698d0cd8ca8",
   "execution_count": 7
  },
  {
   "cell_type": "markdown",
   "source": [
    "### c) Construcción del modelo"
   ],
   "metadata": {
    "collapsed": false
   },
   "id": "bd57ed0a274272b4"
  },
  {
   "cell_type": "code",
   "outputs": [],
   "source": [
    "model = keras.Sequential([\n",
    "    layers.Dense(32, activation=\"relu\"),\n",
    "    #layers.Dropout(0.1),\n",
    "    layers.Dense(16, activation=\"relu\"),\n",
    "    layers.Dense(1, activation=\"sigmoid\")\n",
    "])"
   ],
   "metadata": {
    "collapsed": false,
    "ExecuteTime": {
     "end_time": "2025-06-13T21:41:31.233911Z",
     "start_time": "2025-06-13T21:41:31.225390Z"
    }
   },
   "id": "a86a279130385376",
   "execution_count": 8
  },
  {
   "cell_type": "code",
   "outputs": [],
   "source": [
    "from tensorflow.keras.optimizers import Adam\n",
    "model.compile(optimizer=Adam(learning_rate=0.001),\n",
    "              loss=\"binary_crossentropy\",\n",
    "              metrics=[\"accuracy\"])"
   ],
   "metadata": {
    "collapsed": false,
    "ExecuteTime": {
     "end_time": "2025-06-13T21:41:31.273251Z",
     "start_time": "2025-06-13T21:41:31.234879Z"
    }
   },
   "id": "7ae5405638ee0231",
   "execution_count": 9
  },
  {
   "cell_type": "code",
   "outputs": [
    {
     "name": "stdout",
     "output_type": "stream",
     "text": [
      "Epoch 1/30\n",
      "\u001B[1m329/329\u001B[0m \u001B[32m━━━━━━━━━━━━━━━━━━━━\u001B[0m\u001B[37m\u001B[0m \u001B[1m1s\u001B[0m 835us/step - accuracy: 0.7253 - loss: 0.5238 - val_accuracy: 0.9371 - val_loss: 0.2062\n",
      "Epoch 2/30\n",
      "\u001B[1m329/329\u001B[0m \u001B[32m━━━━━━━━━━━━━━━━━━━━\u001B[0m\u001B[37m\u001B[0m \u001B[1m0s\u001B[0m 547us/step - accuracy: 0.9461 - loss: 0.1905 - val_accuracy: 0.9536 - val_loss: 0.1641\n",
      "Epoch 3/30\n",
      "\u001B[1m329/329\u001B[0m \u001B[32m━━━━━━━━━━━━━━━━━━━━\u001B[0m\u001B[37m\u001B[0m \u001B[1m0s\u001B[0m 551us/step - accuracy: 0.9529 - loss: 0.1577 - val_accuracy: 0.9556 - val_loss: 0.1541\n",
      "Epoch 4/30\n",
      "\u001B[1m329/329\u001B[0m \u001B[32m━━━━━━━━━━━━━━━━━━━━\u001B[0m\u001B[37m\u001B[0m \u001B[1m0s\u001B[0m 544us/step - accuracy: 0.9555 - loss: 0.1485 - val_accuracy: 0.9571 - val_loss: 0.1489\n",
      "Epoch 5/30\n",
      "\u001B[1m329/329\u001B[0m \u001B[32m━━━━━━━━━━━━━━━━━━━━\u001B[0m\u001B[37m\u001B[0m \u001B[1m0s\u001B[0m 513us/step - accuracy: 0.9562 - loss: 0.1525 - val_accuracy: 0.9549 - val_loss: 0.1428\n",
      "Epoch 6/30\n",
      "\u001B[1m329/329\u001B[0m \u001B[32m━━━━━━━━━━━━━━━━━━━━\u001B[0m\u001B[37m\u001B[0m \u001B[1m0s\u001B[0m 518us/step - accuracy: 0.9586 - loss: 0.1334 - val_accuracy: 0.9571 - val_loss: 0.1376\n",
      "Epoch 7/30\n",
      "\u001B[1m329/329\u001B[0m \u001B[32m━━━━━━━━━━━━━━━━━━━━\u001B[0m\u001B[37m\u001B[0m \u001B[1m0s\u001B[0m 513us/step - accuracy: 0.9602 - loss: 0.1358 - val_accuracy: 0.9564 - val_loss: 0.1363\n",
      "Epoch 8/30\n",
      "\u001B[1m329/329\u001B[0m \u001B[32m━━━━━━━━━━━━━━━━━━━━\u001B[0m\u001B[37m\u001B[0m \u001B[1m0s\u001B[0m 517us/step - accuracy: 0.9625 - loss: 0.1262 - val_accuracy: 0.9604 - val_loss: 0.1328\n",
      "Epoch 9/30\n",
      "\u001B[1m329/329\u001B[0m \u001B[32m━━━━━━━━━━━━━━━━━━━━\u001B[0m\u001B[37m\u001B[0m \u001B[1m0s\u001B[0m 509us/step - accuracy: 0.9643 - loss: 0.1171 - val_accuracy: 0.9569 - val_loss: 0.1326\n",
      "Epoch 10/30\n",
      "\u001B[1m329/329\u001B[0m \u001B[32m━━━━━━━━━━━━━━━━━━━━\u001B[0m\u001B[37m\u001B[0m \u001B[1m0s\u001B[0m 516us/step - accuracy: 0.9640 - loss: 0.1158 - val_accuracy: 0.9607 - val_loss: 0.1272\n",
      "Epoch 11/30\n",
      "\u001B[1m329/329\u001B[0m \u001B[32m━━━━━━━━━━━━━━━━━━━━\u001B[0m\u001B[37m\u001B[0m \u001B[1m0s\u001B[0m 512us/step - accuracy: 0.9652 - loss: 0.1165 - val_accuracy: 0.9573 - val_loss: 0.1281\n",
      "Epoch 12/30\n",
      "\u001B[1m329/329\u001B[0m \u001B[32m━━━━━━━━━━━━━━━━━━━━\u001B[0m\u001B[37m\u001B[0m \u001B[1m0s\u001B[0m 517us/step - accuracy: 0.9658 - loss: 0.1141 - val_accuracy: 0.9611 - val_loss: 0.1242\n",
      "Epoch 13/30\n",
      "\u001B[1m329/329\u001B[0m \u001B[32m━━━━━━━━━━━━━━━━━━━━\u001B[0m\u001B[37m\u001B[0m \u001B[1m0s\u001B[0m 525us/step - accuracy: 0.9677 - loss: 0.1110 - val_accuracy: 0.9611 - val_loss: 0.1219\n",
      "Epoch 14/30\n",
      "\u001B[1m329/329\u001B[0m \u001B[32m━━━━━━━━━━━━━━━━━━━━\u001B[0m\u001B[37m\u001B[0m \u001B[1m0s\u001B[0m 1ms/step - accuracy: 0.9665 - loss: 0.1063 - val_accuracy: 0.9620 - val_loss: 0.1183\n",
      "Epoch 15/30\n",
      "\u001B[1m329/329\u001B[0m \u001B[32m━━━━━━━━━━━━━━━━━━━━\u001B[0m\u001B[37m\u001B[0m \u001B[1m0s\u001B[0m 1ms/step - accuracy: 0.9663 - loss: 0.1091 - val_accuracy: 0.9629 - val_loss: 0.1171\n",
      "Epoch 16/30\n",
      "\u001B[1m329/329\u001B[0m \u001B[32m━━━━━━━━━━━━━━━━━━━━\u001B[0m\u001B[37m\u001B[0m \u001B[1m0s\u001B[0m 598us/step - accuracy: 0.9699 - loss: 0.0973 - val_accuracy: 0.9598 - val_loss: 0.1187\n",
      "Epoch 17/30\n",
      "\u001B[1m329/329\u001B[0m \u001B[32m━━━━━━━━━━━━━━━━━━━━\u001B[0m\u001B[37m\u001B[0m \u001B[1m0s\u001B[0m 498us/step - accuracy: 0.9668 - loss: 0.1090 - val_accuracy: 0.9633 - val_loss: 0.1164\n",
      "Epoch 18/30\n",
      "\u001B[1m329/329\u001B[0m \u001B[32m━━━━━━━━━━━━━━━━━━━━\u001B[0m\u001B[37m\u001B[0m \u001B[1m0s\u001B[0m 490us/step - accuracy: 0.9658 - loss: 0.1078 - val_accuracy: 0.9656 - val_loss: 0.1135\n",
      "Epoch 19/30\n",
      "\u001B[1m329/329\u001B[0m \u001B[32m━━━━━━━━━━━━━━━━━━━━\u001B[0m\u001B[37m\u001B[0m \u001B[1m0s\u001B[0m 506us/step - accuracy: 0.9644 - loss: 0.1099 - val_accuracy: 0.9649 - val_loss: 0.1135\n",
      "Epoch 20/30\n",
      "\u001B[1m329/329\u001B[0m \u001B[32m━━━━━━━━━━━━━━━━━━━━\u001B[0m\u001B[37m\u001B[0m \u001B[1m0s\u001B[0m 487us/step - accuracy: 0.9712 - loss: 0.0926 - val_accuracy: 0.9653 - val_loss: 0.1115\n",
      "Epoch 21/30\n",
      "\u001B[1m329/329\u001B[0m \u001B[32m━━━━━━━━━━━━━━━━━━━━\u001B[0m\u001B[37m\u001B[0m \u001B[1m0s\u001B[0m 495us/step - accuracy: 0.9701 - loss: 0.0918 - val_accuracy: 0.9640 - val_loss: 0.1111\n",
      "Epoch 22/30\n",
      "\u001B[1m329/329\u001B[0m \u001B[32m━━━━━━━━━━━━━━━━━━━━\u001B[0m\u001B[37m\u001B[0m \u001B[1m0s\u001B[0m 516us/step - accuracy: 0.9668 - loss: 0.0942 - val_accuracy: 0.9636 - val_loss: 0.1098\n",
      "Epoch 23/30\n",
      "\u001B[1m329/329\u001B[0m \u001B[32m━━━━━━━━━━━━━━━━━━━━\u001B[0m\u001B[37m\u001B[0m \u001B[1m0s\u001B[0m 523us/step - accuracy: 0.9701 - loss: 0.0898 - val_accuracy: 0.9658 - val_loss: 0.1078\n",
      "Epoch 24/30\n",
      "\u001B[1m329/329\u001B[0m \u001B[32m━━━━━━━━━━━━━━━━━━━━\u001B[0m\u001B[37m\u001B[0m \u001B[1m0s\u001B[0m 572us/step - accuracy: 0.9723 - loss: 0.0870 - val_accuracy: 0.9633 - val_loss: 0.1118\n",
      "Epoch 25/30\n",
      "\u001B[1m329/329\u001B[0m \u001B[32m━━━━━━━━━━━━━━━━━━━━\u001B[0m\u001B[37m\u001B[0m \u001B[1m0s\u001B[0m 1ms/step - accuracy: 0.9729 - loss: 0.0919 - val_accuracy: 0.9633 - val_loss: 0.1082\n",
      "Epoch 26/30\n",
      "\u001B[1m329/329\u001B[0m \u001B[32m━━━━━━━━━━━━━━━━━━━━\u001B[0m\u001B[37m\u001B[0m \u001B[1m0s\u001B[0m 741us/step - accuracy: 0.9710 - loss: 0.0887 - val_accuracy: 0.9653 - val_loss: 0.1118\n",
      "Epoch 27/30\n",
      "\u001B[1m329/329\u001B[0m \u001B[32m━━━━━━━━━━━━━━━━━━━━\u001B[0m\u001B[37m\u001B[0m \u001B[1m0s\u001B[0m 697us/step - accuracy: 0.9706 - loss: 0.0869 - val_accuracy: 0.9656 - val_loss: 0.1100\n",
      "Epoch 28/30\n",
      "\u001B[1m329/329\u001B[0m \u001B[32m━━━━━━━━━━━━━━━━━━━━\u001B[0m\u001B[37m\u001B[0m \u001B[1m0s\u001B[0m 494us/step - accuracy: 0.9704 - loss: 0.0886 - val_accuracy: 0.9638 - val_loss: 0.1110\n",
      "Epoch 29/30\n",
      "\u001B[1m329/329\u001B[0m \u001B[32m━━━━━━━━━━━━━━━━━━━━\u001B[0m\u001B[37m\u001B[0m \u001B[1m0s\u001B[0m 479us/step - accuracy: 0.9716 - loss: 0.0882 - val_accuracy: 0.9640 - val_loss: 0.1079\n",
      "Epoch 30/30\n",
      "\u001B[1m329/329\u001B[0m \u001B[32m━━━━━━━━━━━━━━━━━━━━\u001B[0m\u001B[37m\u001B[0m \u001B[1m0s\u001B[0m 511us/step - accuracy: 0.9717 - loss: 0.0830 - val_accuracy: 0.9647 - val_loss: 0.1081\n"
     ]
    }
   ],
   "source": [
    "history = model.fit(X_train_transformed,\n",
    "                    y_train,\n",
    "                    epochs=30,\n",
    "                    batch_size=32,\n",
    "                    validation_data=(X_test_transformed, y_test))"
   ],
   "metadata": {
    "collapsed": false,
    "ExecuteTime": {
     "end_time": "2025-06-13T21:41:38.175236Z",
     "start_time": "2025-06-13T21:41:31.274022Z"
    }
   },
   "id": "e9db873dc2596bc6",
   "execution_count": 10
  },
  {
   "cell_type": "markdown",
   "source": [
    "### d) Graficando los datos de entrenamiento y de perdida"
   ],
   "metadata": {
    "collapsed": false
   },
   "id": "931374fb14ba2844"
  },
  {
   "cell_type": "code",
   "outputs": [
    {
     "data": {
      "text/plain": "<Figure size 640x480 with 1 Axes>",
      "image/png": "[encoded data removed]"
     },
     "metadata": {},
     "output_type": "display_data"
    }
   ],
   "source": [
    "loss = history.history[\"loss\"]\n",
    "val_loss = history.history[\"val_loss\"]\n",
    "epochs = range(1, len(loss) + 1)\n",
    "plt.plot(epochs, loss, \"bo\", label=\"Training loss\")\n",
    "plt.plot(epochs, val_loss, \"b\", label=\"Validation loss\")\n",
    "plt.title(\"Training and validation loss\")\n",
    "plt.xlabel(\"Epochs\")\n",
    "plt.ylabel(\"Loss\")\n",
    "plt.legend()\n",
    "plt.show()"
   ],
   "metadata": {
    "collapsed": false,
    "ExecuteTime": {
     "end_time": "2025-06-13T21:41:38.344448Z",
     "start_time": "2025-06-13T21:41:38.176937Z"
    }
   },
   "id": "636c16db14d8f07c",
   "execution_count": 11
  },
  {
   "cell_type": "code",
   "outputs": [
    {
     "data": {
      "text/plain": "<Figure size 640x480 with 1 Axes>",
      "image/png": "[encoded data removed]"
     },
     "metadata": {},
     "output_type": "display_data"
    }
   ],
   "source": [
    "plt.clf()\n",
    "acc = history.history[\"accuracy\"]\n",
    "val_acc = history.history[\"val_accuracy\"]\n",
    "plt.plot(epochs, acc, \"bo\", label=\"Training accuracy\")\n",
    "plt.plot(epochs, val_acc, \"b\", label=\"Validation accuracy\")\n",
    "plt.title(\"Training and validation accuracy\")\n",
    "plt.xlabel(\"Epochs\")\n",
    "plt.ylabel(\"Accuracy\")\n",
    "plt.legend()\n",
    "plt.show()"
   ],
   "metadata": {
    "collapsed": false,
    "ExecuteTime": {
     "end_time": "2025-06-13T21:41:38.447449Z",
     "start_time": "2025-06-13T21:41:38.346123Z"
    }
   },
   "id": "41a6e47d3a4afea9",
   "execution_count": 12
  },
  {
   "cell_type": "markdown",
   "source": [
    "### e) Un ejemplo particular"
   ],
   "metadata": {
    "collapsed": false
   },
   "id": "ddd1cceb427ce3c8"
  },
  {
   "cell_type": "code",
   "outputs": [],
   "source": [
    "# Ejemplo de trabajador\n",
    "nuevo_empleado1 = pd.DataFrame([{\n",
    "    'nivel_satisfaccion': 0.9,\n",
    "    'ultima_evaluacion': 0.6,\n",
    "    'numero_de_proyecto': 2,\n",
    "    'promedio_horas_mensuales': 196,\n",
    "    'tiempo_en_la_compania': 3,\n",
    "    'accidente_de_trabajo': 1,\n",
    "    'promocion_ultimos_5anios': 0,\n",
    "    'ventas': 'sales',\n",
    "    'salario': 'low'\n",
    "}])\n",
    "\n",
    "nuevo_empleado_transformado = preprocessor.transform(nuevo_empleado1)"
   ],
   "metadata": {
    "collapsed": false,
    "ExecuteTime": {
     "end_time": "2025-06-13T21:41:38.460938Z",
     "start_time": "2025-06-13T21:41:38.448617Z"
    }
   },
   "id": "5c750ccc5a4c468b",
   "execution_count": 13
  },
  {
   "cell_type": "code",
   "outputs": [
    {
     "name": "stdout",
     "output_type": "stream",
     "text": [
      "\u001B[1m1/1\u001B[0m \u001B[32m━━━━━━━━━━━━━━━━━━━━\u001B[0m\u001B[37m\u001B[0m \u001B[1m0s\u001B[0m 23ms/step\n",
      "Probabilidad de que renuncie: 0.00\n",
      "¿Renunciará? No\n"
     ]
    }
   ],
   "source": [
    "# Hacer la predicción (probabilidad de renuncia)\n",
    "prediccion = model.predict(nuevo_empleado_transformado)\n",
    "\n",
    "# Mostrar la probabilidad\n",
    "print(f'Probabilidad de que renuncie: {prediccion[0][0]:.2f}')\n",
    "\n",
    "\n",
    "clase = int(prediccion[0][0] > 0.5)\n",
    "print(f'¿Renunciará? {\"Sí\" if clase == 1 else \"No\"}')\n"
   ],
   "metadata": {
    "collapsed": false,
    "ExecuteTime": {
     "end_time": "2025-06-13T21:41:38.519534Z",
     "start_time": "2025-06-13T21:41:38.462434Z"
    }
   },
   "id": "bc6375a7fdfbb4d0",
   "execution_count": 14
  },
  {
   "cell_type": "code",
   "outputs": [],
   "source": [],
   "metadata": {
    "collapsed": false,
    "ExecuteTime": {
     "end_time": "2025-06-13T21:41:38.524197Z",
     "start_time": "2025-06-13T21:41:38.521942Z"
    }
   },
   "id": "a29fa29a6428cfd8",
   "execution_count": 14
  }
 ],
 "metadata": {
  "kernelspec": {
   "display_name": "Python 3",
   "language": "python",
   "name": "python3"
  },
  "language_info": {
   "codemirror_mode": {
    "name": "ipython",
    "version": 2
   },
   "file_extension": ".py",
   "mimetype": "text/x-python",
   "name": "python",
   "nbconvert_exporter": "python",
   "pygments_lexer": "ipython2",
   "version": "2.7.6"
  }
 },
 "nbformat": 4,
 "nbformat_minor": 5
}
