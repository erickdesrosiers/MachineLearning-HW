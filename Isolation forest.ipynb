{
 "cells": [
  {
   "cell_type": "markdown",
   "source": [
    "# Un breve ejercicio de Isolation Forest\n",
    "\n",
    "Es un método para la detección de Outliers, el funcionamiento esencial del algoritmo se basa en hacer cortes aleatorios en los datos para buscar de esa forma aislar los datos que parecen comportarse de manera extraña.\n",
    "\n",
    "El gran contra que noto para este método es que vos de alguna forma tienes que darle la cantidad de datos anómalos que esperas obtener, lo cual es difícil y de alguna forma es \"tantear\" que tanto error esperas tener."
   ],
   "metadata": {
    "collapsed": false
   },
   "id": "ba02e37199fdc827"
  },
  {
   "cell_type": "code",
   "outputs": [],
   "source": [
    "from sklearn.ensemble import IsolationForest\n",
    "from sklearn.datasets import make_blobs\n",
    "from numpy import quantile,where, random\n",
    "import matplotlib.pyplot as plt"
   ],
   "metadata": {
    "collapsed": true,
    "ExecuteTime": {
     "end_time": "2025-07-14T02:25:42.831108Z",
     "start_time": "2025-07-14T02:25:42.418673Z"
    }
   },
   "id": "initial_id",
   "execution_count": 1
  },
  {
   "cell_type": "markdown",
   "source": [
    "-make_blobs crea un conjunto de datos artificiales con forma de clúster (nube de puntos).\n",
    "\n",
    "-Se generan 200 muestras (n_samples=200) alrededor de un solo centro (centers=1) con una dispersión (cluster_std=0.3).\n",
    "\n",
    "-center_box=(20,5) define un rango aleatorio para colocar ese centro.\n",
    "\n",
    "-random.seed(3) fija la semilla para que el experimento sea reproducible."
   ],
   "metadata": {
    "collapsed": false
   },
   "id": "b16e61d0e1ea1345"
  },
  {
   "cell_type": "code",
   "outputs": [],
   "source": [
    "random.seed(3)\n",
    "x,_=make_blobs(n_samples=200, centers=1, cluster_std=.3, center_box=(20,5))"
   ],
   "metadata": {
    "collapsed": false,
    "ExecuteTime": {
     "end_time": "2025-07-14T02:25:42.852582Z",
     "start_time": "2025-07-14T02:25:42.839355Z"
    }
   },
   "id": "7770392db740b086",
   "execution_count": 2
  },
  {
   "cell_type": "markdown",
   "source": [
    "-n_estimators=100: usa 100 árboles para construir el modelo.\n",
    "\n",
    "-contamination=0.02: se espera que el 2% de los datos sean anomalías (es decir, 4 puntos de 200)."
   ],
   "metadata": {
    "collapsed": false
   },
   "id": "867b28a60d6bfa1b"
  },
  {
   "cell_type": "code",
   "outputs": [],
   "source": [
    "iforest=IsolationForest(n_estimators=100, contamination=0.02)"
   ],
   "metadata": {
    "collapsed": false,
    "ExecuteTime": {
     "end_time": "2025-07-14T02:25:42.856665Z",
     "start_time": "2025-07-14T02:25:42.854156Z"
    }
   },
   "id": "c6530a9437b12e6f",
   "execution_count": 3
  },
  {
   "cell_type": "code",
   "outputs": [],
   "source": [
    "pred=iforest.fit_predict(x)"
   ],
   "metadata": {
    "collapsed": false,
    "ExecuteTime": {
     "end_time": "2025-07-14T02:25:42.929337Z",
     "start_time": "2025-07-14T02:25:42.859267Z"
    }
   },
   "id": "b92cbbf53a591bff",
   "execution_count": 4
  },
  {
   "cell_type": "markdown",
   "source": [
    "fit_predict devuelve:\n",
    "\n",
    "1 para datos normales,\n",
    "\n",
    "-1 para anomalías."
   ],
   "metadata": {
    "collapsed": false
   },
   "id": "85bf21c667a40c17"
  },
  {
   "cell_type": "code",
   "outputs": [
    {
     "data": {
      "text/plain": "array([ 1,  1,  1,  1,  1,  1,  1,  1,  1,  1,  1,  1,  1,  1,  1,  1,  1,\n        1,  1,  1,  1,  1,  1,  1,  1,  1,  1,  1,  1,  1,  1,  1,  1,  1,\n        1,  1,  1,  1,  1,  1,  1,  1,  1,  1,  1,  1,  1,  1,  1,  1,  1,\n        1,  1,  1,  1,  1,  1,  1,  1,  1,  1,  1,  1,  1,  1,  1,  1,  1,\n        1,  1,  1,  1,  1,  1,  1,  1,  1,  1,  1,  1,  1,  1,  1,  1,  1,\n        1,  1,  1,  1,  1,  1,  1,  1,  1,  1,  1,  1,  1,  1,  1,  1,  1,\n        1,  1,  1,  1,  1,  1,  1,  1, -1,  1, -1,  1,  1,  1,  1,  1,  1,\n        1,  1,  1,  1,  1,  1,  1,  1,  1,  1,  1,  1,  1, -1,  1,  1,  1,\n        1,  1,  1,  1,  1,  1,  1,  1,  1,  1,  1,  1,  1,  1,  1,  1,  1,\n        1,  1, -1,  1,  1,  1,  1,  1,  1,  1,  1,  1,  1,  1,  1,  1,  1,\n        1,  1,  1,  1,  1,  1,  1,  1,  1,  1,  1,  1,  1,  1,  1,  1,  1,\n        1,  1,  1,  1,  1,  1,  1,  1,  1,  1,  1,  1,  1])"
     },
     "execution_count": 5,
     "metadata": {},
     "output_type": "execute_result"
    }
   ],
   "source": [
    "pred "
   ],
   "metadata": {
    "collapsed": false,
    "ExecuteTime": {
     "end_time": "2025-07-14T02:25:42.933957Z",
     "start_time": "2025-07-14T02:25:42.930096Z"
    }
   },
   "id": "6dd589bd6cfd4f4c",
   "execution_count": 5
  },
  {
   "cell_type": "code",
   "outputs": [],
   "source": [
    "anom_index= where(pred==-1)\n",
    "values= x[anom_index]"
   ],
   "metadata": {
    "collapsed": false,
    "ExecuteTime": {
     "end_time": "2025-07-14T02:25:42.939342Z",
     "start_time": "2025-07-14T02:25:42.935638Z"
    }
   },
   "id": "3e78244fe23bfc38",
   "execution_count": 6
  },
  {
   "cell_type": "code",
   "outputs": [
    {
     "data": {
      "text/plain": "<Figure size 640x480 with 1 Axes>",
      "image/png": "[encoded data removed]"
     },
     "metadata": {},
     "output_type": "display_data"
    }
   ],
   "source": [
    "plt.scatter(x[:,0],x[:,1])\n",
    "plt.scatter(values[:,0],values[:,1],color='r')\n",
    "plt.show()"
   ],
   "metadata": {
    "collapsed": false,
    "ExecuteTime": {
     "end_time": "2025-07-14T02:25:43.051152Z",
     "start_time": "2025-07-14T02:25:42.941888Z"
    }
   },
   "id": "474bb3b859ccde66",
   "execution_count": 7
  },
  {
   "cell_type": "code",
   "outputs": [
    {
     "data": {
      "text/plain": "(array([110, 112, 132, 155]),)"
     },
     "execution_count": 8,
     "metadata": {},
     "output_type": "execute_result"
    }
   ],
   "source": [
    "anom_index"
   ],
   "metadata": {
    "collapsed": false,
    "ExecuteTime": {
     "end_time": "2025-07-14T02:25:43.056110Z",
     "start_time": "2025-07-14T02:25:43.052378Z"
    }
   },
   "id": "5f7a307538c65d92",
   "execution_count": 8
  },
  {
   "cell_type": "markdown",
   "source": [
    "## DeepAR"
   ],
   "metadata": {
    "collapsed": false
   },
   "id": "3230cb8ee2ceab64"
  },
  {
   "cell_type": "markdown",
   "source": [
    "Para el uso de series temporales he encontrado la herramienta llamada DeepAR. DeepAR es una herramienta de AWS que permite realizar forecasting de series temporales y realizar una mejor detección de datos anómalos para su estudio, amazon utiliza Isolation Forest pero han perfeccionado la técnica para sus modelos de negocio, convirtiendola en una herramienta interesante. Veámos cómo funciona:"
   ],
   "metadata": {
    "collapsed": false
   },
   "id": "8dda273be1f106f7"
  },
  {
   "cell_type": "code",
   "outputs": [],
   "source": [],
   "metadata": {
    "collapsed": false,
    "ExecuteTime": {
     "end_time": "2025-07-14T02:25:43.059423Z",
     "start_time": "2025-07-14T02:25:43.056940Z"
    }
   },
   "id": "8dc054d4bd8e83f4",
   "execution_count": 8
  }
 ],
 "metadata": {
  "kernelspec": {
   "display_name": "Python 3",
   "language": "python",
   "name": "python3"
  },
  "language_info": {
   "codemirror_mode": {
    "name": "ipython",
    "version": 2
   },
   "file_extension": ".py",
   "mimetype": "text/x-python",
   "name": "python",
   "nbconvert_exporter": "python",
   "pygments_lexer": "ipython2",
   "version": "2.7.6"
  }
 },
 "nbformat": 4,
 "nbformat_minor": 5
}
